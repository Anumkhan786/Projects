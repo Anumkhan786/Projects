{
 "cells": [
  {
   "cell_type": "markdown",
   "id": "1a198518",
   "metadata": {},
   "source": [
    "# Assignment 01 - Python Programming Foundations using Jupyter Notebook\n",
    "**Name:** Anum  \n",
    "**Course:** Basics of Python  \n",
    "**Date:** 07 July 2025  \n",
    "\n",
    "---\n",
    "\n",
    "This notebook implements all sections of the PDF tutorial. Each section includes:\n",
    "- Code examples\n",
    "- Output cells (where applicable)\n",
    "- Markdown explanations\n",
    "- Error handling and fixes (if any)\n"
   ]
  },
  {
   "cell_type": "markdown",
   "id": "a283b6a7",
   "metadata": {},
   "source": [
    "## 1. Introduction to Python"
   ]
  },
  {
   "cell_type": "code",
   "execution_count": null,
   "id": "b61a293c",
   "metadata": {},
   "outputs": [],
   "source": [
    "# Python is open-source and widely used in data analytics\n",
    "print(\"Hello, Python World!\")"
   ]
  },
  {
   "cell_type": "markdown",
   "id": "45cc6a29",
   "metadata": {},
   "source": [
    "Python is a versatile programming language known for its simplicity and wide range of libraries. It is interpreted, open-source, and widely used in data analysis, web development, and automation tasks."
   ]
  },
  {
   "cell_type": "markdown",
   "id": "bda2be22",
   "metadata": {},
   "source": [
    "## 2. Data Types in Python\n",
    "Python supports multiple data types like variables, numbers, strings, lists, dictionaries, tuples, and sets."
   ]
  },
  {
   "cell_type": "markdown",
   "id": "04107207-238a-4391-8bbc-fc4ee29db860",
   "metadata": {},
   "source": [
    "## 2.1  Variables and Numbers"
   ]
  },
  {
   "cell_type": "code",
   "execution_count": 9,
   "id": "f13402b0-4815-42e4-a390-5d8e962c1696",
   "metadata": {},
   "outputs": [
    {
     "name": "stdout",
     "output_type": "stream",
     "text": [
      "100.0\n",
      "100\n",
      "Mehvish\n"
     ]
    }
   ],
   "source": [
    "# Variables\n",
    "counter = 100.00  # float type\n",
    "miles = 100       # integer type\n",
    "name = \"Mehvish\"  # string type\n",
    "print(counter)\n",
    "print(miles)\n",
    "print(name)"
   ]
  },
  {
   "cell_type": "markdown",
   "id": "20aa84e1-a7d4-4d24-bbea-6e3fe0952485",
   "metadata": {},
   "source": [
    "## 2.2 Numbers\n",
    "\n",
    "This data type stores numeric values.  \n",
    "They are **immutable** data types (i.e., changing the value of a Number data type results in a **newly allocated object**).\n",
    "\n",
    "Some examples are given below"
   ]
  },
  {
   "cell_type": "code",
   "execution_count": 18,
   "id": "63e4d82d-413b-442b-bb44-ba016b92d2b2",
   "metadata": {},
   "outputs": [
    {
     "data": {
      "text/plain": [
       "2"
      ]
     },
     "execution_count": 18,
     "metadata": {},
     "output_type": "execute_result"
    }
   ],
   "source": [
    "2 #integer"
   ]
  },
  {
   "cell_type": "code",
   "execution_count": 20,
   "id": "8f483c39-5e0f-43ea-9984-f8bbfb3b3f66",
   "metadata": {},
   "outputs": [
    {
     "data": {
      "text/plain": [
       "5"
      ]
     },
     "execution_count": 20,
     "metadata": {},
     "output_type": "execute_result"
    }
   ],
   "source": [
    " 2+3 #integer"
   ]
  },
  {
   "cell_type": "code",
   "execution_count": 22,
   "id": "780f3801-f9c8-4c4c-b6d4-b779547376b3",
   "metadata": {},
   "outputs": [
    {
     "data": {
      "text/plain": [
       "7.8"
      ]
     },
     "execution_count": 22,
     "metadata": {},
     "output_type": "execute_result"
    }
   ],
   "source": [
    "2.3+5.5 #float"
   ]
  },
  {
   "cell_type": "code",
   "execution_count": 34,
   "id": "4124beb2-fa6f-42ae-9965-3a14b590fd4b",
   "metadata": {},
   "outputs": [
    {
     "data": {
      "text/plain": [
       "4"
      ]
     },
     "execution_count": 34,
     "metadata": {},
     "output_type": "execute_result"
    }
   ],
   "source": [
    "2**2 #exponent "
   ]
  },
  {
   "cell_type": "markdown",
   "id": "3e24c0ef-e5df-4bea-9ac0-762c8a40b3a2",
   "metadata": {},
   "source": [
    "## 2.3 Strings \n",
    "String data types are used to store words or combination of words having letters, numbers, special characters etc.\n",
    " It can be stored by enclosing within single qoutes and double qoutes also.\n",
    " Python doesn't support char data type. It will be as String of length one in Python. "
   ]
  },
  {
   "cell_type": "code",
   "execution_count": 29,
   "id": "3b819133-a40c-4c56-ad68-cd38af5106e7",
   "metadata": {},
   "outputs": [
    {
     "name": "stdout",
     "output_type": "stream",
     "text": [
      "Mehvish COMSATS\n"
     ]
    }
   ],
   "source": [
    "name = 'Mehvish'\n",
    "university = \"COMSATS\"\n",
    "print(name,university)"
   ]
  },
  {
   "cell_type": "markdown",
   "id": "e5c2179a-1e99-40cc-ba20-397f0af5b984",
   "metadata": {},
   "source": [
    "## Access values in String \n",
    "Python doesn't support Character data type. These are treated as Strings of length one.\n",
    " Square brackets are used to access substrings.\n",
    " We can access a specific character or range of characters from string. "
   ]
  },
  {
   "cell_type": "code",
   "execution_count": 32,
   "id": "a795b219-79ca-4171-a47b-454f260369a5",
   "metadata": {},
   "outputs": [
    {
     "name": "stdout",
     "output_type": "stream",
     "text": [
      "stringVariable[0]: H\n",
      "stringVariable[1:5]: ello\n"
     ]
    }
   ],
   "source": [
    "stringVariable = 'Hello World'\n",
    "print(\"stringVariable[0]:\", stringVariable[0]) \n",
    "print(\"stringVariable[1:5]:\", stringVariable[1:5])"
   ]
  },
  {
   "cell_type": "markdown",
   "id": "7c3633fb-5017-44c2-93dd-7bf9ad2b8b38",
   "metadata": {},
   "source": [
    "## Updating String \n",
    "Value of the string can be updated by assigning a new value to it. New value will be replaced with older.\n",
    " New value must be related (having same data type) to previous value of the string."
   ]
  },
  {
   "cell_type": "code",
   "execution_count": 39,
   "id": "6aed3f70-b913-4a9d-b616-f0f5c98f6a2d",
   "metadata": {},
   "outputs": [
    {
     "name": "stdout",
     "output_type": "stream",
     "text": [
      "Updated string:  Hello Python\n"
     ]
    }
   ],
   "source": [
    "stringVariable = \"Hello World\"\n",
    "stringVariable = stringVariable[:6] + \"Python\" \n",
    "print(\"Updated string: \", stringVariable) "
   ]
  },
  {
   "cell_type": "markdown",
   "id": "f65706ce-9aa8-4d99-8313-0a5bae6917b5",
   "metadata": {},
   "source": [
    "## Delete String \n",
    "To delete the value of the string, just delete its object (reference variable).\n"
   ]
  },
  {
   "cell_type": "code",
   "execution_count": 44,
   "id": "9837c95b-b071-4b77-9a38-a5c7eb9b5aa9",
   "metadata": {},
   "outputs": [
    {
     "name": "stdout",
     "output_type": "stream",
     "text": [
      "Hello World\n"
     ]
    },
    {
     "ename": "NameError",
     "evalue": "name 'stringVariable' is not defined",
     "output_type": "error",
     "traceback": [
      "\u001b[1;31m---------------------------------------------------------------------------\u001b[0m",
      "\u001b[1;31mNameError\u001b[0m                                 Traceback (most recent call last)",
      "Cell \u001b[1;32mIn[44], line 4\u001b[0m\n\u001b[0;32m      2\u001b[0m \u001b[38;5;28mprint\u001b[39m (stringVariable)\n\u001b[0;32m      3\u001b[0m \u001b[38;5;28;01mdel\u001b[39;00m stringVariable\n\u001b[1;32m----> 4\u001b[0m \u001b[38;5;28mprint\u001b[39m (stringVariable)\n",
      "\u001b[1;31mNameError\u001b[0m: name 'stringVariable' is not defined"
     ]
    }
   ],
   "source": [
    "stringVariable = \"Hello World\"\n",
    "print (stringVariable)\n",
    "del stringVariable\n",
    "print (stringVariable)"
   ]
  },
  {
   "cell_type": "markdown",
   "id": "82ca0785-956e-4390-af9d-ed37e573103a",
   "metadata": {},
   "source": [
    "## String special operators\n",
    "Some special operators are used in Python to assist the user. These are given below. \n",
    "'+' operator is used for concatenation."
   ]
  },
  {
   "cell_type": "code",
   "execution_count": 47,
   "id": "6e07c382-62d6-420d-b08a-1a5cff2ddac4",
   "metadata": {},
   "outputs": [
    {
     "name": "stdout",
     "output_type": "stream",
     "text": [
      "HelloPython\n"
     ]
    }
   ],
   "source": [
    "variable = \"Hello\"\n",
    "print(variable+\"Python\")"
   ]
  },
  {
   "cell_type": "code",
   "execution_count": 49,
   "id": "520192a6-bae4-41ff-a605-d777df481b60",
   "metadata": {},
   "outputs": [
    {
     "name": "stdout",
     "output_type": "stream",
     "text": [
      "HelloHelloHello\n"
     ]
    }
   ],
   "source": [
    "variable = \"Hello\"\n",
    "print(variable*3)"
   ]
  },
  {
   "cell_type": "code",
   "execution_count": 53,
   "id": "d455f980-abc9-425e-a192-a8fec0171164",
   "metadata": {},
   "outputs": [
    {
     "name": "stdout",
     "output_type": "stream",
     "text": [
      "e\n"
     ]
    }
   ],
   "source": [
    "variable=\"Hello\"\n",
    "print ( variable[1])"
   ]
  },
  {
   "cell_type": "code",
   "execution_count": 55,
   "id": "514ef7db-e040-42a6-934c-4cf16eb524e8",
   "metadata": {},
   "outputs": [
    {
     "name": "stdout",
     "output_type": "stream",
     "text": [
      "el\n"
     ]
    }
   ],
   "source": [
    "variable = \"Hello\"\n",
    "print(variable[1:3])"
   ]
  },
  {
   "cell_type": "code",
   "execution_count": 57,
   "id": "5c807c0a-c76a-4f57-be34-137dbf98790d",
   "metadata": {},
   "outputs": [
    {
     "name": "stdout",
     "output_type": "stream",
     "text": [
      "True\n"
     ]
    }
   ],
   "source": [
    "variable = \"Hello\"\n",
    "print('G' not in variable)"
   ]
  },
  {
   "cell_type": "markdown",
   "id": "c7966b72-305b-4e95-af78-6ef511b81408",
   "metadata": {},
   "source": [
    "## String formatting operator \n",
    "One of the coolest feature is string formatting operator within print statement."
   ]
  },
  {
   "cell_type": "code",
   "execution_count": 60,
   "id": "93241838-0b6f-4269-827d-e4aa1f84e38f",
   "metadata": {},
   "outputs": [
    {
     "name": "stdout",
     "output_type": "stream",
     "text": [
      "My name is Zara and age is 21 kg!\n"
     ]
    }
   ],
   "source": [
    "print (\"My name is %s and age is %d kg!\" % (\"Zara\",21)) "
   ]
  },
  {
   "cell_type": "markdown",
   "id": "22b14597-b91c-49fe-b1d5-515d926f89b6",
   "metadata": {},
   "source": [
    "## 2.4 Lists \n",
    "It can be written as a list of comma-seperated values within square brackets.\n",
    " Multiple types of data can be stored in a List.\n",
    " Individual elements of a list can be changed (it can be read and write).\n",
    " List indices starts from 0 just like arrays"
   ]
  },
  {
   "cell_type": "code",
   "execution_count": 63,
   "id": "7c091907-1624-4d58-9c23-b6ef13832820",
   "metadata": {},
   "outputs": [
    {
     "name": "stdout",
     "output_type": "stream",
     "text": [
      "['Mehvish', '1880']\n"
     ]
    }
   ],
   "source": [
    "list1 = ['Mehvish','1880']\n",
    "print(list1) "
   ]
  },
  {
   "cell_type": "markdown",
   "id": "8b19b7bb-3182-475f-a4f7-667983d16047",
   "metadata": {},
   "source": [
    "## Accessing values in Lists \n",
    "Square brackets are used to access the values of a list.\n",
    " We can access a specific values or range of values from list. "
   ]
  },
  {
   "cell_type": "code",
   "execution_count": 66,
   "id": "72333435-b31c-4cdb-aeaa-8a93f4896eb2",
   "metadata": {},
   "outputs": [
    {
     "name": "stdout",
     "output_type": "stream",
     "text": [
      "list1[0]:  physics\n",
      "list2[1:5]:  [2, 3, 4, 5]\n"
     ]
    }
   ],
   "source": [
    "list1 = ['physics', 'chemistry', 1997, 2000];\n",
    "list2 = [1, 2, 3, 4, 5, 6, 7 ]; \n",
    "print (\"list1[0]: \", list1[0]) \n",
    "print (\"list2[1:5]: \", list2[1:5]) "
   ]
  },
  {
   "cell_type": "markdown",
   "id": "1de25c90-9ab0-4a15-ad8f-fce95ee258b6",
   "metadata": {},
   "source": [
    "## Updating Lists \n",
    "We can update single or mupltiple elements of a list by giving slice on left hand of the assignment operator.\n",
    " It can also be updated using append() function. "
   ]
  },
  {
   "cell_type": "code",
   "execution_count": 69,
   "id": "56a1561a-24e0-4ebc-8c17-a07b275e6168",
   "metadata": {},
   "outputs": [
    {
     "name": "stdout",
     "output_type": "stream",
     "text": [
      "['physics', 'computer science', 1997, 2000]\n",
      "['physics', 'computer science', 1997, 2000, 'Computer Science']\n"
     ]
    }
   ],
   "source": [
    "list1 = ['physics', 'chemistry', 1997, 2000];\n",
    "list1[1] = \"computer science\"\n",
    "print(list1) \n",
    "list1.append('Computer Science') \n",
    "print(list1) "
   ]
  },
  {
   "cell_type": "code",
   "execution_count": 71,
   "id": "3c23c706-054b-4b5f-a072-5c639118bbf0",
   "metadata": {},
   "outputs": [
    {
     "name": "stdout",
     "output_type": "stream",
     "text": [
      "['physics', 'chemistry', 1997, 2000]\n",
      "After deleting value at index 2 : \n",
      "['physics', 'chemistry', 2000]\n"
     ]
    }
   ],
   "source": [
    "list1 = ['physics', 'chemistry', 1997, 2000]; \n",
    "print (list1) \n",
    "del list1[2];\n",
    "print (\"After deleting value at index 2 : \") \n",
    "print (list1) "
   ]
  },
  {
   "cell_type": "code",
   "execution_count": 73,
   "id": "2c3efcc0-c894-43b3-8118-236329be1235",
   "metadata": {},
   "outputs": [
    {
     "name": "stdout",
     "output_type": "stream",
     "text": [
      "['physics', 'chemistry', 1997, 2000]\n",
      "After deleting value at index 2 : \n",
      "['physics', 1997, 2000]\n"
     ]
    }
   ],
   "source": [
    "list1 = ['physics', 'chemistry', 1997, 2000]; \n",
    "print (list1) \n",
    "list1.remove('chemistry')\n",
    "print (\"After deleting value at index 2 : \") \n",
    "print (list1) "
   ]
  },
  {
   "cell_type": "markdown",
   "id": "df12c7db-f860-4939-ba91-ff2a162a7f83",
   "metadata": {},
   "source": [
    "## 2.5 Dictionaries \n",
    "It is same as array of objects having key and values in PHP.\n",
    " Each key is seperated by colon (:) from its value.\n",
    " Each item is seperated with comma (,).\n",
    " Empty dictionary can be written as {}.\n",
    " Keys are unique in dictionary but values may not.\n",
    " The values of the dictionary can be of any data type.\n",
    " The keys must be of an immutable data type such as strings, numbers, or tuples."
   ]
  },
  {
   "cell_type": "code",
   "execution_count": 76,
   "id": "bbc30f7a-a606-4ed0-bd52-10d0019f95e6",
   "metadata": {},
   "outputs": [
    {
     "name": "stdout",
     "output_type": "stream",
     "text": [
      "Mehvish\n"
     ]
    }
   ],
   "source": [
    "dict1 = {'Name': \"Mehvish\", 'Depart': \"BCS\", 'Batch': 2014}\n",
    "print(dict1['Name'])"
   ]
  },
  {
   "cell_type": "markdown",
   "id": "75aca07d-8054-44ca-a31e-b1040b90f953",
   "metadata": {},
   "source": [
    "## Updating Dictionary & Delete Dictionary Element \n",
    "We can update already existing value in dictionary.\n",
    " We can also add a new entry in dictionary. \n",
    " We can delete individual element of dicitionary and complete content of dictionary.\n",
    " del is used for individual element removal and clear() function is used to remove entire dictionary. "
   ]
  },
  {
   "cell_type": "code",
   "execution_count": 78,
   "id": "5403b81c-b5e9-4906-8d58-3fca61777485",
   "metadata": {},
   "outputs": [
    {
     "name": "stdout",
     "output_type": "stream",
     "text": [
      "{'Name': 'Mehvish', 'Depart': 'BCS', 'Batch': 'SP14', 'University': 'COMSATS'}\n",
      "{'Name': 'Mehvish', 'Depart': 'BCS', 'University': 'COMSATS'}\n"
     ]
    }
   ],
   "source": [
    "dict1 = {'Name': \"Mehvish\", 'Depart': \"BCS\", 'Batch': 2014}\n",
    "dict1['Batch'] = \"SP14\"\n",
    "dict1['University'] = \"COMSATS\"\n",
    "print(dict1)\n",
    "del dict1['Batch']\n",
    "print(dict1)\n",
    "dict1.clear()"
   ]
  },
  {
   "cell_type": "markdown",
   "id": "9dc2a8a5-0d9b-40c1-abc5-4dcb8a48ae32",
   "metadata": {},
   "source": [
    "## 2.6 Tuples \n",
    "It is same as list. The differences between tuples and lists are, the tuples cannot be changed. \n",
    "Each item is comma (,) seperated. \n",
    "Empty Tuple is shown as ().\n",
    "To write a tuple containing a single value you have to include a comma (,) even though there is only one value. For Exampe: tup = (40,). \n",
    "It can also have multiple data type values. \n",
    "Like string indices, tuple indices start at 0, and they can be sliced, concatenated, and so on."
   ]
  },
  {
   "cell_type": "markdown",
   "id": "a21cba51-dde4-42a5-907a-439e6287395d",
   "metadata": {},
   "source": [
    "## Accessing values in Tuples \n",
    "We can use the familiar square brackets along with the index to obtain its value."
   ]
  },
  {
   "cell_type": "code",
   "execution_count": 86,
   "id": "4d56a937-dfbc-4dbb-bb19-f1548cda7255",
   "metadata": {},
   "outputs": [
    {
     "name": "stdout",
     "output_type": "stream",
     "text": [
      "('Math', '98', 'C programming', '99')\n",
      "98\n",
      "('98', 'C programming')\n"
     ]
    }
   ],
   "source": [
    "tup = ('Math','98', 'C programming', '99')\n",
    "print (tup) \n",
    "print(tup[1]) \n",
    "print(tup[1:3])"
   ]
  },
  {
   "cell_type": "markdown",
   "id": "9e03b01b-5b52-4f13-b5c6-ed38ffd3fb73",
   "metadata": {},
   "source": [
    "## Updating Tuples \n",
    "Tuples are immutable means we can't change it. It is read only.\n",
    " We are able to take portions of tuples to make a new tuple. "
   ]
  },
  {
   "cell_type": "code",
   "execution_count": 89,
   "id": "85e54906-d33e-4b19-b3b5-86f8759a9747",
   "metadata": {},
   "outputs": [
    {
     "name": "stdout",
     "output_type": "stream",
     "text": [
      "(12, 34.56, 'abc', 'xyz')\n"
     ]
    }
   ],
   "source": [
    "tup1 = (12, 34.56);\n",
    "tup2 = ('abc', 'xyz'); \n",
    "#Following action is not valid for tuples \n",
    "#tup1[0] = 100; \n",
    "#So let's create a new tuple as follows \n",
    "tup3 = tup1 + tup2; \n",
    "print (tup3); "
   ]
  },
  {
   "cell_type": "markdown",
   "id": "bb34ae31-d10d-4dc8-9df3-eec110b11c9c",
   "metadata": {},
   "source": [
    "## Delete Tuple elements \n",
    "Removing individual element in Tuple is not possible because they can't be updated.\n",
    " del statment is used to remove entire Tuple. "
   ]
  },
  {
   "cell_type": "code",
   "execution_count": 92,
   "id": "9181f90c-57ca-4de5-9f9a-6fbce4e15c4d",
   "metadata": {},
   "outputs": [
    {
     "name": "stdout",
     "output_type": "stream",
     "text": [
      "('physics', 'chemistry', 1997, 2000)\n",
      "After deleting tup : \n"
     ]
    },
    {
     "ename": "NameError",
     "evalue": "name 'tup' is not defined",
     "output_type": "error",
     "traceback": [
      "\u001b[1;31m---------------------------------------------------------------------------\u001b[0m",
      "\u001b[1;31mNameError\u001b[0m                                 Traceback (most recent call last)",
      "Cell \u001b[1;32mIn[92], line 5\u001b[0m\n\u001b[0;32m      3\u001b[0m \u001b[38;5;28;01mdel\u001b[39;00m tup;\n\u001b[0;32m      4\u001b[0m \u001b[38;5;28mprint\u001b[39m (\u001b[38;5;124m\"\u001b[39m\u001b[38;5;124mAfter deleting tup : \u001b[39m\u001b[38;5;124m\"\u001b[39m);\n\u001b[1;32m----> 5\u001b[0m \u001b[38;5;28mprint\u001b[39m (tup)\n",
      "\u001b[1;31mNameError\u001b[0m: name 'tup' is not defined"
     ]
    }
   ],
   "source": [
    "tup = ('physics', 'chemistry', 1997, 2000);\n",
    "print (tup);\n",
    "del tup;\n",
    "print (\"After deleting tup : \");\n",
    "print (tup); "
   ]
  },
  {
   "cell_type": "markdown",
   "id": "d7821985-c72a-439e-8bab-1225e19bbcd3",
   "metadata": {},
   "source": [
    "## 2.7 Sets \n",
    "set is collection of unordered items.\n",
    " Every element is unique (No duplicates).\n",
    " Every element is immutable (can't be changed).\n",
    " However, the set itself is mutable. We can add or remove items from it.\n",
    " Sets can be used to perform mathematical set operations like union, intersection, symmetric difference etc.\n",
    " Empty set will be written as {}.\n",
    " Each item in set will be comma (,) seperated.\n",
    " We can make a set from a list using set() function.\n",
    " Data type can be found using type() function.\n",
    " add() is used to add single value, update() is used for adding multiple values.\n",
    " update() function can take tupe, strings, list or other set as argument. In all cases, duplicates will be avoided.\n",
    " discard() and remove() are used to to delete particular item from set.\n",
    " discard() will not raise an error if item doesn't exists in set.\n",
    " remove() will raise an error if item doesn't exists in set. "
   ]
  },
  {
   "cell_type": "code",
   "execution_count": 99,
   "id": "3ef1bf3c",
   "metadata": {},
   "outputs": [
    {
     "name": "stdout",
     "output_type": "stream",
     "text": [
      "<class 'list'>\n",
      "{1, 2, 3, 4, 5}\n",
      "{1, 2, 3}\n",
      "{1, 1.2, 2, 3, 4, 5, 'D', 'Hello', 'C'}\n"
     ]
    },
    {
     "ename": "KeyError",
     "evalue": "'G'",
     "output_type": "error",
     "traceback": [
      "\u001b[1;31m---------------------------------------------------------------------------\u001b[0m",
      "\u001b[1;31mKeyError\u001b[0m                                  Traceback (most recent call last)",
      "Cell \u001b[1;32mIn[99], line 19\u001b[0m\n\u001b[0;32m     17\u001b[0m \u001b[38;5;28mprint\u001b[39m (my_set) \n\u001b[0;32m     18\u001b[0m my_set\u001b[38;5;241m.\u001b[39mdiscard(\u001b[38;5;124m'\u001b[39m\u001b[38;5;124mG\u001b[39m\u001b[38;5;124m'\u001b[39m) \u001b[38;5;66;03m# it will not raise an error \u001b[39;00m\n\u001b[1;32m---> 19\u001b[0m my_set\u001b[38;5;241m.\u001b[39mremove(\u001b[38;5;124m'\u001b[39m\u001b[38;5;124mG\u001b[39m\u001b[38;5;124m'\u001b[39m)\n",
      "\u001b[1;31mKeyError\u001b[0m: 'G'"
     ]
    }
   ],
   "source": [
    "#list\n",
    "list1 = [1,2,3,4,5] \n",
    "print (type(list1)) \n",
    "my_set = set(list1) \n",
    "print(my_set) \n",
    "(type(my_set)) \n",
    "#set of integers \n",
    "my_set = {1,2,3} \n",
    "print (my_set) \n",
    "print\n",
    " #set of mixed data types \n",
    "my_set = {1,\"Hello\", 1.2,'C'} \n",
    "#adding a single value \n",
    "my_set.add('D') \n",
    "#adding multiple values \n",
    "my_set.update(list1) \n",
    "print (my_set) \n",
    "my_set.discard('G') # it will not raise an error \n",
    "my_set.remove('G') # it will raise an error\n"
   ]
  },
  {
   "cell_type": "markdown",
   "id": "f1fe40cc-c83b-4e56-b348-63e5aad0079a",
   "metadata": {},
   "source": [
    "## 3. Comparison Operators \n",
    "These are used to compare values (string or numbers) and return true/false according to situation. "
   ]
  },
  {
   "cell_type": "code",
   "execution_count": 2,
   "id": "1da555fb-e06d-4594-ab43-bda3f1c3ae2c",
   "metadata": {},
   "outputs": [
    {
     "data": {
      "text/plain": [
       "True"
      ]
     },
     "execution_count": 2,
     "metadata": {},
     "output_type": "execute_result"
    }
   ],
   "source": [
    "1<3"
   ]
  },
  {
   "cell_type": "code",
   "execution_count": 5,
   "id": "0c2d069e-47b8-494e-aa1e-2a274dd4bbce",
   "metadata": {},
   "outputs": [
    {
     "data": {
      "text/plain": [
       "True"
      ]
     },
     "execution_count": 5,
     "metadata": {},
     "output_type": "execute_result"
    }
   ],
   "source": [
    "15<=23"
   ]
  },
  {
   "cell_type": "code",
   "execution_count": 7,
   "id": "e6b799c6-3ac5-4290-a68a-9c2eeb81d65e",
   "metadata": {},
   "outputs": [
    {
     "data": {
      "text/plain": [
       "False"
      ]
     },
     "execution_count": 7,
     "metadata": {},
     "output_type": "execute_result"
    }
   ],
   "source": [
    "'Mehvish' == \"Zeenat\""
   ]
  },
  {
   "cell_type": "code",
   "execution_count": 9,
   "id": "89e0c4d3-8a6c-41c4-b9de-74b57b391290",
   "metadata": {},
   "outputs": [
    {
     "data": {
      "text/plain": [
       "False"
      ]
     },
     "execution_count": 9,
     "metadata": {},
     "output_type": "execute_result"
    }
   ],
   "source": [
    "\"Mehvish\" != \"Mehvish\" "
   ]
  },
  {
   "cell_type": "code",
   "execution_count": 11,
   "id": "61e50502-d2d5-466a-b187-c97688849760",
   "metadata": {},
   "outputs": [
    {
     "data": {
      "text/plain": [
       "True"
      ]
     },
     "execution_count": 11,
     "metadata": {},
     "output_type": "execute_result"
    }
   ],
   "source": [
    "(1==1)or(5>2)"
   ]
  },
  {
   "cell_type": "code",
   "execution_count": 13,
   "id": "06bf4e24-9529-4e0c-adcb-48872283e3df",
   "metadata": {},
   "outputs": [
    {
     "data": {
      "text/plain": [
       "False"
      ]
     },
     "execution_count": 13,
     "metadata": {},
     "output_type": "execute_result"
    }
   ],
   "source": [
    "(1<2)and(2<1)\n"
   ]
  },
  {
   "cell_type": "markdown",
   "id": "6fb00889-a1fc-4015-a9f0-9b78248d8d61",
   "metadata": {},
   "source": [
    "## 4. If-Else Statements \n",
    "If-Else statments are used to execute a block of code depending on conditions.\n",
    " example:"
   ]
  },
  {
   "cell_type": "code",
   "execution_count": 24,
   "id": "cbe1f3a8-c65c-4843-b767-f9b8a7b8a1a7",
   "metadata": {},
   "outputs": [
    {
     "name": "stdout",
     "output_type": "stream",
     "text": [
      "Even\n"
     ]
    }
   ],
   "source": [
    "if 25 % 2: \n",
    "    print('Even')\n",
    "else: \n",
    "    print('Odd')"
   ]
  },
  {
   "cell_type": "markdown",
   "id": "3e1c169e-b623-4f97-9df3-899ed6751cdc",
   "metadata": {},
   "source": [
    "## 5. For and While Loop\n",
    "Python has For and While  loop for iteration, used when we want to perform a specific a task repeatedly. \n"
   ]
  },
  {
   "cell_type": "code",
   "execution_count": 31,
   "id": "8cb6b877-948d-440a-b501-69958164b9a3",
   "metadata": {},
   "outputs": [
    {
     "name": "stdout",
     "output_type": "stream",
     "text": [
      "120\n"
     ]
    }
   ],
   "source": [
    "fact = 1\n",
    "N = 5\n",
    "for i in range (1,N+1): \n",
    "    fact*=i \n",
    "print (fact)"
   ]
  },
  {
   "cell_type": "code",
   "execution_count": 39,
   "id": "35c6ff8e-688c-4c53-8b57-0f97c11ccfea",
   "metadata": {},
   "outputs": [
    {
     "name": "stdout",
     "output_type": "stream",
     "text": [
      "1\n",
      "2\n",
      "3\n",
      "4\n",
      "5\n",
      "6\n",
      "7\n",
      "8\n",
      "9\n",
      "10\n"
     ]
    }
   ],
   "source": [
    "a = 0\n",
    "while a < 10: \n",
    "    a = a+1\n",
    "    print(a) "
   ]
  },
  {
   "cell_type": "markdown",
   "id": "583256df-d67d-428d-86f9-dc7b4b2cc418",
   "metadata": {},
   "source": [
    "## Functions \n",
    "It is a block of organized and reusable code. It is used to perform a single, related action. It provides high modularity for your application. It has a hight degree of code reusing"
   ]
  },
  {
   "cell_type": "code",
   "execution_count": 48,
   "id": "c80182d4-f7f6-463e-a05e-68e748ef6f87",
   "metadata": {},
   "outputs": [
    {
     "name": "stdout",
     "output_type": "stream",
     "text": [
      "I'm first call to user defined function!\n"
     ]
    }
   ],
   "source": [
    "# Function definition is here\n",
    "def printme( str ): \n",
    "#This prints a passed string into this function \n",
    "    print (str)\n",
    "    return; \n",
    "# Now you can call printme function \n",
    "printme(\"I'm first call to user defined function!\") "
   ]
  },
  {
   "cell_type": "code",
   "execution_count": null,
   "id": "3995704e-dc2f-480e-a670-480aada67d3b",
   "metadata": {},
   "outputs": [],
   "source": []
  },
  {
   "cell_type": "code",
   "execution_count": 50,
   "id": "6a5cc7ae-94c0-4333-a584-7c5b0c8ed5a9",
   "metadata": {},
   "outputs": [
    {
     "name": "stdout",
     "output_type": "stream",
     "text": [
      "64\n"
     ]
    }
   ],
   "source": [
    "def f (x): \n",
    "    return x**2 \n",
    "print (f(8)) "
   ]
  },
  {
   "cell_type": "code",
   "execution_count": 52,
   "id": "9a50b81c-31eb-4d90-894f-894eee606a87",
   "metadata": {},
   "outputs": [
    {
     "data": {
      "text/plain": [
       "30"
      ]
     },
     "execution_count": 52,
     "metadata": {},
     "output_type": "execute_result"
    }
   ],
   "source": [
    "#Lambda Function \n",
    "#lambda expressions \n",
    "times3 = lambda var:var*3 \n",
    "times3(10) \n",
    "#lambda expressions: another way to write a function in line "
   ]
  },
  {
   "cell_type": "markdown",
   "id": "4a069540-4eca-48b2-9f1e-ff6b40dd2989",
   "metadata": {},
   "source": [
    "## 7.1 Map() \n",
    "Map() function is used with two arguments. Just like: r = map(func, seq). The first argument func is the name of a function and the second a sequence (e.g. a list).seq. map() applies the function func to all the elements of the sequence seq. It returns a new list with the elements changed by func. "
   ]
  },
  {
   "cell_type": "code",
   "execution_count": 55,
   "id": "d30df923-ea42-402d-b313-6a48a2238dbd",
   "metadata": {},
   "outputs": [
    {
     "name": "stdout",
     "output_type": "stream",
     "text": [
      "['It', 'is', 'raining', 'cats', 'and', 'dogs']\n"
     ]
    },
    {
     "data": {
      "text/plain": [
       "[2, 2, 7, 4, 3, 4]"
      ]
     },
     "execution_count": 55,
     "metadata": {},
     "output_type": "execute_result"
    }
   ],
   "source": [
    "sentence = 'It is raining cats and dogs' \n",
    "words = sentence.split()\n",
    " print (words) \n",
    "lengths = map(lambda word: len(word), words) \n",
    "list(lengths) "
   ]
  },
  {
   "cell_type": "markdown",
   "id": "b80ee14f-0605-4f16-9936-2da9f556fc2c",
   "metadata": {},
   "source": [
    "## 7.2 Filter() \n",
    "The function filter(function, list) offers an elegant way to filter out all the elements of a list.\n",
    "The function filter(f,l) needs a function f as its first argument. f returns a Boolean value, i.e. either True or False.\n",
    "This function will be applied to every element of the list l.\n",
    "Only if f returns True will the element of the list be included in the result list. "
   ]
  },
  {
   "cell_type": "code",
   "execution_count": 57,
   "id": "063a80a2-d005-42c8-bb18-e8bdd407878e",
   "metadata": {},
   "outputs": [
    {
     "data": {
      "text/plain": [
       "[1, 1, 3, 5, 13, 21, 55]"
      ]
     },
     "execution_count": 57,
     "metadata": {},
     "output_type": "execute_result"
    }
   ],
   "source": [
    "fib = [0,1,1,2,3,5,8,13,21,34,55] \n",
    "result1 = filter(lambda x: x % 2, fib)\n",
    "list(result1) "
   ]
  },
  {
   "cell_type": "code",
   "execution_count": 60,
   "id": "e27d02d3-06ee-4930-bdc1-bba3aea1790c",
   "metadata": {},
   "outputs": [
    {
     "data": {
      "text/plain": [
       "[0, 2, 8, 34]"
      ]
     },
     "execution_count": 60,
     "metadata": {},
     "output_type": "execute_result"
    }
   ],
   "source": [
    "fib = [0,1,1,2,3,5,8,13,21,34,55] \n",
    "result2 = filter(lambda x: x % 2 == 0, fib) \n",
    "list (result2) "
   ]
  },
  {
   "cell_type": "markdown",
   "id": "149cca48-8a51-4a42-a065-92d96ae9f8e4",
   "metadata": {},
   "source": [
    "## 8. File I/O "
   ]
  },
  {
   "cell_type": "code",
   "execution_count": 66,
   "id": "317b695f-694e-496c-8677-61887b671867",
   "metadata": {},
   "outputs": [
    {
     "name": "stdin",
     "output_type": "stream",
     "text": [
      "Enter your name:  Anum\n"
     ]
    },
    {
     "name": "stdout",
     "output_type": "stream",
     "text": [
      "Anum\n"
     ]
    }
   ],
   "source": [
    "from six.moves import input\n",
    "string = input(\"Enter your name: \");\n",
    "print(string) "
   ]
  },
  {
   "cell_type": "markdown",
   "id": "dc6ec302-2031-4967-921d-7ae0766bd430",
   "metadata": {},
   "source": [
    "## I/O from or to Text File \n",
    "In this scenario, we'll read and write to a text file. \n",
    "r opens a file in read only mode.\n",
    " r+ opens a file read and write mode.\n",
    " w opens a file in write mode only. \n",
    "a opens a file in append mode\n",
    " a+ opens a file in append and read mode."
   ]
  },
  {
   "cell_type": "code",
   "execution_count": 77,
   "id": "78dd8694-836f-4639-a724-5ca77501b775",
   "metadata": {},
   "outputs": [
    {
     "name": "stdout",
     "output_type": "stream",
     "text": [
      "Anum \n",
      "MCT\n"
     ]
    }
   ],
   "source": [
    "# Open a file to read \n",
    "fileOpen = open(\"Anum.txt\", \"r+\")\n",
    "str = fileOpen.read(); #to read specific content from start you can use read(12). It will read 12 characters from the start of file \n",
    "print (str)\n",
    " # Close opend file \n",
    "fileOpen.close() "
   ]
  },
  {
   "cell_type": "code",
   "execution_count": 87,
   "id": "7c085e49-4f64-48e8-9f79-b281ba243a4b",
   "metadata": {},
   "outputs": [
    {
     "name": "stdout",
     "output_type": "stream",
     "text": [
      "Anum \n",
      "MCT Information Technology Lahore Information Technology Lahore Information Technology Lahore Information Technology Lahore\n"
     ]
    }
   ],
   "source": [
    "# Open a file to append \n",
    "fileOpen = open(\"Anum.txt\", \"a+\") \n",
    "fileOpen.write(\" Information Technology Lahore\"); \n",
    "fileOpen.close() \n",
    "# Open a file to read \n",
    "fileOpen = open(\"Anum.txt\", \"r+\") \n",
    "string = fileOpen.read(); #to read specific content from start you can use read(12). It will read 12 characters from the start of file \n",
    "print (string) \n",
    "# Close opend file \n",
    "fileOpen.close() "
   ]
  },
  {
   "cell_type": "markdown",
   "id": "96169fb6-807a-44ca-8f4b-77624a5e787f",
   "metadata": {},
   "source": [
    "## File Position \n",
    "tell()\n",
    "\n",
    "seek() \n",
    "\n",
    "method tells the currenct position within the file. \n",
    "method changes the current file location. "
   ]
  },
  {
   "cell_type": "code",
   "execution_count": 94,
   "id": "c4b5b21f-b34e-49b2-af6c-26c5f8253f56",
   "metadata": {},
   "outputs": [
    {
     "name": "stdout",
     "output_type": "stream",
     "text": [
      "ReadStringis:\n",
      " Anum \n",
      "MCT \n",
      "Currentfileposition:\n",
      " 11\n",
      "AgainreadStringis:\n",
      " Anum \n",
      "MCT \n"
     ]
    }
   ],
   "source": [
    "\n",
    "In [4]: \n",
    "In [5]: \n",
    "# Open a file\n",
    "fo = open(\"Anum.txt\", \"r+\")\n",
    "str = fo.read(10);\n",
    "print(\"ReadStringis:\\n\",str) \n",
    "# Check current position\n",
    "position = fo.tell();\n",
    "print(\"Currentfileposition:\\n\", position)\n",
    " #Repositionpointeratthebeginning once again\n",
    "position = fo.seek(0, 0);\n",
    "str = fo.read(10);\n",
    "print(\"AgainreadStringis:\\n\", str) \n",
    "# Close opend file\n",
    "fo.close()"
   ]
  },
  {
   "cell_type": "code",
   "execution_count": 96,
   "id": "1461ea28-8c32-40c6-8c98-ae894fbe4b5e",
   "metadata": {},
   "outputs": [],
   "source": [
    "import os\n",
    " # renameafile\n",
    "os.rename(\"Anum.txt\",\"newfile.txt\")"
   ]
  },
  {
   "cell_type": "code",
   "execution_count": 98,
   "id": "7e05c84c-b5f6-4053-b7c6-ece82684686d",
   "metadata": {},
   "outputs": [],
   "source": [
    "os.remove(\"newfile.txt\") "
   ]
  },
  {
   "cell_type": "markdown",
   "id": "670f742b-fc19-4f85-92d9-51e27544ade3",
   "metadata": {},
   "source": [
    "## 9. Pandas Introduction \n"
   ]
  },
  {
   "cell_type": "code",
   "execution_count": 3,
   "id": "c351d43f-ef11-4318-b274-2eee01f9729e",
   "metadata": {},
   "outputs": [
    {
     "data": {
      "text/plain": [
       "a    1.342994\n",
       "b    0.834922\n",
       "c   -2.025612\n",
       "d    0.036148\n",
       "e   -0.811327\n",
       "dtype: float64"
      ]
     },
     "execution_count": 3,
     "metadata": {},
     "output_type": "execute_result"
    }
   ],
   "source": [
    "import pandas as pd \n",
    "import numpy as np\n",
    "import matplotlib.pyplot as plt \n",
    "#following a fucntion is called from pandas to create a series. \n",
    "s = pd.Series(np.random.randn(5), index=['a', 'b', 'c', 'd','e'])\n",
    "s"
   ]
  },
  {
   "cell_type": "code",
   "execution_count": 4,
   "id": "e72b7b19-2e0e-4b3c-a146-cb35829aee08",
   "metadata": {},
   "outputs": [
    {
     "data": {
      "text/plain": [
       "Index(['a', 'b', 'c', 'd', 'e'], dtype='object')"
      ]
     },
     "execution_count": 4,
     "metadata": {},
     "output_type": "execute_result"
    }
   ],
   "source": [
    "s.index"
   ]
  },
  {
   "cell_type": "code",
   "execution_count": 5,
   "id": "01ff09a3-f704-4c30-91c8-668ecf7e793f",
   "metadata": {},
   "outputs": [
    {
     "data": {
      "text/plain": [
       "0    0.169703\n",
       "1    0.040583\n",
       "2    0.398418\n",
       "3   -0.689345\n",
       "4   -1.692524\n",
       "dtype: float64"
      ]
     },
     "execution_count": 5,
     "metadata": {},
     "output_type": "execute_result"
    }
   ],
   "source": [
    "pd.Series(np.random.randn(5)) "
   ]
  },
  {
   "cell_type": "markdown",
   "id": "cd85fc25-7aa1-4828-8081-c3f93c81b1a0",
   "metadata": {},
   "source": [
    "## 10.2 From dict \n",
    "If data is a dict, if index is passed the values in data corresponding to the labels in the index will be pulled out. \n",
    "If index is not passed then it will be constructed from the sorted keys of the dict, if possible. "
   ]
  },
  {
   "cell_type": "code",
   "execution_count": 6,
   "id": "2c8e7668-a24f-4623-9f2d-9d9c85c7a0a0",
   "metadata": {},
   "outputs": [
    {
     "data": {
      "text/plain": [
       "a    0.0\n",
       "b    1.0\n",
       "c    2.0\n",
       "dtype: float64"
      ]
     },
     "execution_count": 6,
     "metadata": {},
     "output_type": "execute_result"
    }
   ],
   "source": [
    "\"\"\" In following example, indexes are not given to it is constructed from the sorted keys of the dict\"\"\" \n",
    "d = {'a' : 0., 'b' : 1., 'c' : 2.} # a python dict\n",
    "pd.Series(d)"
   ]
  },
  {
   "cell_type": "code",
   "execution_count": 7,
   "id": "a673801a-1f86-40e2-9076-b9520a5f4d9d",
   "metadata": {},
   "outputs": [
    {
     "data": {
      "text/plain": [
       "b    1.0\n",
       "c    2.0\n",
       "d    NaN\n",
       "a    0.0\n",
       "dtype: float64"
      ]
     },
     "execution_count": 7,
     "metadata": {},
     "output_type": "execute_result"
    }
   ],
   "source": [
    " \"\"\" In following example, index are given, so the values in data corresponding in the index will be pulled out\"\"\" \n",
    "pd.Series(d, index=['b', 'c', 'd', 'a']) "
   ]
  },
  {
   "cell_type": "markdown",
   "id": "040df812-4274-4227-9c08-03c082ac682b",
   "metadata": {},
   "source": [
    "## 10.3 From a scalar value \n"
   ]
  },
  {
   "cell_type": "markdown",
   "id": "0c79a066-cb0f-4246-9aa2-390efb6a4e9d",
   "metadata": {},
   "source": [
    "if data is a scalar value, an index must be provided. The value will be repeated to match the length of index "
   ]
  },
  {
   "cell_type": "code",
   "execution_count": 12,
   "id": "c6e35947-e707-4479-95ae-ed1a0a5a10a7",
   "metadata": {},
   "outputs": [
    {
     "data": {
      "text/plain": [
       "a    3\n",
       "b    3\n",
       "c    3\n",
       "d    3\n",
       "e    3\n",
       "dtype: int64"
      ]
     },
     "execution_count": 12,
     "metadata": {},
     "output_type": "execute_result"
    }
   ],
   "source": [
    "\"\"\"In following example, a scalar value is given as data so it will be repeated to match the length of inde x\"\"\"\n",
    "pd.Series(3, index=['a', 'b', 'c', 'd', 'e']) "
   ]
  },
  {
   "cell_type": "markdown",
   "id": "c9250ae7-12d4-498c-926f-d8280cb96e1f",
   "metadata": {},
   "source": [
    "## 10.4 Series is ndarray-like \n",
    "It acts very similarly to a ndarray.\n",
    " It is a valid argument to most NumPy functions. However, things like slicing also slice the index. "
   ]
  },
  {
   "cell_type": "code",
   "execution_count": 13,
   "id": "3975adc1-c859-4cc2-8beb-09d3ba2e48ae",
   "metadata": {},
   "outputs": [
    {
     "name": "stderr",
     "output_type": "stream",
     "text": [
      "C:\\Users\\HP\\AppData\\Local\\Temp\\ipykernel_15160\\243613605.py:1: FutureWarning: Series.__getitem__ treating keys as positions is deprecated. In a future version, integer keys will always be treated as labels (consistent with DataFrame behavior). To access a value by position, use `ser.iloc[pos]`\n",
      "  s[0]\n"
     ]
    },
    {
     "data": {
      "text/plain": [
       "1.342993602190898"
      ]
     },
     "execution_count": 13,
     "metadata": {},
     "output_type": "execute_result"
    }
   ],
   "source": [
    "s[0]"
   ]
  },
  {
   "cell_type": "code",
   "execution_count": 14,
   "id": "97ff867c-3d30-4eef-b039-f29c14ba5f53",
   "metadata": {},
   "outputs": [
    {
     "data": {
      "text/plain": [
       "a    1.342994\n",
       "b    0.834922\n",
       "c   -2.025612\n",
       "d    0.036148\n",
       "e   -0.811327\n",
       "dtype: float64"
      ]
     },
     "execution_count": 14,
     "metadata": {},
     "output_type": "execute_result"
    }
   ],
   "source": [
    "s[:5]"
   ]
  },
  {
   "cell_type": "code",
   "execution_count": 16,
   "id": "f89dd32a-99fb-4dc9-8935-71aaae2d8ec4",
   "metadata": {},
   "outputs": [
    {
     "data": {
      "text/plain": [
       "a    1.342994\n",
       "b    0.834922\n",
       "dtype: float64"
      ]
     },
     "execution_count": 16,
     "metadata": {},
     "output_type": "execute_result"
    }
   ],
   "source": [
    "#for values greater than median \n",
    "s[s > s.median()] "
   ]
  },
  {
   "cell_type": "code",
   "execution_count": 17,
   "id": "071aed95-2815-4dd1-98c1-c5acba90bea2",
   "metadata": {},
   "outputs": [
    {
     "name": "stderr",
     "output_type": "stream",
     "text": [
      "C:\\Users\\HP\\AppData\\Local\\Temp\\ipykernel_15160\\2699684475.py:1: FutureWarning: Series.__getitem__ treating keys as positions is deprecated. In a future version, integer keys will always be treated as labels (consistent with DataFrame behavior). To access a value by position, use `ser.iloc[pos]`\n",
      "  s[[4, 3, 1]]\n"
     ]
    },
    {
     "data": {
      "text/plain": [
       "e   -0.811327\n",
       "d    0.036148\n",
       "b    0.834922\n",
       "dtype: float64"
      ]
     },
     "execution_count": 17,
     "metadata": {},
     "output_type": "execute_result"
    }
   ],
   "source": [
    "s[[4, 3, 1]] "
   ]
  },
  {
   "cell_type": "code",
   "execution_count": 18,
   "id": "5d9ab04f-a570-46d0-88d3-cf32573846fd",
   "metadata": {},
   "outputs": [
    {
     "data": {
      "text/plain": [
       "a    3.830493\n",
       "b    2.304635\n",
       "c    0.131913\n",
       "d    1.036809\n",
       "e    0.444268\n",
       "dtype: float64"
      ]
     },
     "execution_count": 18,
     "metadata": {},
     "output_type": "execute_result"
    }
   ],
   "source": [
    "np.exp(s)"
   ]
  },
  {
   "cell_type": "code",
   "execution_count": 19,
   "id": "f4a004a9-63e2-4214-b29c-6b751fb76290",
   "metadata": {},
   "outputs": [
    {
     "data": {
      "text/plain": [
       "1.342993602190898"
      ]
     },
     "execution_count": 19,
     "metadata": {},
     "output_type": "execute_result"
    }
   ],
   "source": [
    "s['a']"
   ]
  },
  {
   "cell_type": "code",
   "execution_count": 20,
   "id": "672194c2-4ef0-4175-9b91-07d3587ab88c",
   "metadata": {},
   "outputs": [
    {
     "data": {
      "text/plain": [
       "a     1.342994\n",
       "b     0.834922\n",
       "c    -2.025612\n",
       "d     0.036148\n",
       "e    12.000000\n",
       "dtype: float64"
      ]
     },
     "execution_count": 20,
     "metadata": {},
     "output_type": "execute_result"
    }
   ],
   "source": [
    "\"\"\"Following example will update the data of the given index\"\"\" \n",
    "s['e'] = 12. \n",
    "s # before updating e = 1.399281 but after updating e = 12.000000 "
   ]
  },
  {
   "cell_type": "code",
   "execution_count": 21,
   "id": "442b3891-60e3-4823-83e5-d64f8545a412",
   "metadata": {},
   "outputs": [
    {
     "data": {
      "text/plain": [
       "True"
      ]
     },
     "execution_count": 21,
     "metadata": {},
     "output_type": "execute_result"
    }
   ],
   "source": [
    "'e' in s "
   ]
  },
  {
   "cell_type": "code",
   "execution_count": 22,
   "id": "b0c4ee3b-4f77-4a73-9570-905e47fb1ce5",
   "metadata": {},
   "outputs": [
    {
     "ename": "KeyError",
     "evalue": "'f'",
     "output_type": "error",
     "traceback": [
      "\u001b[1;31m---------------------------------------------------------------------------\u001b[0m",
      "\u001b[1;31mKeyError\u001b[0m                                  Traceback (most recent call last)",
      "File \u001b[1;32m~\\Anaconda\\Lib\\site-packages\\pandas\\core\\indexes\\base.py:3805\u001b[0m, in \u001b[0;36mIndex.get_loc\u001b[1;34m(self, key)\u001b[0m\n\u001b[0;32m   3804\u001b[0m \u001b[38;5;28;01mtry\u001b[39;00m:\n\u001b[1;32m-> 3805\u001b[0m     \u001b[38;5;28;01mreturn\u001b[39;00m \u001b[38;5;28mself\u001b[39m\u001b[38;5;241m.\u001b[39m_engine\u001b[38;5;241m.\u001b[39mget_loc(casted_key)\n\u001b[0;32m   3806\u001b[0m \u001b[38;5;28;01mexcept\u001b[39;00m \u001b[38;5;167;01mKeyError\u001b[39;00m \u001b[38;5;28;01mas\u001b[39;00m err:\n",
      "File \u001b[1;32mindex.pyx:167\u001b[0m, in \u001b[0;36mpandas._libs.index.IndexEngine.get_loc\u001b[1;34m()\u001b[0m\n",
      "File \u001b[1;32mindex.pyx:196\u001b[0m, in \u001b[0;36mpandas._libs.index.IndexEngine.get_loc\u001b[1;34m()\u001b[0m\n",
      "File \u001b[1;32mpandas\\\\_libs\\\\hashtable_class_helper.pxi:7081\u001b[0m, in \u001b[0;36mpandas._libs.hashtable.PyObjectHashTable.get_item\u001b[1;34m()\u001b[0m\n",
      "File \u001b[1;32mpandas\\\\_libs\\\\hashtable_class_helper.pxi:7089\u001b[0m, in \u001b[0;36mpandas._libs.hashtable.PyObjectHashTable.get_item\u001b[1;34m()\u001b[0m\n",
      "\u001b[1;31mKeyError\u001b[0m: 'f'",
      "\nThe above exception was the direct cause of the following exception:\n",
      "\u001b[1;31mKeyError\u001b[0m                                  Traceback (most recent call last)",
      "Cell \u001b[1;32mIn[22], line 2\u001b[0m\n\u001b[0;32m      1\u001b[0m \u001b[38;5;124;03m\"\"\"If a label is not contained and you are trying to access its data, an exception is raised: \"\"\"\u001b[39;00m \n\u001b[1;32m----> 2\u001b[0m s[\u001b[38;5;124m'\u001b[39m\u001b[38;5;124mf\u001b[39m\u001b[38;5;124m'\u001b[39m]\n",
      "File \u001b[1;32m~\\Anaconda\\Lib\\site-packages\\pandas\\core\\series.py:1121\u001b[0m, in \u001b[0;36mSeries.__getitem__\u001b[1;34m(self, key)\u001b[0m\n\u001b[0;32m   1118\u001b[0m     \u001b[38;5;28;01mreturn\u001b[39;00m \u001b[38;5;28mself\u001b[39m\u001b[38;5;241m.\u001b[39m_values[key]\n\u001b[0;32m   1120\u001b[0m \u001b[38;5;28;01melif\u001b[39;00m key_is_scalar:\n\u001b[1;32m-> 1121\u001b[0m     \u001b[38;5;28;01mreturn\u001b[39;00m \u001b[38;5;28mself\u001b[39m\u001b[38;5;241m.\u001b[39m_get_value(key)\n\u001b[0;32m   1123\u001b[0m \u001b[38;5;66;03m# Convert generator to list before going through hashable part\u001b[39;00m\n\u001b[0;32m   1124\u001b[0m \u001b[38;5;66;03m# (We will iterate through the generator there to check for slices)\u001b[39;00m\n\u001b[0;32m   1125\u001b[0m \u001b[38;5;28;01mif\u001b[39;00m is_iterator(key):\n",
      "File \u001b[1;32m~\\Anaconda\\Lib\\site-packages\\pandas\\core\\series.py:1237\u001b[0m, in \u001b[0;36mSeries._get_value\u001b[1;34m(self, label, takeable)\u001b[0m\n\u001b[0;32m   1234\u001b[0m     \u001b[38;5;28;01mreturn\u001b[39;00m \u001b[38;5;28mself\u001b[39m\u001b[38;5;241m.\u001b[39m_values[label]\n\u001b[0;32m   1236\u001b[0m \u001b[38;5;66;03m# Similar to Index.get_value, but we do not fall back to positional\u001b[39;00m\n\u001b[1;32m-> 1237\u001b[0m loc \u001b[38;5;241m=\u001b[39m \u001b[38;5;28mself\u001b[39m\u001b[38;5;241m.\u001b[39mindex\u001b[38;5;241m.\u001b[39mget_loc(label)\n\u001b[0;32m   1239\u001b[0m \u001b[38;5;28;01mif\u001b[39;00m is_integer(loc):\n\u001b[0;32m   1240\u001b[0m     \u001b[38;5;28;01mreturn\u001b[39;00m \u001b[38;5;28mself\u001b[39m\u001b[38;5;241m.\u001b[39m_values[loc]\n",
      "File \u001b[1;32m~\\Anaconda\\Lib\\site-packages\\pandas\\core\\indexes\\base.py:3812\u001b[0m, in \u001b[0;36mIndex.get_loc\u001b[1;34m(self, key)\u001b[0m\n\u001b[0;32m   3807\u001b[0m     \u001b[38;5;28;01mif\u001b[39;00m \u001b[38;5;28misinstance\u001b[39m(casted_key, \u001b[38;5;28mslice\u001b[39m) \u001b[38;5;129;01mor\u001b[39;00m (\n\u001b[0;32m   3808\u001b[0m         \u001b[38;5;28misinstance\u001b[39m(casted_key, abc\u001b[38;5;241m.\u001b[39mIterable)\n\u001b[0;32m   3809\u001b[0m         \u001b[38;5;129;01mand\u001b[39;00m \u001b[38;5;28many\u001b[39m(\u001b[38;5;28misinstance\u001b[39m(x, \u001b[38;5;28mslice\u001b[39m) \u001b[38;5;28;01mfor\u001b[39;00m x \u001b[38;5;129;01min\u001b[39;00m casted_key)\n\u001b[0;32m   3810\u001b[0m     ):\n\u001b[0;32m   3811\u001b[0m         \u001b[38;5;28;01mraise\u001b[39;00m InvalidIndexError(key)\n\u001b[1;32m-> 3812\u001b[0m     \u001b[38;5;28;01mraise\u001b[39;00m \u001b[38;5;167;01mKeyError\u001b[39;00m(key) \u001b[38;5;28;01mfrom\u001b[39;00m \u001b[38;5;21;01merr\u001b[39;00m\n\u001b[0;32m   3813\u001b[0m \u001b[38;5;28;01mexcept\u001b[39;00m \u001b[38;5;167;01mTypeError\u001b[39;00m:\n\u001b[0;32m   3814\u001b[0m     \u001b[38;5;66;03m# If we have a listlike key, _check_indexing_error will raise\u001b[39;00m\n\u001b[0;32m   3815\u001b[0m     \u001b[38;5;66;03m#  InvalidIndexError. Otherwise we fall through and re-raise\u001b[39;00m\n\u001b[0;32m   3816\u001b[0m     \u001b[38;5;66;03m#  the TypeError.\u001b[39;00m\n\u001b[0;32m   3817\u001b[0m     \u001b[38;5;28mself\u001b[39m\u001b[38;5;241m.\u001b[39m_check_indexing_error(key)\n",
      "\u001b[1;31mKeyError\u001b[0m: 'f'"
     ]
    }
   ],
   "source": [
    "\"\"\"If a label is not contained and you are trying to access its data, an exception is raised: \"\"\" \n",
    "s['f'] \n",
    "# This will create error "
   ]
  },
  {
   "cell_type": "code",
   "execution_count": 24,
   "id": "4eeee00b-1575-4a13-8bf8-143b89297b56",
   "metadata": {},
   "outputs": [
    {
     "data": {
      "text/plain": [
       "nan"
      ]
     },
     "execution_count": 24,
     "metadata": {},
     "output_type": "execute_result"
    }
   ],
   "source": [
    "#\"\"Using the get method, a missing label will return None or specified default\"\"\" \n",
    "s.get('f') #it will return none\n",
    "s.get('f', np.nan) #it will return default value "
   ]
  },
  {
   "cell_type": "markdown",
   "id": "ec065c8c-7a1e-4520-9961-2d4eb33c82ca",
   "metadata": {},
   "source": [
    "## 10.6 Vectorized operations and label alignment with Series \n",
    "When doing data analysis, as with raw NumPy arrays looping through Series value-by-value is usually not necessary. \n",
    "Series can also be passed into most NumPy methods expecting an ndarray. "
   ]
  },
  {
   "cell_type": "code",
   "execution_count": 27,
   "id": "02c3e8e5-9cb1-4d33-9ecf-6e1e2db15af2",
   "metadata": {},
   "outputs": [
    {
     "data": {
      "text/plain": [
       "a     2.685987\n",
       "b     1.669844\n",
       "c    -4.051225\n",
       "d     0.072295\n",
       "e    24.000000\n",
       "dtype: float64"
      ]
     },
     "execution_count": 27,
     "metadata": {},
     "output_type": "execute_result"
    }
   ],
   "source": [
    "\"\"\"following will add the data of respective values of indexes. For example, in given output, it is calculate \"\"\"\n",
    "\"\"\"d as: a = s['a'] +\n",
    " s['a'] b = s['b'] +\n",
    " s['b'] c = s['c'] +\n",
    " s['c'] d = s['d'] +\n",
    " s['d'] e = s['e'] +\n",
    " s['e'] \"\"\"\n",
    "s+s"
   ]
  },
  {
   "cell_type": "code",
   "execution_count": 29,
   "id": "51068af9-0b7d-4690-aabb-5c6219b05b0c",
   "metadata": {},
   "outputs": [
    {
     "data": {
      "text/plain": [
       "a     2.685987\n",
       "b     1.669844\n",
       "c    -4.051225\n",
       "d     0.072295\n",
       "e    24.000000\n",
       "dtype: float64"
      ]
     },
     "execution_count": 29,
     "metadata": {},
     "output_type": "execute_result"
    }
   ],
   "source": [
    "\"\"\"following will multiply the data of each values of indexes, with 2. For example, in given output, it is ca \n",
    "lculated as: \n",
    "a = s['a'] *2\n",
    " b = s['b'] *2\n",
    " c = s['c'] *2\n",
    " d = s['d'] *2 \n",
    "e = s['e'] *2\"\"\"\n",
    "s*2"
   ]
  },
  {
   "cell_type": "code",
   "execution_count": 30,
   "id": "baba8750-7409-4842-948f-be8b7f9eb8f8",
   "metadata": {},
   "outputs": [
    {
     "data": {
      "text/plain": [
       "0    0.636726\n",
       "1   -1.415222\n",
       "2   -2.197750\n",
       "3   -0.639328\n",
       "4   -0.278015\n",
       "Name: something, dtype: float64"
      ]
     },
     "execution_count": 30,
     "metadata": {},
     "output_type": "execute_result"
    }
   ],
   "source": [
    "s = pd.Series(np.random.randn(5), name='something') \n",
    "s"
   ]
  },
  {
   "cell_type": "code",
   "execution_count": 31,
   "id": "aa7e8a25-2223-4b0c-8cb7-b24eb2dde6a0",
   "metadata": {},
   "outputs": [
    {
     "data": {
      "text/plain": [
       "'something'"
      ]
     },
     "execution_count": 31,
     "metadata": {},
     "output_type": "execute_result"
    }
   ],
   "source": [
    "s.name"
   ]
  },
  {
   "cell_type": "code",
   "execution_count": 32,
   "id": "0086407d-7a5d-470f-ada4-d018f07b2187",
   "metadata": {},
   "outputs": [
    {
     "data": {
      "text/plain": [
       "'different'"
      ]
     },
     "execution_count": 32,
     "metadata": {},
     "output_type": "execute_result"
    }
   ],
   "source": [
    "#rename the series name attribute and assign to s2 object. Note that s and s2 refer to different objects. \n",
    "s2 = s.rename(\"different\") \n",
    "s2.name "
   ]
  },
  {
   "cell_type": "markdown",
   "id": "d3e40d86-f595-431e-8159-451d3c7cb15d",
   "metadata": {},
   "source": [
    "## 11. Data Frames \n",
    "DataFrames are the workhorse of pandas and are directly inspired by the R programming language. \n",
    "Like Series, DataFrame accepts many different kinds of input: \n",
    "Dict of 1D ndarrays, lists, dicts, or Series\n",
    " 2-D numpy.ndarray\n",
    " Structured or record ndarray\n",
    " A Series\n",
    " Another DataFrame \n",
    "Along with the data, you can optionally pass index (row labels) and columns (column labels) arguments.\n",
    " If you pass an index and / or columns, you are guaranteeing the index and / or columns of the resulting DataFrame.\n",
    " Thus, a dict of Series plus a specific index will discard all data not matching up to the passed index.\n",
    " If axis labels are not passed, they will be constructed from the input data based on common sense rules "
   ]
  },
  {
   "cell_type": "code",
   "execution_count": 33,
   "id": "e673895c-05ab-4c1a-b8f6-81d7c3affdc4",
   "metadata": {},
   "outputs": [
    {
     "data": {
      "text/html": [
       "<div>\n",
       "<style scoped>\n",
       "    .dataframe tbody tr th:only-of-type {\n",
       "        vertical-align: middle;\n",
       "    }\n",
       "\n",
       "    .dataframe tbody tr th {\n",
       "        vertical-align: top;\n",
       "    }\n",
       "\n",
       "    .dataframe thead th {\n",
       "        text-align: right;\n",
       "    }\n",
       "</style>\n",
       "<table border=\"1\" class=\"dataframe\">\n",
       "  <thead>\n",
       "    <tr style=\"text-align: right;\">\n",
       "      <th></th>\n",
       "      <th>one</th>\n",
       "      <th>two</th>\n",
       "    </tr>\n",
       "  </thead>\n",
       "  <tbody>\n",
       "    <tr>\n",
       "      <th>a</th>\n",
       "      <td>1.0</td>\n",
       "      <td>1.0</td>\n",
       "    </tr>\n",
       "    <tr>\n",
       "      <th>b</th>\n",
       "      <td>2.0</td>\n",
       "      <td>2.0</td>\n",
       "    </tr>\n",
       "    <tr>\n",
       "      <th>c</th>\n",
       "      <td>3.0</td>\n",
       "      <td>3.0</td>\n",
       "    </tr>\n",
       "    <tr>\n",
       "      <th>d</th>\n",
       "      <td>NaN</td>\n",
       "      <td>4.0</td>\n",
       "    </tr>\n",
       "  </tbody>\n",
       "</table>\n",
       "</div>"
      ],
      "text/plain": [
       "   one  two\n",
       "a  1.0  1.0\n",
       "b  2.0  2.0\n",
       "c  3.0  3.0\n",
       "d  NaN  4.0"
      ]
     },
     "execution_count": 33,
     "metadata": {},
     "output_type": "execute_result"
    }
   ],
   "source": [
    "\"\"\" A dict is created \"\"\"\n",
    "d = { \n",
    "'one' : pd.Series([1., 2., 3.], index=['a', 'b', 'c']),\n",
    "'two' : pd.Series([1., 2., 3., 4.], index=['a', 'b', 'c', 'd']) \n",
    "} \n",
    "df=pd.DataFrame(d) \n",
    "df"
   ]
  },
  {
   "cell_type": "code",
   "execution_count": 37,
   "id": "f40ebd59-0096-438e-9505-b85bdb52cddd",
   "metadata": {},
   "outputs": [
    {
     "data": {
      "text/html": [
       "<div>\n",
       "<style scoped>\n",
       "    .dataframe tbody tr th:only-of-type {\n",
       "        vertical-align: middle;\n",
       "    }\n",
       "\n",
       "    .dataframe tbody tr th {\n",
       "        vertical-align: top;\n",
       "    }\n",
       "\n",
       "    .dataframe thead th {\n",
       "        text-align: right;\n",
       "    }\n",
       "</style>\n",
       "<table border=\"1\" class=\"dataframe\">\n",
       "  <thead>\n",
       "    <tr style=\"text-align: right;\">\n",
       "      <th></th>\n",
       "      <th>one</th>\n",
       "      <th>two</th>\n",
       "    </tr>\n",
       "  </thead>\n",
       "  <tbody>\n",
       "    <tr>\n",
       "      <th>d</th>\n",
       "      <td>NaN</td>\n",
       "      <td>4.0</td>\n",
       "    </tr>\n",
       "    <tr>\n",
       "      <th>b</th>\n",
       "      <td>2.0</td>\n",
       "      <td>2.0</td>\n",
       "    </tr>\n",
       "    <tr>\n",
       "      <th>a</th>\n",
       "      <td>1.0</td>\n",
       "      <td>1.0</td>\n",
       "    </tr>\n",
       "  </tbody>\n",
       "</table>\n",
       "</div>"
      ],
      "text/plain": [
       "   one  two\n",
       "d  NaN  4.0\n",
       "b  2.0  2.0\n",
       "a  1.0  1.0"
      ]
     },
     "execution_count": 37,
     "metadata": {},
     "output_type": "execute_result"
    }
   ],
   "source": [
    "\"\"\" a data frame will be constructed for given row labels\"\"\"\n",
    "\n",
    "pd.DataFrame(d, index=['d', 'b', 'a']) "
   ]
  },
  {
   "cell_type": "code",
   "execution_count": 39,
   "id": "6a255185-8249-458e-9216-fb57e8f797c3",
   "metadata": {},
   "outputs": [
    {
     "data": {
      "text/html": [
       "<div>\n",
       "<style scoped>\n",
       "    .dataframe tbody tr th:only-of-type {\n",
       "        vertical-align: middle;\n",
       "    }\n",
       "\n",
       "    .dataframe tbody tr th {\n",
       "        vertical-align: top;\n",
       "    }\n",
       "\n",
       "    .dataframe thead th {\n",
       "        text-align: right;\n",
       "    }\n",
       "</style>\n",
       "<table border=\"1\" class=\"dataframe\">\n",
       "  <thead>\n",
       "    <tr style=\"text-align: right;\">\n",
       "      <th></th>\n",
       "      <th>two</th>\n",
       "      <th>three</th>\n",
       "    </tr>\n",
       "  </thead>\n",
       "  <tbody>\n",
       "    <tr>\n",
       "      <th>d</th>\n",
       "      <td>4.0</td>\n",
       "      <td>NaN</td>\n",
       "    </tr>\n",
       "    <tr>\n",
       "      <th>b</th>\n",
       "      <td>2.0</td>\n",
       "      <td>NaN</td>\n",
       "    </tr>\n",
       "    <tr>\n",
       "      <th>a</th>\n",
       "      <td>1.0</td>\n",
       "      <td>NaN</td>\n",
       "    </tr>\n",
       "  </tbody>\n",
       "</table>\n",
       "</div>"
      ],
      "text/plain": [
       "   two three\n",
       "d  4.0   NaN\n",
       "b  2.0   NaN\n",
       "a  1.0   NaN"
      ]
     },
     "execution_count": 39,
     "metadata": {},
     "output_type": "execute_result"
    }
   ],
   "source": [
    "\"\"\"following example shows a data frame when we give coloumn labels\"\"\"\n",
    "pd.DataFrame(d, index=['d', 'b', 'a'], columns=['two', 'three']) "
   ]
  },
  {
   "cell_type": "code",
   "execution_count": 40,
   "id": "2711ec2e-66c3-451a-b59a-9fa762661102",
   "metadata": {},
   "outputs": [
    {
     "data": {
      "text/plain": [
       "Index(['one', 'two'], dtype='object')"
      ]
     },
     "execution_count": 40,
     "metadata": {},
     "output_type": "execute_result"
    }
   ],
   "source": [
    "df.columns\n"
   ]
  },
  {
   "cell_type": "markdown",
   "id": "250553a5-623b-4258-9170-f0b4c756d4d3",
   "metadata": {},
   "source": [
    "## 11.2 From dict of ndarrays / lists \n",
    "The ndarrays must all be the same length.\n",
    " If an index is passed, it must clearly also be the same length as the arrays.\n",
    " If no index is passed, the result will be range(n), where n is the array length. "
   ]
  },
  {
   "cell_type": "code",
   "execution_count": 42,
   "id": "0641ff21-4d45-4c48-815e-3c74af9ba14e",
   "metadata": {},
   "outputs": [
    {
     "data": {
      "text/html": [
       "<div>\n",
       "<style scoped>\n",
       "    .dataframe tbody tr th:only-of-type {\n",
       "        vertical-align: middle;\n",
       "    }\n",
       "\n",
       "    .dataframe tbody tr th {\n",
       "        vertical-align: top;\n",
       "    }\n",
       "\n",
       "    .dataframe thead th {\n",
       "        text-align: right;\n",
       "    }\n",
       "</style>\n",
       "<table border=\"1\" class=\"dataframe\">\n",
       "  <thead>\n",
       "    <tr style=\"text-align: right;\">\n",
       "      <th></th>\n",
       "      <th>one</th>\n",
       "      <th>two</th>\n",
       "    </tr>\n",
       "  </thead>\n",
       "  <tbody>\n",
       "    <tr>\n",
       "      <th>0</th>\n",
       "      <td>1.0</td>\n",
       "      <td>4.0</td>\n",
       "    </tr>\n",
       "    <tr>\n",
       "      <th>1</th>\n",
       "      <td>2.0</td>\n",
       "      <td>3.0</td>\n",
       "    </tr>\n",
       "    <tr>\n",
       "      <th>2</th>\n",
       "      <td>3.0</td>\n",
       "      <td>2.0</td>\n",
       "    </tr>\n",
       "    <tr>\n",
       "      <th>3</th>\n",
       "      <td>4.0</td>\n",
       "      <td>1.0</td>\n",
       "    </tr>\n",
       "  </tbody>\n",
       "</table>\n",
       "</div>"
      ],
      "text/plain": [
       "   one  two\n",
       "0  1.0  4.0\n",
       "1  2.0  3.0\n",
       "2  3.0  2.0\n",
       "3  4.0  1.0"
      ]
     },
     "execution_count": 42,
     "metadata": {},
     "output_type": "execute_result"
    }
   ],
   "source": [
    "\n",
    "\"\"\"followind examples shows that ndarray has same length\"\"\"\n",
    "d = { \n",
    "'one' : [1., 2., 3., 4.],\n",
    "'two' : [4., 3., 2., 1.] \n",
    "} \n",
    "\"\"\"column labels are not given so \n",
    "the result will be range(n), where n is the array length\"\"\" \n",
    "pd.DataFrame(d) "
   ]
  },
  {
   "cell_type": "code",
   "execution_count": 43,
   "id": "b1cff6ef-97e7-4e76-aa37-67e8b91ff82e",
   "metadata": {},
   "outputs": [
    {
     "data": {
      "text/html": [
       "<div>\n",
       "<style scoped>\n",
       "    .dataframe tbody tr th:only-of-type {\n",
       "        vertical-align: middle;\n",
       "    }\n",
       "\n",
       "    .dataframe tbody tr th {\n",
       "        vertical-align: top;\n",
       "    }\n",
       "\n",
       "    .dataframe thead th {\n",
       "        text-align: right;\n",
       "    }\n",
       "</style>\n",
       "<table border=\"1\" class=\"dataframe\">\n",
       "  <thead>\n",
       "    <tr style=\"text-align: right;\">\n",
       "      <th></th>\n",
       "      <th>one</th>\n",
       "      <th>two</th>\n",
       "    </tr>\n",
       "  </thead>\n",
       "  <tbody>\n",
       "    <tr>\n",
       "      <th>a</th>\n",
       "      <td>1.0</td>\n",
       "      <td>4.0</td>\n",
       "    </tr>\n",
       "    <tr>\n",
       "      <th>b</th>\n",
       "      <td>2.0</td>\n",
       "      <td>3.0</td>\n",
       "    </tr>\n",
       "    <tr>\n",
       "      <th>c</th>\n",
       "      <td>3.0</td>\n",
       "      <td>2.0</td>\n",
       "    </tr>\n",
       "    <tr>\n",
       "      <th>d</th>\n",
       "      <td>4.0</td>\n",
       "      <td>1.0</td>\n",
       "    </tr>\n",
       "  </tbody>\n",
       "</table>\n",
       "</div>"
      ],
      "text/plain": [
       "   one  two\n",
       "a  1.0  4.0\n",
       "b  2.0  3.0\n",
       "c  3.0  2.0\n",
       "d  4.0  1.0"
      ]
     },
     "execution_count": 43,
     "metadata": {},
     "output_type": "execute_result"
    }
   ],
   "source": [
    "pd.DataFrame(d, index=['a', 'b', 'c', 'd']) \n"
   ]
  },
  {
   "cell_type": "markdown",
   "id": "281bc599-3a7d-401f-bc19-21098b12b9a1",
   "metadata": {},
   "source": [
    "## 11.3 From a list of dicts "
   ]
  },
  {
   "cell_type": "code",
   "execution_count": 44,
   "id": "b1bb510b-f52e-4b2a-ac8f-49b05032dd20",
   "metadata": {},
   "outputs": [
    {
     "data": {
      "text/html": [
       "<div>\n",
       "<style scoped>\n",
       "    .dataframe tbody tr th:only-of-type {\n",
       "        vertical-align: middle;\n",
       "    }\n",
       "\n",
       "    .dataframe tbody tr th {\n",
       "        vertical-align: top;\n",
       "    }\n",
       "\n",
       "    .dataframe thead th {\n",
       "        text-align: right;\n",
       "    }\n",
       "</style>\n",
       "<table border=\"1\" class=\"dataframe\">\n",
       "  <thead>\n",
       "    <tr style=\"text-align: right;\">\n",
       "      <th></th>\n",
       "      <th>a</th>\n",
       "      <th>b</th>\n",
       "      <th>c</th>\n",
       "    </tr>\n",
       "  </thead>\n",
       "  <tbody>\n",
       "    <tr>\n",
       "      <th>0</th>\n",
       "      <td>1</td>\n",
       "      <td>2</td>\n",
       "      <td>NaN</td>\n",
       "    </tr>\n",
       "    <tr>\n",
       "      <th>1</th>\n",
       "      <td>5</td>\n",
       "      <td>10</td>\n",
       "      <td>20.0</td>\n",
       "    </tr>\n",
       "  </tbody>\n",
       "</table>\n",
       "</div>"
      ],
      "text/plain": [
       "   a   b     c\n",
       "0  1   2   NaN\n",
       "1  5  10  20.0"
      ]
     },
     "execution_count": 44,
     "metadata": {},
     "output_type": "execute_result"
    }
   ],
   "source": [
    "\"\"\"constructing data frame from a list of dicts\"\"\" \n",
    "data2 = [{'a': 1, 'b': 2}, {'a': 5, 'b': 10, 'c': 20}]\n",
    "pd.DataFrame(data2) "
   ]
  },
  {
   "cell_type": "code",
   "execution_count": 45,
   "id": "c113cf3d-cd27-4b72-88a2-cd7b9047ea64",
   "metadata": {},
   "outputs": [
    {
     "data": {
      "text/html": [
       "<div>\n",
       "<style scoped>\n",
       "    .dataframe tbody tr th:only-of-type {\n",
       "        vertical-align: middle;\n",
       "    }\n",
       "\n",
       "    .dataframe tbody tr th {\n",
       "        vertical-align: top;\n",
       "    }\n",
       "\n",
       "    .dataframe thead th {\n",
       "        text-align: right;\n",
       "    }\n",
       "</style>\n",
       "<table border=\"1\" class=\"dataframe\">\n",
       "  <thead>\n",
       "    <tr style=\"text-align: right;\">\n",
       "      <th></th>\n",
       "      <th>a</th>\n",
       "      <th>b</th>\n",
       "      <th>c</th>\n",
       "    </tr>\n",
       "  </thead>\n",
       "  <tbody>\n",
       "    <tr>\n",
       "      <th>first</th>\n",
       "      <td>1</td>\n",
       "      <td>2</td>\n",
       "      <td>NaN</td>\n",
       "    </tr>\n",
       "    <tr>\n",
       "      <th>second</th>\n",
       "      <td>5</td>\n",
       "      <td>10</td>\n",
       "      <td>20.0</td>\n",
       "    </tr>\n",
       "  </tbody>\n",
       "</table>\n",
       "</div>"
      ],
      "text/plain": [
       "        a   b     c\n",
       "first   1   2   NaN\n",
       "second  5  10  20.0"
      ]
     },
     "execution_count": 45,
     "metadata": {},
     "output_type": "execute_result"
    }
   ],
   "source": [
    "pd.DataFrame(data2, index=['first', 'second']) "
   ]
  },
  {
   "cell_type": "code",
   "execution_count": 47,
   "id": "79befe75-0386-4134-9059-a19480301ae3",
   "metadata": {},
   "outputs": [
    {
     "data": {
      "text/html": [
       "<div>\n",
       "<style scoped>\n",
       "    .dataframe tbody tr th:only-of-type {\n",
       "        vertical-align: middle;\n",
       "    }\n",
       "\n",
       "    .dataframe tbody tr th {\n",
       "        vertical-align: top;\n",
       "    }\n",
       "\n",
       "    .dataframe thead th {\n",
       "        text-align: right;\n",
       "    }\n",
       "</style>\n",
       "<table border=\"1\" class=\"dataframe\">\n",
       "  <thead>\n",
       "    <tr style=\"text-align: right;\">\n",
       "      <th></th>\n",
       "      <th>a</th>\n",
       "      <th>b</th>\n",
       "    </tr>\n",
       "  </thead>\n",
       "  <tbody>\n",
       "    <tr>\n",
       "      <th>0</th>\n",
       "      <td>1</td>\n",
       "      <td>2</td>\n",
       "    </tr>\n",
       "    <tr>\n",
       "      <th>1</th>\n",
       "      <td>5</td>\n",
       "      <td>10</td>\n",
       "    </tr>\n",
       "  </tbody>\n",
       "</table>\n",
       "</div>"
      ],
      "text/plain": [
       "   a   b\n",
       "0  1   2\n",
       "1  5  10"
      ]
     },
     "execution_count": 47,
     "metadata": {},
     "output_type": "execute_result"
    }
   ],
   "source": [
    "\"\"\"passing list of dicts as data and columns (columns labels)\"\"\"\n",
    "pd.DataFrame(data2, columns=['a', 'b']) "
   ]
  },
  {
   "cell_type": "markdown",
   "id": "bd12b88c-dedd-4bca-bfc2-fab6909ee739",
   "metadata": {},
   "source": [
    "## 11.4 From a dict of tuples \n",
    "You can automatically create a multi-indexed frame by passing a tuples dictionary "
   ]
  },
  {
   "cell_type": "code",
   "execution_count": 48,
   "id": "21aca67e-e7a4-450a-a8d4-9d113da90d63",
   "metadata": {},
   "outputs": [
    {
     "data": {
      "text/html": [
       "<div>\n",
       "<style scoped>\n",
       "    .dataframe tbody tr th:only-of-type {\n",
       "        vertical-align: middle;\n",
       "    }\n",
       "\n",
       "    .dataframe tbody tr th {\n",
       "        vertical-align: top;\n",
       "    }\n",
       "\n",
       "    .dataframe thead tr th {\n",
       "        text-align: left;\n",
       "    }\n",
       "</style>\n",
       "<table border=\"1\" class=\"dataframe\">\n",
       "  <thead>\n",
       "    <tr>\n",
       "      <th></th>\n",
       "      <th></th>\n",
       "      <th colspan=\"3\" halign=\"left\">a</th>\n",
       "      <th colspan=\"2\" halign=\"left\">b</th>\n",
       "    </tr>\n",
       "    <tr>\n",
       "      <th></th>\n",
       "      <th></th>\n",
       "      <th>b</th>\n",
       "      <th>a</th>\n",
       "      <th>c</th>\n",
       "      <th>a</th>\n",
       "      <th>b</th>\n",
       "    </tr>\n",
       "  </thead>\n",
       "  <tbody>\n",
       "    <tr>\n",
       "      <th rowspan=\"3\" valign=\"top\">A</th>\n",
       "      <th>B</th>\n",
       "      <td>1.0</td>\n",
       "      <td>4.0</td>\n",
       "      <td>5.0</td>\n",
       "      <td>8.0</td>\n",
       "      <td>10.0</td>\n",
       "    </tr>\n",
       "    <tr>\n",
       "      <th>C</th>\n",
       "      <td>2.0</td>\n",
       "      <td>3.0</td>\n",
       "      <td>6.0</td>\n",
       "      <td>7.0</td>\n",
       "      <td>NaN</td>\n",
       "    </tr>\n",
       "    <tr>\n",
       "      <th>D</th>\n",
       "      <td>NaN</td>\n",
       "      <td>NaN</td>\n",
       "      <td>NaN</td>\n",
       "      <td>NaN</td>\n",
       "      <td>9.0</td>\n",
       "    </tr>\n",
       "  </tbody>\n",
       "</table>\n",
       "</div>"
      ],
      "text/plain": [
       "       a              b      \n",
       "       b    a    c    a     b\n",
       "A B  1.0  4.0  5.0  8.0  10.0\n",
       "  C  2.0  3.0  6.0  7.0   NaN\n",
       "  D  NaN  NaN  NaN  NaN   9.0"
      ]
     },
     "execution_count": 48,
     "metadata": {},
     "output_type": "execute_result"
    }
   ],
   "source": [
    "pd.DataFrame({('a', 'b'): {('A', 'B'): 1, ('A', 'C'): 2}, \n",
    "('a', 'a'): {('A', 'C'): 3, ('A', 'B'): 4},\n",
    " ('a', 'c'): {('A', 'B'): 5, ('A', 'C'): 6},\n",
    " ('b', 'a'): {('A', 'C'): 7, ('A', 'B'): 8},\n",
    " ('b', 'b'): {('A', 'D'): 9, ('A', 'B'): 10}})"
   ]
  },
  {
   "cell_type": "markdown",
   "id": "d4ea3c06-e3e4-4cc1-ab2b-a928a350bb9c",
   "metadata": {},
   "source": [
    "## 11.5 Alternate Constructors \n",
    "DataFrame.from_dict \n",
    "DataFrame.from_dict\n",
    " takes a dict of dicts or a dict of array-like sequences and returns a DataFrame. \n",
    "It operates like the DataFrame constructor except for the orient parameter which is 'columns' by default, but which can be set to 'index' in order\n",
    " to use the dict keys as row labels. \n",
    "DataFrame.from_records \n",
    "DataFrame.from_records\n",
    " takes a list of tuples or an ndarray with structured dtype. \n",
    "Works analogously to the normal DataFrame constructor, except that index maybe be a specific field of the structured dtype to use as the \n",
    "index."
   ]
  },
  {
   "cell_type": "code",
   "execution_count": 49,
   "id": "20169277-a129-476f-99b2-90f9b64ad6cb",
   "metadata": {},
   "outputs": [
    {
     "data": {
      "text/plain": [
       "array([(0, 0., b''), (0, 0., b'')],\n",
       "      dtype=[('A', '<i4'), ('B', '<f4'), ('C', 'S10')])"
      ]
     },
     "execution_count": 49,
     "metadata": {},
     "output_type": "execute_result"
    }
   ],
   "source": [
    "data = np.zeros((2,), dtype=[('A', 'i4'),('B', 'f4'),('C', 'a10')]) \n",
    "data"
   ]
  },
  {
   "cell_type": "code",
   "execution_count": 50,
   "id": "0a531a6c-4a3d-449f-bd7a-ea4641641a8f",
   "metadata": {},
   "outputs": [
    {
     "data": {
      "text/html": [
       "<div>\n",
       "<style scoped>\n",
       "    .dataframe tbody tr th:only-of-type {\n",
       "        vertical-align: middle;\n",
       "    }\n",
       "\n",
       "    .dataframe tbody tr th {\n",
       "        vertical-align: top;\n",
       "    }\n",
       "\n",
       "    .dataframe thead th {\n",
       "        text-align: right;\n",
       "    }\n",
       "</style>\n",
       "<table border=\"1\" class=\"dataframe\">\n",
       "  <thead>\n",
       "    <tr style=\"text-align: right;\">\n",
       "      <th></th>\n",
       "      <th>A</th>\n",
       "      <th>B</th>\n",
       "    </tr>\n",
       "    <tr>\n",
       "      <th>C</th>\n",
       "      <th></th>\n",
       "      <th></th>\n",
       "    </tr>\n",
       "  </thead>\n",
       "  <tbody>\n",
       "    <tr>\n",
       "      <th>b''</th>\n",
       "      <td>0</td>\n",
       "      <td>0.0</td>\n",
       "    </tr>\n",
       "    <tr>\n",
       "      <th>b''</th>\n",
       "      <td>0</td>\n",
       "      <td>0.0</td>\n",
       "    </tr>\n",
       "  </tbody>\n",
       "</table>\n",
       "</div>"
      ],
      "text/plain": [
       "     A    B\n",
       "C          \n",
       "b''  0  0.0\n",
       "b''  0  0.0"
      ]
     },
     "execution_count": 50,
     "metadata": {},
     "output_type": "execute_result"
    }
   ],
   "source": [
    "pd.DataFrame.from_records(data, index='C') "
   ]
  },
  {
   "cell_type": "markdown",
   "id": "5e03e658-b615-4622-b8ca-85f620a01e57",
   "metadata": {},
   "source": [
    "## DataFrame.from_dict \n",
    "## DataFrame.from_dict\n",
    " takes a dict of dicts or a dict of array-like sequences and returns a DataFrame. \n",
    "It operates like the DataFrame constructor except for the orient parameter which is 'columns' by default, but which can be set to 'index' in order\n",
    " to use the dict keys as row labels. \n",
    "## DataFrame.from_records \n",
    "## DataFrame.from_records\n",
    " takes a list of tuples or an ndarray with structured dtype. \n",
    "Works analogously to the normal DataFrame constructor, except that index maybe be a specific field of the structured dtype to use as the \n",
    "index. For example:"
   ]
  },
  {
   "cell_type": "code",
   "execution_count": 51,
   "id": "d004f477-dbd1-47ad-9798-5f20b19335f8",
   "metadata": {},
   "outputs": [
    {
     "data": {
      "text/plain": [
       "array([(0, 0., b''), (0, 0., b'')],\n",
       "      dtype=[('A', '<i4'), ('B', '<f4'), ('C', 'S10')])"
      ]
     },
     "execution_count": 51,
     "metadata": {},
     "output_type": "execute_result"
    }
   ],
   "source": [
    "data = np.zeros((2,), dtype=[('A', 'i4'),('B', 'f4'),('C', 'a10')]) \n",
    "data "
   ]
  },
  {
   "cell_type": "code",
   "execution_count": 52,
   "id": "6b197e29-912e-43e5-9f49-73aaee3ee2e0",
   "metadata": {},
   "outputs": [
    {
     "data": {
      "text/html": [
       "<div>\n",
       "<style scoped>\n",
       "    .dataframe tbody tr th:only-of-type {\n",
       "        vertical-align: middle;\n",
       "    }\n",
       "\n",
       "    .dataframe tbody tr th {\n",
       "        vertical-align: top;\n",
       "    }\n",
       "\n",
       "    .dataframe thead th {\n",
       "        text-align: right;\n",
       "    }\n",
       "</style>\n",
       "<table border=\"1\" class=\"dataframe\">\n",
       "  <thead>\n",
       "    <tr style=\"text-align: right;\">\n",
       "      <th></th>\n",
       "      <th>A</th>\n",
       "      <th>B</th>\n",
       "    </tr>\n",
       "    <tr>\n",
       "      <th>C</th>\n",
       "      <th></th>\n",
       "      <th></th>\n",
       "    </tr>\n",
       "  </thead>\n",
       "  <tbody>\n",
       "    <tr>\n",
       "      <th>b''</th>\n",
       "      <td>0</td>\n",
       "      <td>0.0</td>\n",
       "    </tr>\n",
       "    <tr>\n",
       "      <th>b''</th>\n",
       "      <td>0</td>\n",
       "      <td>0.0</td>\n",
       "    </tr>\n",
       "  </tbody>\n",
       "</table>\n",
       "</div>"
      ],
      "text/plain": [
       "     A    B\n",
       "C          \n",
       "b''  0  0.0\n",
       "b''  0  0.0"
      ]
     },
     "execution_count": 52,
     "metadata": {},
     "output_type": "execute_result"
    }
   ],
   "source": [
    "pd.DataFrame.from_records(data, index='C') "
   ]
  },
  {
   "cell_type": "code",
   "execution_count": 57,
   "id": "a27dc3ad-3e20-4053-bf71-90ddc00fc8aa",
   "metadata": {},
   "outputs": [
    {
     "name": "stdout",
     "output_type": "stream",
     "text": [
      "   A  B\n",
      "0  1  4\n",
      "1  2  5\n",
      "2  3  6\n"
     ]
    }
   ],
   "source": [
    "import pandas as pd\n",
    "df = pd.DataFrame({'A': [1, 2, 3], 'B': [4, 5, 6]})\n",
    "print(df)"
   ]
  },
  {
   "cell_type": "code",
   "execution_count": 61,
   "id": "38796cf0-6968-4dfc-a58e-7d2def7ee7ab",
   "metadata": {},
   "outputs": [
    {
     "name": "stdout",
     "output_type": "stream",
     "text": [
      "   one  two  three\n",
      "A    1    2      3\n",
      "B    4    5      6\n"
     ]
    }
   ],
   "source": [
    "import pandas as pd\n",
    "\n",
    "data = dict([('A', [1, 2, 3]), ('B', [4, 5, 6])])\n",
    "df = pd.DataFrame.from_dict(data, orient='index', columns=['one', 'two', 'three'])\n",
    "print(df)"
   ]
  },
  {
   "cell_type": "markdown",
   "id": "7f5d260b-fbd5-425c-8cb0-f58dea2bbeb1",
   "metadata": {},
   "source": [
    "## 11.6 Column selection, addition, deletion "
   ]
  },
  {
   "cell_type": "code",
   "execution_count": 62,
   "id": "ae1eb002-c6b5-4135-8f76-a85d23d5310f",
   "metadata": {},
   "outputs": [
    {
     "data": {
      "text/plain": [
       "A    1\n",
       "B    4\n",
       "Name: one, dtype: int64"
      ]
     },
     "execution_count": 62,
     "metadata": {},
     "output_type": "execute_result"
    }
   ],
   "source": [
    "df['one']"
   ]
  },
  {
   "cell_type": "code",
   "execution_count": 64,
   "id": "03d1123d-a896-4752-a959-01688cd96aa1",
   "metadata": {},
   "outputs": [],
   "source": [
    "df['three'] = df['one'] * df['two'] # assigning values to a colomn named 'three' after calculation"
   ]
  },
  {
   "cell_type": "code",
   "execution_count": 65,
   "id": "9b300514-1132-40c7-9eaf-4bb4f69b916c",
   "metadata": {},
   "outputs": [],
   "source": [
    "df['flag'] = df['one'] > 2 #check if value at column 'one' is > 2 then assign True otherwise false"
   ]
  },
  {
   "cell_type": "code",
   "execution_count": 66,
   "id": "124d3a5a-18f3-4c0b-a13b-b18485548b22",
   "metadata": {},
   "outputs": [
    {
     "data": {
      "text/html": [
       "<div>\n",
       "<style scoped>\n",
       "    .dataframe tbody tr th:only-of-type {\n",
       "        vertical-align: middle;\n",
       "    }\n",
       "\n",
       "    .dataframe tbody tr th {\n",
       "        vertical-align: top;\n",
       "    }\n",
       "\n",
       "    .dataframe thead th {\n",
       "        text-align: right;\n",
       "    }\n",
       "</style>\n",
       "<table border=\"1\" class=\"dataframe\">\n",
       "  <thead>\n",
       "    <tr style=\"text-align: right;\">\n",
       "      <th></th>\n",
       "      <th>one</th>\n",
       "      <th>two</th>\n",
       "      <th>three</th>\n",
       "      <th>flag</th>\n",
       "    </tr>\n",
       "  </thead>\n",
       "  <tbody>\n",
       "    <tr>\n",
       "      <th>A</th>\n",
       "      <td>1</td>\n",
       "      <td>2</td>\n",
       "      <td>2</td>\n",
       "      <td>False</td>\n",
       "    </tr>\n",
       "    <tr>\n",
       "      <th>B</th>\n",
       "      <td>4</td>\n",
       "      <td>5</td>\n",
       "      <td>20</td>\n",
       "      <td>True</td>\n",
       "    </tr>\n",
       "  </tbody>\n",
       "</table>\n",
       "</div>"
      ],
      "text/plain": [
       "   one  two  three   flag\n",
       "A    1    2      2  False\n",
       "B    4    5     20   True"
      ]
     },
     "execution_count": 66,
     "metadata": {},
     "output_type": "execute_result"
    }
   ],
   "source": [
    "df"
   ]
  },
  {
   "cell_type": "code",
   "execution_count": 67,
   "id": "e20e2f36-05e0-46db-b999-e8a39df941ba",
   "metadata": {},
   "outputs": [],
   "source": [
    "del df['two'] #delete a coloumn 'two' from data frame "
   ]
  },
  {
   "cell_type": "code",
   "execution_count": 68,
   "id": "719853bc-5211-41d2-8fed-d308567fde71",
   "metadata": {},
   "outputs": [],
   "source": [
    "three = df.pop('three') #pop a complete coloumn 'three' from dataframe "
   ]
  },
  {
   "cell_type": "code",
   "execution_count": 69,
   "id": "e26caba4-3a2c-4ff9-a016-1a4cd5552db3",
   "metadata": {},
   "outputs": [
    {
     "data": {
      "text/html": [
       "<div>\n",
       "<style scoped>\n",
       "    .dataframe tbody tr th:only-of-type {\n",
       "        vertical-align: middle;\n",
       "    }\n",
       "\n",
       "    .dataframe tbody tr th {\n",
       "        vertical-align: top;\n",
       "    }\n",
       "\n",
       "    .dataframe thead th {\n",
       "        text-align: right;\n",
       "    }\n",
       "</style>\n",
       "<table border=\"1\" class=\"dataframe\">\n",
       "  <thead>\n",
       "    <tr style=\"text-align: right;\">\n",
       "      <th></th>\n",
       "      <th>one</th>\n",
       "      <th>flag</th>\n",
       "    </tr>\n",
       "  </thead>\n",
       "  <tbody>\n",
       "    <tr>\n",
       "      <th>A</th>\n",
       "      <td>1</td>\n",
       "      <td>False</td>\n",
       "    </tr>\n",
       "    <tr>\n",
       "      <th>B</th>\n",
       "      <td>4</td>\n",
       "      <td>True</td>\n",
       "    </tr>\n",
       "  </tbody>\n",
       "</table>\n",
       "</div>"
      ],
      "text/plain": [
       "   one   flag\n",
       "A    1  False\n",
       "B    4   True"
      ]
     },
     "execution_count": 69,
     "metadata": {},
     "output_type": "execute_result"
    }
   ],
   "source": [
    "df"
   ]
  },
  {
   "cell_type": "code",
   "execution_count": 70,
   "id": "d08b592b-d292-4c91-92eb-3d2565095c3c",
   "metadata": {},
   "outputs": [],
   "source": [
    "df['foo'] = 'bar' #a coloumn 'foo' will be populated with 'bar' "
   ]
  },
  {
   "cell_type": "code",
   "execution_count": 71,
   "id": "c459d96b-dff0-420f-9f3f-22a05fc2f447",
   "metadata": {},
   "outputs": [
    {
     "data": {
      "text/html": [
       "<div>\n",
       "<style scoped>\n",
       "    .dataframe tbody tr th:only-of-type {\n",
       "        vertical-align: middle;\n",
       "    }\n",
       "\n",
       "    .dataframe tbody tr th {\n",
       "        vertical-align: top;\n",
       "    }\n",
       "\n",
       "    .dataframe thead th {\n",
       "        text-align: right;\n",
       "    }\n",
       "</style>\n",
       "<table border=\"1\" class=\"dataframe\">\n",
       "  <thead>\n",
       "    <tr style=\"text-align: right;\">\n",
       "      <th></th>\n",
       "      <th>one</th>\n",
       "      <th>flag</th>\n",
       "      <th>foo</th>\n",
       "    </tr>\n",
       "  </thead>\n",
       "  <tbody>\n",
       "    <tr>\n",
       "      <th>A</th>\n",
       "      <td>1</td>\n",
       "      <td>False</td>\n",
       "      <td>bar</td>\n",
       "    </tr>\n",
       "    <tr>\n",
       "      <th>B</th>\n",
       "      <td>4</td>\n",
       "      <td>True</td>\n",
       "      <td>bar</td>\n",
       "    </tr>\n",
       "  </tbody>\n",
       "</table>\n",
       "</div>"
      ],
      "text/plain": [
       "   one   flag  foo\n",
       "A    1  False  bar\n",
       "B    4   True  bar"
      ]
     },
     "execution_count": 71,
     "metadata": {},
     "output_type": "execute_result"
    }
   ],
   "source": [
    "df "
   ]
  },
  {
   "cell_type": "code",
   "execution_count": 72,
   "id": "93bc76fb-a0e9-4d95-a88c-9ffc957b30b5",
   "metadata": {},
   "outputs": [],
   "source": [
    " df['one_trunc'] = df['one'][:2] "
   ]
  },
  {
   "cell_type": "code",
   "execution_count": 73,
   "id": "18f14633-f7ca-4ab7-b32f-2039b398e30c",
   "metadata": {},
   "outputs": [
    {
     "data": {
      "text/html": [
       "<div>\n",
       "<style scoped>\n",
       "    .dataframe tbody tr th:only-of-type {\n",
       "        vertical-align: middle;\n",
       "    }\n",
       "\n",
       "    .dataframe tbody tr th {\n",
       "        vertical-align: top;\n",
       "    }\n",
       "\n",
       "    .dataframe thead th {\n",
       "        text-align: right;\n",
       "    }\n",
       "</style>\n",
       "<table border=\"1\" class=\"dataframe\">\n",
       "  <thead>\n",
       "    <tr style=\"text-align: right;\">\n",
       "      <th></th>\n",
       "      <th>one</th>\n",
       "      <th>flag</th>\n",
       "      <th>foo</th>\n",
       "      <th>one_trunc</th>\n",
       "    </tr>\n",
       "  </thead>\n",
       "  <tbody>\n",
       "    <tr>\n",
       "      <th>A</th>\n",
       "      <td>1</td>\n",
       "      <td>False</td>\n",
       "      <td>bar</td>\n",
       "      <td>1</td>\n",
       "    </tr>\n",
       "    <tr>\n",
       "      <th>B</th>\n",
       "      <td>4</td>\n",
       "      <td>True</td>\n",
       "      <td>bar</td>\n",
       "      <td>4</td>\n",
       "    </tr>\n",
       "  </tbody>\n",
       "</table>\n",
       "</div>"
      ],
      "text/plain": [
       "   one   flag  foo  one_trunc\n",
       "A    1  False  bar          1\n",
       "B    4   True  bar          4"
      ]
     },
     "execution_count": 73,
     "metadata": {},
     "output_type": "execute_result"
    }
   ],
   "source": [
    "df"
   ]
  },
  {
   "cell_type": "code",
   "execution_count": 75,
   "id": "16346f13-3e35-40bb-bd7f-02973bc78d1f",
   "metadata": {},
   "outputs": [],
   "source": [
    "df.insert(1, 'bar2', df['one']) "
   ]
  },
  {
   "cell_type": "code",
   "execution_count": 76,
   "id": "946438f5-6b02-4085-8592-d0adbec6ddad",
   "metadata": {},
   "outputs": [
    {
     "data": {
      "text/html": [
       "<div>\n",
       "<style scoped>\n",
       "    .dataframe tbody tr th:only-of-type {\n",
       "        vertical-align: middle;\n",
       "    }\n",
       "\n",
       "    .dataframe tbody tr th {\n",
       "        vertical-align: top;\n",
       "    }\n",
       "\n",
       "    .dataframe thead th {\n",
       "        text-align: right;\n",
       "    }\n",
       "</style>\n",
       "<table border=\"1\" class=\"dataframe\">\n",
       "  <thead>\n",
       "    <tr style=\"text-align: right;\">\n",
       "      <th></th>\n",
       "      <th>one</th>\n",
       "      <th>bar2</th>\n",
       "      <th>flag</th>\n",
       "      <th>foo</th>\n",
       "      <th>one_trunc</th>\n",
       "    </tr>\n",
       "  </thead>\n",
       "  <tbody>\n",
       "    <tr>\n",
       "      <th>A</th>\n",
       "      <td>1</td>\n",
       "      <td>1</td>\n",
       "      <td>False</td>\n",
       "      <td>bar</td>\n",
       "      <td>1</td>\n",
       "    </tr>\n",
       "    <tr>\n",
       "      <th>B</th>\n",
       "      <td>4</td>\n",
       "      <td>4</td>\n",
       "      <td>True</td>\n",
       "      <td>bar</td>\n",
       "      <td>4</td>\n",
       "    </tr>\n",
       "  </tbody>\n",
       "</table>\n",
       "</div>"
      ],
      "text/plain": [
       "   one  bar2   flag  foo  one_trunc\n",
       "A    1     1  False  bar          1\n",
       "B    4     4   True  bar          4"
      ]
     },
     "execution_count": 76,
     "metadata": {},
     "output_type": "execute_result"
    }
   ],
   "source": [
    "df"
   ]
  },
  {
   "cell_type": "markdown",
   "id": "d9b29c1e-4b39-4f6c-8fdb-e1e6d55b9a21",
   "metadata": {},
   "source": [
    "## 11.7 Indexing / Selection \n",
    "Row selection, for example, returns a Series whose index is the columns of the DataFrame: \n"
   ]
  },
  {
   "cell_type": "code",
   "execution_count": 78,
   "id": "92776b94-137e-4263-ae03-f55f2dd3e171",
   "metadata": {},
   "outputs": [
    {
     "data": {
      "text/plain": [
       "one             4\n",
       "bar2            4\n",
       "flag         True\n",
       "foo           bar\n",
       "one_trunc       4\n",
       "Name: B, dtype: object"
      ]
     },
     "execution_count": 78,
     "metadata": {},
     "output_type": "execute_result"
    }
   ],
   "source": [
    "df.loc['B'] #it will return the coloumn labels and values on row label 'b' "
   ]
  },
  {
   "cell_type": "markdown",
   "id": "512d79af-a3a8-46c2-9503-18c881e39859",
   "metadata": {},
   "source": [
    "## 11.8 Data alignment and arithmetic \n",
    "Data alignment between DataFrame objects automatically align on both the columns and the index (row labels). \n",
    "Again, the resulting object will have the union of the column and row labels. "
   ]
  },
  {
   "cell_type": "code",
   "execution_count": 81,
   "id": "7161410e-d7e3-417c-b774-cfe25e44381b",
   "metadata": {},
   "outputs": [],
   "source": [
    " df = pd.DataFrame(np.random.randn(10, 4), columns=['A', 'B', 'C', 'D']) "
   ]
  },
  {
   "cell_type": "code",
   "execution_count": 84,
   "id": "b9333fb4-2f58-4f94-be6c-959ce2f5471c",
   "metadata": {},
   "outputs": [],
   "source": [
    " df2 = pd.DataFrame(np.random.randn(7, 3), columns=['A', 'B', 'C']) "
   ]
  },
  {
   "cell_type": "code",
   "execution_count": 85,
   "id": "7c7bbc06-5875-4421-98d9-4c9e1f4b24d3",
   "metadata": {},
   "outputs": [
    {
     "data": {
      "text/html": [
       "<div>\n",
       "<style scoped>\n",
       "    .dataframe tbody tr th:only-of-type {\n",
       "        vertical-align: middle;\n",
       "    }\n",
       "\n",
       "    .dataframe tbody tr th {\n",
       "        vertical-align: top;\n",
       "    }\n",
       "\n",
       "    .dataframe thead th {\n",
       "        text-align: right;\n",
       "    }\n",
       "</style>\n",
       "<table border=\"1\" class=\"dataframe\">\n",
       "  <thead>\n",
       "    <tr style=\"text-align: right;\">\n",
       "      <th></th>\n",
       "      <th>A</th>\n",
       "      <th>B</th>\n",
       "      <th>C</th>\n",
       "      <th>D</th>\n",
       "    </tr>\n",
       "  </thead>\n",
       "  <tbody>\n",
       "    <tr>\n",
       "      <th>0</th>\n",
       "      <td>-1.820948</td>\n",
       "      <td>-0.486120</td>\n",
       "      <td>-0.886483</td>\n",
       "      <td>NaN</td>\n",
       "    </tr>\n",
       "    <tr>\n",
       "      <th>1</th>\n",
       "      <td>-0.461743</td>\n",
       "      <td>1.088237</td>\n",
       "      <td>0.281200</td>\n",
       "      <td>NaN</td>\n",
       "    </tr>\n",
       "    <tr>\n",
       "      <th>2</th>\n",
       "      <td>0.675820</td>\n",
       "      <td>0.172114</td>\n",
       "      <td>-1.697285</td>\n",
       "      <td>NaN</td>\n",
       "    </tr>\n",
       "    <tr>\n",
       "      <th>3</th>\n",
       "      <td>-2.110138</td>\n",
       "      <td>-1.476548</td>\n",
       "      <td>0.799935</td>\n",
       "      <td>NaN</td>\n",
       "    </tr>\n",
       "    <tr>\n",
       "      <th>4</th>\n",
       "      <td>2.314831</td>\n",
       "      <td>-1.733302</td>\n",
       "      <td>-3.525600</td>\n",
       "      <td>NaN</td>\n",
       "    </tr>\n",
       "    <tr>\n",
       "      <th>5</th>\n",
       "      <td>0.670412</td>\n",
       "      <td>0.106476</td>\n",
       "      <td>-2.043985</td>\n",
       "      <td>NaN</td>\n",
       "    </tr>\n",
       "    <tr>\n",
       "      <th>6</th>\n",
       "      <td>0.223106</td>\n",
       "      <td>1.308287</td>\n",
       "      <td>1.466554</td>\n",
       "      <td>NaN</td>\n",
       "    </tr>\n",
       "    <tr>\n",
       "      <th>7</th>\n",
       "      <td>NaN</td>\n",
       "      <td>NaN</td>\n",
       "      <td>NaN</td>\n",
       "      <td>NaN</td>\n",
       "    </tr>\n",
       "    <tr>\n",
       "      <th>8</th>\n",
       "      <td>NaN</td>\n",
       "      <td>NaN</td>\n",
       "      <td>NaN</td>\n",
       "      <td>NaN</td>\n",
       "    </tr>\n",
       "    <tr>\n",
       "      <th>9</th>\n",
       "      <td>NaN</td>\n",
       "      <td>NaN</td>\n",
       "      <td>NaN</td>\n",
       "      <td>NaN</td>\n",
       "    </tr>\n",
       "  </tbody>\n",
       "</table>\n",
       "</div>"
      ],
      "text/plain": [
       "          A         B         C   D\n",
       "0 -1.820948 -0.486120 -0.886483 NaN\n",
       "1 -0.461743  1.088237  0.281200 NaN\n",
       "2  0.675820  0.172114 -1.697285 NaN\n",
       "3 -2.110138 -1.476548  0.799935 NaN\n",
       "4  2.314831 -1.733302 -3.525600 NaN\n",
       "5  0.670412  0.106476 -2.043985 NaN\n",
       "6  0.223106  1.308287  1.466554 NaN\n",
       "7       NaN       NaN       NaN NaN\n",
       "8       NaN       NaN       NaN NaN\n",
       "9       NaN       NaN       NaN NaN"
      ]
     },
     "execution_count": 85,
     "metadata": {},
     "output_type": "execute_result"
    }
   ],
   "source": [
    "df+df2"
   ]
  },
  {
   "cell_type": "code",
   "execution_count": 86,
   "id": "a4143f5a-8764-49f2-bf35-1b48c184ebea",
   "metadata": {},
   "outputs": [
    {
     "data": {
      "text/html": [
       "<div>\n",
       "<style scoped>\n",
       "    .dataframe tbody tr th:only-of-type {\n",
       "        vertical-align: middle;\n",
       "    }\n",
       "\n",
       "    .dataframe tbody tr th {\n",
       "        vertical-align: top;\n",
       "    }\n",
       "\n",
       "    .dataframe thead th {\n",
       "        text-align: right;\n",
       "    }\n",
       "</style>\n",
       "<table border=\"1\" class=\"dataframe\">\n",
       "  <thead>\n",
       "    <tr style=\"text-align: right;\">\n",
       "      <th></th>\n",
       "      <th>A</th>\n",
       "      <th>B</th>\n",
       "      <th>C</th>\n",
       "      <th>D</th>\n",
       "    </tr>\n",
       "  </thead>\n",
       "  <tbody>\n",
       "    <tr>\n",
       "      <th>0</th>\n",
       "      <td>0.000000</td>\n",
       "      <td>0.000000</td>\n",
       "      <td>0.000000</td>\n",
       "      <td>0.000000</td>\n",
       "    </tr>\n",
       "    <tr>\n",
       "      <th>1</th>\n",
       "      <td>0.639081</td>\n",
       "      <td>-1.453420</td>\n",
       "      <td>0.016733</td>\n",
       "      <td>0.965865</td>\n",
       "    </tr>\n",
       "    <tr>\n",
       "      <th>2</th>\n",
       "      <td>1.290349</td>\n",
       "      <td>-0.013756</td>\n",
       "      <td>-1.726830</td>\n",
       "      <td>1.011211</td>\n",
       "    </tr>\n",
       "    <tr>\n",
       "      <th>3</th>\n",
       "      <td>-0.389161</td>\n",
       "      <td>-1.429068</td>\n",
       "      <td>0.605839</td>\n",
       "      <td>0.754351</td>\n",
       "    </tr>\n",
       "    <tr>\n",
       "      <th>4</th>\n",
       "      <td>1.018968</td>\n",
       "      <td>-0.262731</td>\n",
       "      <td>-3.133559</td>\n",
       "      <td>0.204583</td>\n",
       "    </tr>\n",
       "    <tr>\n",
       "      <th>5</th>\n",
       "      <td>0.290290</td>\n",
       "      <td>-0.395141</td>\n",
       "      <td>-2.381572</td>\n",
       "      <td>1.082686</td>\n",
       "    </tr>\n",
       "    <tr>\n",
       "      <th>6</th>\n",
       "      <td>-0.402885</td>\n",
       "      <td>0.064150</td>\n",
       "      <td>-1.247060</td>\n",
       "      <td>1.351593</td>\n",
       "    </tr>\n",
       "    <tr>\n",
       "      <th>7</th>\n",
       "      <td>1.896698</td>\n",
       "      <td>-0.453397</td>\n",
       "      <td>-0.675429</td>\n",
       "      <td>2.685565</td>\n",
       "    </tr>\n",
       "    <tr>\n",
       "      <th>8</th>\n",
       "      <td>-0.554543</td>\n",
       "      <td>-0.896165</td>\n",
       "      <td>-0.409928</td>\n",
       "      <td>1.583059</td>\n",
       "    </tr>\n",
       "    <tr>\n",
       "      <th>9</th>\n",
       "      <td>-0.593379</td>\n",
       "      <td>1.425349</td>\n",
       "      <td>-2.022591</td>\n",
       "      <td>1.050971</td>\n",
       "    </tr>\n",
       "  </tbody>\n",
       "</table>\n",
       "</div>"
      ],
      "text/plain": [
       "          A         B         C         D\n",
       "0  0.000000  0.000000  0.000000  0.000000\n",
       "1  0.639081 -1.453420  0.016733  0.965865\n",
       "2  1.290349 -0.013756 -1.726830  1.011211\n",
       "3 -0.389161 -1.429068  0.605839  0.754351\n",
       "4  1.018968 -0.262731 -3.133559  0.204583\n",
       "5  0.290290 -0.395141 -2.381572  1.082686\n",
       "6 -0.402885  0.064150 -1.247060  1.351593\n",
       "7  1.896698 -0.453397 -0.675429  2.685565\n",
       "8 -0.554543 -0.896165 -0.409928  1.583059\n",
       "9 -0.593379  1.425349 -2.022591  1.050971"
      ]
     },
     "execution_count": 86,
     "metadata": {},
     "output_type": "execute_result"
    }
   ],
   "source": [
    "df - df.iloc[0]\n"
   ]
  },
  {
   "cell_type": "code",
   "execution_count": 87,
   "id": "f37edd83-5b4c-4a5e-9004-dedb53ef1345",
   "metadata": {},
   "outputs": [
    {
     "data": {
      "text/html": [
       "<div>\n",
       "<style scoped>\n",
       "    .dataframe tbody tr th:only-of-type {\n",
       "        vertical-align: middle;\n",
       "    }\n",
       "\n",
       "    .dataframe tbody tr th {\n",
       "        vertical-align: top;\n",
       "    }\n",
       "\n",
       "    .dataframe thead th {\n",
       "        text-align: right;\n",
       "    }\n",
       "</style>\n",
       "<table border=\"1\" class=\"dataframe\">\n",
       "  <thead>\n",
       "    <tr style=\"text-align: right;\">\n",
       "      <th></th>\n",
       "      <th>A</th>\n",
       "      <th>B</th>\n",
       "      <th>C</th>\n",
       "      <th>D</th>\n",
       "    </tr>\n",
       "  </thead>\n",
       "  <tbody>\n",
       "    <tr>\n",
       "      <th>0</th>\n",
       "      <td>-0.158454</td>\n",
       "      <td>4.610463</td>\n",
       "      <td>5.420448</td>\n",
       "      <td>-3.422235</td>\n",
       "    </tr>\n",
       "    <tr>\n",
       "      <th>1</th>\n",
       "      <td>3.036952</td>\n",
       "      <td>-2.656637</td>\n",
       "      <td>5.504113</td>\n",
       "      <td>1.407088</td>\n",
       "    </tr>\n",
       "    <tr>\n",
       "      <th>2</th>\n",
       "      <td>6.293293</td>\n",
       "      <td>4.541683</td>\n",
       "      <td>-3.213700</td>\n",
       "      <td>1.633819</td>\n",
       "    </tr>\n",
       "    <tr>\n",
       "      <th>3</th>\n",
       "      <td>-2.104261</td>\n",
       "      <td>-2.534878</td>\n",
       "      <td>8.449641</td>\n",
       "      <td>0.349519</td>\n",
       "    </tr>\n",
       "    <tr>\n",
       "      <th>4</th>\n",
       "      <td>4.936387</td>\n",
       "      <td>3.296808</td>\n",
       "      <td>-10.247345</td>\n",
       "      <td>-2.399319</td>\n",
       "    </tr>\n",
       "    <tr>\n",
       "      <th>5</th>\n",
       "      <td>1.292997</td>\n",
       "      <td>2.634758</td>\n",
       "      <td>-6.487411</td>\n",
       "      <td>1.991195</td>\n",
       "    </tr>\n",
       "    <tr>\n",
       "      <th>6</th>\n",
       "      <td>-2.172880</td>\n",
       "      <td>4.931212</td>\n",
       "      <td>-0.814852</td>\n",
       "      <td>3.335728</td>\n",
       "    </tr>\n",
       "    <tr>\n",
       "      <th>7</th>\n",
       "      <td>9.325035</td>\n",
       "      <td>2.343478</td>\n",
       "      <td>2.043300</td>\n",
       "      <td>10.005591</td>\n",
       "    </tr>\n",
       "    <tr>\n",
       "      <th>8</th>\n",
       "      <td>-2.931170</td>\n",
       "      <td>0.129636</td>\n",
       "      <td>3.370807</td>\n",
       "      <td>4.493058</td>\n",
       "    </tr>\n",
       "    <tr>\n",
       "      <th>9</th>\n",
       "      <td>-3.125348</td>\n",
       "      <td>11.737207</td>\n",
       "      <td>-4.692508</td>\n",
       "      <td>1.832618</td>\n",
       "    </tr>\n",
       "  </tbody>\n",
       "</table>\n",
       "</div>"
      ],
      "text/plain": [
       "          A          B          C          D\n",
       "0 -0.158454   4.610463   5.420448  -3.422235\n",
       "1  3.036952  -2.656637   5.504113   1.407088\n",
       "2  6.293293   4.541683  -3.213700   1.633819\n",
       "3 -2.104261  -2.534878   8.449641   0.349519\n",
       "4  4.936387   3.296808 -10.247345  -2.399319\n",
       "5  1.292997   2.634758  -6.487411   1.991195\n",
       "6 -2.172880   4.931212  -0.814852   3.335728\n",
       "7  9.325035   2.343478   2.043300  10.005591\n",
       "8 -2.931170   0.129636   3.370807   4.493058\n",
       "9 -3.125348  11.737207  -4.692508   1.832618"
      ]
     },
     "execution_count": 87,
     "metadata": {},
     "output_type": "execute_result"
    }
   ],
   "source": [
    " df*5+2\n"
   ]
  },
  {
   "cell_type": "code",
   "execution_count": 88,
   "id": "258b5325-9e2d-4f99-a157-54f964fc58f0",
   "metadata": {},
   "outputs": [
    {
     "data": {
      "text/html": [
       "<div>\n",
       "<style scoped>\n",
       "    .dataframe tbody tr th:only-of-type {\n",
       "        vertical-align: middle;\n",
       "    }\n",
       "\n",
       "    .dataframe tbody tr th {\n",
       "        vertical-align: top;\n",
       "    }\n",
       "\n",
       "    .dataframe thead th {\n",
       "        text-align: right;\n",
       "    }\n",
       "</style>\n",
       "<table border=\"1\" class=\"dataframe\">\n",
       "  <thead>\n",
       "    <tr style=\"text-align: right;\">\n",
       "      <th></th>\n",
       "      <th>A</th>\n",
       "      <th>B</th>\n",
       "      <th>C</th>\n",
       "      <th>D</th>\n",
       "    </tr>\n",
       "  </thead>\n",
       "  <tbody>\n",
       "    <tr>\n",
       "      <th>0</th>\n",
       "      <td>-2.316473</td>\n",
       "      <td>1.915369</td>\n",
       "      <td>1.461797</td>\n",
       "      <td>-0.922129</td>\n",
       "    </tr>\n",
       "    <tr>\n",
       "      <th>1</th>\n",
       "      <td>4.821825</td>\n",
       "      <td>-1.073736</td>\n",
       "      <td>1.426895</td>\n",
       "      <td>-8.432953</td>\n",
       "    </tr>\n",
       "    <tr>\n",
       "      <th>2</th>\n",
       "      <td>1.164607</td>\n",
       "      <td>1.967200</td>\n",
       "      <td>-0.959012</td>\n",
       "      <td>-13.654438</td>\n",
       "    </tr>\n",
       "    <tr>\n",
       "      <th>3</th>\n",
       "      <td>-1.218246</td>\n",
       "      <td>-1.102566</td>\n",
       "      <td>0.775237</td>\n",
       "      <td>-3.029420</td>\n",
       "    </tr>\n",
       "    <tr>\n",
       "      <th>4</th>\n",
       "      <td>1.702773</td>\n",
       "      <td>3.855622</td>\n",
       "      <td>-0.408252</td>\n",
       "      <td>-1.136540</td>\n",
       "    </tr>\n",
       "    <tr>\n",
       "      <th>5</th>\n",
       "      <td>-7.072106</td>\n",
       "      <td>7.877016</td>\n",
       "      <td>-0.589108</td>\n",
       "      <td>-567.876488</td>\n",
       "    </tr>\n",
       "    <tr>\n",
       "      <th>6</th>\n",
       "      <td>-1.198213</td>\n",
       "      <td>1.705779</td>\n",
       "      <td>-1.776292</td>\n",
       "      <td>3.743277</td>\n",
       "    </tr>\n",
       "    <tr>\n",
       "      <th>7</th>\n",
       "      <td>0.682591</td>\n",
       "      <td>14.556984</td>\n",
       "      <td>115.472164</td>\n",
       "      <td>0.624563</td>\n",
       "    </tr>\n",
       "    <tr>\n",
       "      <th>8</th>\n",
       "      <td>-1.013958</td>\n",
       "      <td>-2.673277</td>\n",
       "      <td>3.647487</td>\n",
       "      <td>2.005569</td>\n",
       "    </tr>\n",
       "    <tr>\n",
       "      <th>9</th>\n",
       "      <td>-0.975544</td>\n",
       "      <td>0.513494</td>\n",
       "      <td>-0.747104</td>\n",
       "      <td>-29.871764</td>\n",
       "    </tr>\n",
       "  </tbody>\n",
       "</table>\n",
       "</div>"
      ],
      "text/plain": [
       "          A          B           C           D\n",
       "0 -2.316473   1.915369    1.461797   -0.922129\n",
       "1  4.821825  -1.073736    1.426895   -8.432953\n",
       "2  1.164607   1.967200   -0.959012  -13.654438\n",
       "3 -1.218246  -1.102566    0.775237   -3.029420\n",
       "4  1.702773   3.855622   -0.408252   -1.136540\n",
       "5 -7.072106   7.877016   -0.589108 -567.876488\n",
       "6 -1.198213   1.705779   -1.776292    3.743277\n",
       "7  0.682591  14.556984  115.472164    0.624563\n",
       "8 -1.013958  -2.673277    3.647487    2.005569\n",
       "9 -0.975544   0.513494   -0.747104  -29.871764"
      ]
     },
     "execution_count": 88,
     "metadata": {},
     "output_type": "execute_result"
    }
   ],
   "source": [
    "1/df"
   ]
  },
  {
   "cell_type": "code",
   "execution_count": 89,
   "id": "34a2a8f0-629a-45fa-9647-7ad11d882250",
   "metadata": {},
   "outputs": [
    {
     "data": {
      "text/html": [
       "<div>\n",
       "<style scoped>\n",
       "    .dataframe tbody tr th:only-of-type {\n",
       "        vertical-align: middle;\n",
       "    }\n",
       "\n",
       "    .dataframe tbody tr th {\n",
       "        vertical-align: top;\n",
       "    }\n",
       "\n",
       "    .dataframe thead th {\n",
       "        text-align: right;\n",
       "    }\n",
       "</style>\n",
       "<table border=\"1\" class=\"dataframe\">\n",
       "  <thead>\n",
       "    <tr style=\"text-align: right;\">\n",
       "      <th></th>\n",
       "      <th>A</th>\n",
       "      <th>B</th>\n",
       "      <th>C</th>\n",
       "      <th>D</th>\n",
       "    </tr>\n",
       "  </thead>\n",
       "  <tbody>\n",
       "    <tr>\n",
       "      <th>0</th>\n",
       "      <td>0.034729</td>\n",
       "      <td>0.074300</td>\n",
       "      <td>2.190039e-01</td>\n",
       "      <td>1.383036e+00</td>\n",
       "    </tr>\n",
       "    <tr>\n",
       "      <th>1</th>\n",
       "      <td>0.001850</td>\n",
       "      <td>0.752332</td>\n",
       "      <td>2.412306e-01</td>\n",
       "      <td>1.977340e-04</td>\n",
       "    </tr>\n",
       "    <tr>\n",
       "      <th>2</th>\n",
       "      <td>0.543603</td>\n",
       "      <td>0.066774</td>\n",
       "      <td>1.182236e+00</td>\n",
       "      <td>2.876767e-05</td>\n",
       "    </tr>\n",
       "    <tr>\n",
       "      <th>3</th>\n",
       "      <td>0.454004</td>\n",
       "      <td>0.676678</td>\n",
       "      <td>2.768613e+00</td>\n",
       "      <td>1.187305e-02</td>\n",
       "    </tr>\n",
       "    <tr>\n",
       "      <th>4</th>\n",
       "      <td>0.118952</td>\n",
       "      <td>0.004525</td>\n",
       "      <td>3.599879e+01</td>\n",
       "      <td>5.993242e-01</td>\n",
       "    </tr>\n",
       "    <tr>\n",
       "      <th>5</th>\n",
       "      <td>0.000400</td>\n",
       "      <td>0.000260</td>\n",
       "      <td>8.302729e+00</td>\n",
       "      <td>9.615778e-12</td>\n",
       "    </tr>\n",
       "    <tr>\n",
       "      <th>6</th>\n",
       "      <td>0.485136</td>\n",
       "      <td>0.118116</td>\n",
       "      <td>1.004482e-01</td>\n",
       "      <td>5.093215e-03</td>\n",
       "    </tr>\n",
       "    <tr>\n",
       "      <th>7</th>\n",
       "      <td>4.606370</td>\n",
       "      <td>0.000022</td>\n",
       "      <td>5.624589e-09</td>\n",
       "      <td>6.571941e+00</td>\n",
       "    </tr>\n",
       "    <tr>\n",
       "      <th>8</th>\n",
       "      <td>0.946062</td>\n",
       "      <td>0.019581</td>\n",
       "      <td>5.649692e-03</td>\n",
       "      <td>6.180873e-02</td>\n",
       "    </tr>\n",
       "    <tr>\n",
       "      <th>9</th>\n",
       "      <td>1.104112</td>\n",
       "      <td>14.383269</td>\n",
       "      <td>3.209782e+00</td>\n",
       "      <td>1.255904e-06</td>\n",
       "    </tr>\n",
       "  </tbody>\n",
       "</table>\n",
       "</div>"
      ],
      "text/plain": [
       "          A          B             C             D\n",
       "0  0.034729   0.074300  2.190039e-01  1.383036e+00\n",
       "1  0.001850   0.752332  2.412306e-01  1.977340e-04\n",
       "2  0.543603   0.066774  1.182236e+00  2.876767e-05\n",
       "3  0.454004   0.676678  2.768613e+00  1.187305e-02\n",
       "4  0.118952   0.004525  3.599879e+01  5.993242e-01\n",
       "5  0.000400   0.000260  8.302729e+00  9.615778e-12\n",
       "6  0.485136   0.118116  1.004482e-01  5.093215e-03\n",
       "7  4.606370   0.000022  5.624589e-09  6.571941e+00\n",
       "8  0.946062   0.019581  5.649692e-03  6.180873e-02\n",
       "9  1.104112  14.383269  3.209782e+00  1.255904e-06"
      ]
     },
     "execution_count": 89,
     "metadata": {},
     "output_type": "execute_result"
    }
   ],
   "source": [
    "df**4"
   ]
  },
  {
   "cell_type": "code",
   "execution_count": 90,
   "id": "3d891b6f-2952-4f95-ad46-a1973aed88ee",
   "metadata": {},
   "outputs": [],
   "source": [
    " df1 = pd.DataFrame({'a' : [1, 0, 1], 'b' : [0, 1, 1] }, dtype=bool)\n"
   ]
  },
  {
   "cell_type": "code",
   "execution_count": 91,
   "id": "22d9cef2-5591-4089-a0a3-99b6d28d4fe0",
   "metadata": {},
   "outputs": [],
   "source": [
    " df2 = pd.DataFrame({'a' : [0, 1, 1], 'b' : [1, 1, 0] }, dtype=bool)\n"
   ]
  },
  {
   "cell_type": "code",
   "execution_count": 92,
   "id": "1e002cd8-111e-4d92-95b7-fec01d30b2c0",
   "metadata": {},
   "outputs": [
    {
     "data": {
      "text/html": [
       "<div>\n",
       "<style scoped>\n",
       "    .dataframe tbody tr th:only-of-type {\n",
       "        vertical-align: middle;\n",
       "    }\n",
       "\n",
       "    .dataframe tbody tr th {\n",
       "        vertical-align: top;\n",
       "    }\n",
       "\n",
       "    .dataframe thead th {\n",
       "        text-align: right;\n",
       "    }\n",
       "</style>\n",
       "<table border=\"1\" class=\"dataframe\">\n",
       "  <thead>\n",
       "    <tr style=\"text-align: right;\">\n",
       "      <th></th>\n",
       "      <th>a</th>\n",
       "      <th>b</th>\n",
       "    </tr>\n",
       "  </thead>\n",
       "  <tbody>\n",
       "    <tr>\n",
       "      <th>0</th>\n",
       "      <td>False</td>\n",
       "      <td>True</td>\n",
       "    </tr>\n",
       "    <tr>\n",
       "      <th>1</th>\n",
       "      <td>True</td>\n",
       "      <td>True</td>\n",
       "    </tr>\n",
       "    <tr>\n",
       "      <th>2</th>\n",
       "      <td>True</td>\n",
       "      <td>False</td>\n",
       "    </tr>\n",
       "  </tbody>\n",
       "</table>\n",
       "</div>"
      ],
      "text/plain": [
       "       a      b\n",
       "0  False   True\n",
       "1   True   True\n",
       "2   True  False"
      ]
     },
     "execution_count": 92,
     "metadata": {},
     "output_type": "execute_result"
    }
   ],
   "source": [
    " pd.DataFrame({'a' : [0, 1, 1], 'b' : [1, 1, 0] }, dtype=bool) "
   ]
  },
  {
   "cell_type": "code",
   "execution_count": 93,
   "id": "bc8ae790-7ad0-49f4-b692-2f22f4d737df",
   "metadata": {},
   "outputs": [
    {
     "data": {
      "text/html": [
       "<div>\n",
       "<style scoped>\n",
       "    .dataframe tbody tr th:only-of-type {\n",
       "        vertical-align: middle;\n",
       "    }\n",
       "\n",
       "    .dataframe tbody tr th {\n",
       "        vertical-align: top;\n",
       "    }\n",
       "\n",
       "    .dataframe thead th {\n",
       "        text-align: right;\n",
       "    }\n",
       "</style>\n",
       "<table border=\"1\" class=\"dataframe\">\n",
       "  <thead>\n",
       "    <tr style=\"text-align: right;\">\n",
       "      <th></th>\n",
       "      <th>a</th>\n",
       "      <th>b</th>\n",
       "    </tr>\n",
       "  </thead>\n",
       "  <tbody>\n",
       "    <tr>\n",
       "      <th>0</th>\n",
       "      <td>False</td>\n",
       "      <td>False</td>\n",
       "    </tr>\n",
       "    <tr>\n",
       "      <th>1</th>\n",
       "      <td>False</td>\n",
       "      <td>True</td>\n",
       "    </tr>\n",
       "    <tr>\n",
       "      <th>2</th>\n",
       "      <td>True</td>\n",
       "      <td>False</td>\n",
       "    </tr>\n",
       "  </tbody>\n",
       "</table>\n",
       "</div>"
      ],
      "text/plain": [
       "       a      b\n",
       "0  False  False\n",
       "1  False   True\n",
       "2   True  False"
      ]
     },
     "execution_count": 93,
     "metadata": {},
     "output_type": "execute_result"
    }
   ],
   "source": [
    "df1 & df2 "
   ]
  },
  {
   "cell_type": "code",
   "execution_count": 94,
   "id": "a1a8587b-622b-4143-b47f-2ca46f3666b8",
   "metadata": {},
   "outputs": [
    {
     "data": {
      "text/html": [
       "<div>\n",
       "<style scoped>\n",
       "    .dataframe tbody tr th:only-of-type {\n",
       "        vertical-align: middle;\n",
       "    }\n",
       "\n",
       "    .dataframe tbody tr th {\n",
       "        vertical-align: top;\n",
       "    }\n",
       "\n",
       "    .dataframe thead th {\n",
       "        text-align: right;\n",
       "    }\n",
       "</style>\n",
       "<table border=\"1\" class=\"dataframe\">\n",
       "  <thead>\n",
       "    <tr style=\"text-align: right;\">\n",
       "      <th></th>\n",
       "      <th>a</th>\n",
       "      <th>b</th>\n",
       "    </tr>\n",
       "  </thead>\n",
       "  <tbody>\n",
       "    <tr>\n",
       "      <th>0</th>\n",
       "      <td>True</td>\n",
       "      <td>True</td>\n",
       "    </tr>\n",
       "    <tr>\n",
       "      <th>1</th>\n",
       "      <td>True</td>\n",
       "      <td>True</td>\n",
       "    </tr>\n",
       "    <tr>\n",
       "      <th>2</th>\n",
       "      <td>True</td>\n",
       "      <td>True</td>\n",
       "    </tr>\n",
       "  </tbody>\n",
       "</table>\n",
       "</div>"
      ],
      "text/plain": [
       "      a     b\n",
       "0  True  True\n",
       "1  True  True\n",
       "2  True  True"
      ]
     },
     "execution_count": 94,
     "metadata": {},
     "output_type": "execute_result"
    }
   ],
   "source": [
    " df1 | df2 # or operator "
   ]
  },
  {
   "cell_type": "code",
   "execution_count": 95,
   "id": "4a88cbf0-49ce-4d36-ba73-4195eb2cf862",
   "metadata": {},
   "outputs": [
    {
     "data": {
      "text/html": [
       "<div>\n",
       "<style scoped>\n",
       "    .dataframe tbody tr th:only-of-type {\n",
       "        vertical-align: middle;\n",
       "    }\n",
       "\n",
       "    .dataframe tbody tr th {\n",
       "        vertical-align: top;\n",
       "    }\n",
       "\n",
       "    .dataframe thead th {\n",
       "        text-align: right;\n",
       "    }\n",
       "</style>\n",
       "<table border=\"1\" class=\"dataframe\">\n",
       "  <thead>\n",
       "    <tr style=\"text-align: right;\">\n",
       "      <th></th>\n",
       "      <th>a</th>\n",
       "      <th>b</th>\n",
       "    </tr>\n",
       "  </thead>\n",
       "  <tbody>\n",
       "    <tr>\n",
       "      <th>0</th>\n",
       "      <td>False</td>\n",
       "      <td>True</td>\n",
       "    </tr>\n",
       "    <tr>\n",
       "      <th>1</th>\n",
       "      <td>True</td>\n",
       "      <td>False</td>\n",
       "    </tr>\n",
       "    <tr>\n",
       "      <th>2</th>\n",
       "      <td>False</td>\n",
       "      <td>False</td>\n",
       "    </tr>\n",
       "  </tbody>\n",
       "</table>\n",
       "</div>"
      ],
      "text/plain": [
       "       a      b\n",
       "0  False   True\n",
       "1   True  False\n",
       "2  False  False"
      ]
     },
     "execution_count": 95,
     "metadata": {},
     "output_type": "execute_result"
    }
   ],
   "source": [
    "-df1"
   ]
  },
  {
   "cell_type": "markdown",
   "id": "b41b8a95-1215-4428-b714-9006162ed08c",
   "metadata": {},
   "source": [
    "## 11.9 Transposing \n",
    "To transpose, access the T attribute (also the transpose function), similar to an ndarray"
   ]
  },
  {
   "cell_type": "code",
   "execution_count": 97,
   "id": "b5dbea10-c268-4870-94a4-3cf4abc2c496",
   "metadata": {},
   "outputs": [
    {
     "data": {
      "text/html": [
       "<div>\n",
       "<style scoped>\n",
       "    .dataframe tbody tr th:only-of-type {\n",
       "        vertical-align: middle;\n",
       "    }\n",
       "\n",
       "    .dataframe tbody tr th {\n",
       "        vertical-align: top;\n",
       "    }\n",
       "\n",
       "    .dataframe thead th {\n",
       "        text-align: right;\n",
       "    }\n",
       "</style>\n",
       "<table border=\"1\" class=\"dataframe\">\n",
       "  <thead>\n",
       "    <tr style=\"text-align: right;\">\n",
       "      <th></th>\n",
       "      <th>0</th>\n",
       "      <th>1</th>\n",
       "      <th>2</th>\n",
       "      <th>3</th>\n",
       "      <th>4</th>\n",
       "    </tr>\n",
       "  </thead>\n",
       "  <tbody>\n",
       "    <tr>\n",
       "      <th>A</th>\n",
       "      <td>-0.431691</td>\n",
       "      <td>0.207390</td>\n",
       "      <td>0.858659</td>\n",
       "      <td>-0.820852</td>\n",
       "      <td>0.587277</td>\n",
       "    </tr>\n",
       "    <tr>\n",
       "      <th>B</th>\n",
       "      <td>0.522093</td>\n",
       "      <td>-0.931327</td>\n",
       "      <td>0.508337</td>\n",
       "      <td>-0.906976</td>\n",
       "      <td>0.259362</td>\n",
       "    </tr>\n",
       "    <tr>\n",
       "      <th>C</th>\n",
       "      <td>0.684090</td>\n",
       "      <td>0.700823</td>\n",
       "      <td>-1.042740</td>\n",
       "      <td>1.289928</td>\n",
       "      <td>-2.449469</td>\n",
       "    </tr>\n",
       "    <tr>\n",
       "      <th>D</th>\n",
       "      <td>-1.084447</td>\n",
       "      <td>-0.118582</td>\n",
       "      <td>-0.073236</td>\n",
       "      <td>-0.330096</td>\n",
       "      <td>-0.879864</td>\n",
       "    </tr>\n",
       "  </tbody>\n",
       "</table>\n",
       "</div>"
      ],
      "text/plain": [
       "          0         1         2         3         4\n",
       "A -0.431691  0.207390  0.858659 -0.820852  0.587277\n",
       "B  0.522093 -0.931327  0.508337 -0.906976  0.259362\n",
       "C  0.684090  0.700823 -1.042740  1.289928 -2.449469\n",
       "D -1.084447 -0.118582 -0.073236 -0.330096 -0.879864"
      ]
     },
     "execution_count": 97,
     "metadata": {},
     "output_type": "execute_result"
    }
   ],
   "source": [
    "# only show the first 5 rows\n",
    "df[:5].T "
   ]
  },
  {
   "cell_type": "code",
   "execution_count": 98,
   "id": "9e2bb057-a479-491c-92e2-2dca5a6b069f",
   "metadata": {},
   "outputs": [],
   "source": [
    "# Creating a DataFrame by passing a numpy array, with a datetime index and labeled columns:\n",
    "dates = pd.date_range('20130101', periods=6) "
   ]
  },
  {
   "cell_type": "code",
   "execution_count": 99,
   "id": "4c4fd3f8-ca5c-4eda-820e-e3d4f4ac84c6",
   "metadata": {},
   "outputs": [
    {
     "data": {
      "text/plain": [
       "DatetimeIndex(['2013-01-01', '2013-01-02', '2013-01-03', '2013-01-04',\n",
       "               '2013-01-05', '2013-01-06'],\n",
       "              dtype='datetime64[ns]', freq='D')"
      ]
     },
     "execution_count": 99,
     "metadata": {},
     "output_type": "execute_result"
    }
   ],
   "source": [
    "dates"
   ]
  },
  {
   "cell_type": "code",
   "execution_count": 100,
   "id": "527daa02-bbd3-4377-a4e0-99ed4ba5d404",
   "metadata": {},
   "outputs": [],
   "source": [
    "df = pd.DataFrame(np.random.randn(6,4), index=dates, columns=list('ABCD'))"
   ]
  },
  {
   "cell_type": "code",
   "execution_count": 101,
   "id": "6e11721e-6201-4406-9c89-b93a0ef9f155",
   "metadata": {},
   "outputs": [
    {
     "data": {
      "text/html": [
       "<div>\n",
       "<style scoped>\n",
       "    .dataframe tbody tr th:only-of-type {\n",
       "        vertical-align: middle;\n",
       "    }\n",
       "\n",
       "    .dataframe tbody tr th {\n",
       "        vertical-align: top;\n",
       "    }\n",
       "\n",
       "    .dataframe thead th {\n",
       "        text-align: right;\n",
       "    }\n",
       "</style>\n",
       "<table border=\"1\" class=\"dataframe\">\n",
       "  <thead>\n",
       "    <tr style=\"text-align: right;\">\n",
       "      <th></th>\n",
       "      <th>A</th>\n",
       "      <th>B</th>\n",
       "      <th>C</th>\n",
       "      <th>D</th>\n",
       "    </tr>\n",
       "  </thead>\n",
       "  <tbody>\n",
       "    <tr>\n",
       "      <th>2013-01-01</th>\n",
       "      <td>2.000382</td>\n",
       "      <td>-1.026013</td>\n",
       "      <td>-1.628061</td>\n",
       "      <td>1.896950</td>\n",
       "    </tr>\n",
       "    <tr>\n",
       "      <th>2013-01-02</th>\n",
       "      <td>0.868973</td>\n",
       "      <td>-0.656521</td>\n",
       "      <td>-0.102029</td>\n",
       "      <td>0.293518</td>\n",
       "    </tr>\n",
       "    <tr>\n",
       "      <th>2013-01-03</th>\n",
       "      <td>0.927506</td>\n",
       "      <td>0.607261</td>\n",
       "      <td>-0.614790</td>\n",
       "      <td>0.411855</td>\n",
       "    </tr>\n",
       "    <tr>\n",
       "      <th>2013-01-04</th>\n",
       "      <td>-0.034830</td>\n",
       "      <td>0.375967</td>\n",
       "      <td>-0.003649</td>\n",
       "      <td>-0.974922</td>\n",
       "    </tr>\n",
       "    <tr>\n",
       "      <th>2013-01-05</th>\n",
       "      <td>0.684223</td>\n",
       "      <td>0.281003</td>\n",
       "      <td>2.216992</td>\n",
       "      <td>0.286556</td>\n",
       "    </tr>\n",
       "    <tr>\n",
       "      <th>2013-01-06</th>\n",
       "      <td>-1.120403</td>\n",
       "      <td>0.667907</td>\n",
       "      <td>-1.316956</td>\n",
       "      <td>-1.763527</td>\n",
       "    </tr>\n",
       "  </tbody>\n",
       "</table>\n",
       "</div>"
      ],
      "text/plain": [
       "                   A         B         C         D\n",
       "2013-01-01  2.000382 -1.026013 -1.628061  1.896950\n",
       "2013-01-02  0.868973 -0.656521 -0.102029  0.293518\n",
       "2013-01-03  0.927506  0.607261 -0.614790  0.411855\n",
       "2013-01-04 -0.034830  0.375967 -0.003649 -0.974922\n",
       "2013-01-05  0.684223  0.281003  2.216992  0.286556\n",
       "2013-01-06 -1.120403  0.667907 -1.316956 -1.763527"
      ]
     },
     "execution_count": 101,
     "metadata": {},
     "output_type": "execute_result"
    }
   ],
   "source": [
    "df"
   ]
  },
  {
   "cell_type": "markdown",
   "id": "655ab8fb-f377-4029-810b-4c6b6a033dc9",
   "metadata": {},
   "source": [
    "Creating a DataFrame by passing a dict of objects that can be converted to series-like. "
   ]
  },
  {
   "cell_type": "code",
   "execution_count": 102,
   "id": "600d2c75-e8f9-42c6-829c-884c5c4cc4be",
   "metadata": {},
   "outputs": [],
   "source": [
    "df2 = pd.DataFrame({ 'A' : 1., \n",
    "'B' : pd.Timestamp('20130102'),\n",
    " 'C' : pd.Series(1,index=list(range(4)),dtype='float32'),\n",
    " 'D' : np.array([3] * 4,dtype='int32'),\n",
    " 'E' : pd.Categorical([\"test\",\"train\",\"test\",\"train\"]),\n",
    " 'F' : 'foo' }) "
   ]
  },
  {
   "cell_type": "code",
   "execution_count": 103,
   "id": "2ce40474-a7f0-4819-89d1-e38cd5910c3c",
   "metadata": {},
   "outputs": [
    {
     "data": {
      "text/html": [
       "<div>\n",
       "<style scoped>\n",
       "    .dataframe tbody tr th:only-of-type {\n",
       "        vertical-align: middle;\n",
       "    }\n",
       "\n",
       "    .dataframe tbody tr th {\n",
       "        vertical-align: top;\n",
       "    }\n",
       "\n",
       "    .dataframe thead th {\n",
       "        text-align: right;\n",
       "    }\n",
       "</style>\n",
       "<table border=\"1\" class=\"dataframe\">\n",
       "  <thead>\n",
       "    <tr style=\"text-align: right;\">\n",
       "      <th></th>\n",
       "      <th>A</th>\n",
       "      <th>B</th>\n",
       "      <th>C</th>\n",
       "      <th>D</th>\n",
       "      <th>E</th>\n",
       "      <th>F</th>\n",
       "    </tr>\n",
       "  </thead>\n",
       "  <tbody>\n",
       "    <tr>\n",
       "      <th>0</th>\n",
       "      <td>1.0</td>\n",
       "      <td>2013-01-02</td>\n",
       "      <td>1.0</td>\n",
       "      <td>3</td>\n",
       "      <td>test</td>\n",
       "      <td>foo</td>\n",
       "    </tr>\n",
       "    <tr>\n",
       "      <th>1</th>\n",
       "      <td>1.0</td>\n",
       "      <td>2013-01-02</td>\n",
       "      <td>1.0</td>\n",
       "      <td>3</td>\n",
       "      <td>train</td>\n",
       "      <td>foo</td>\n",
       "    </tr>\n",
       "    <tr>\n",
       "      <th>2</th>\n",
       "      <td>1.0</td>\n",
       "      <td>2013-01-02</td>\n",
       "      <td>1.0</td>\n",
       "      <td>3</td>\n",
       "      <td>test</td>\n",
       "      <td>foo</td>\n",
       "    </tr>\n",
       "    <tr>\n",
       "      <th>3</th>\n",
       "      <td>1.0</td>\n",
       "      <td>2013-01-02</td>\n",
       "      <td>1.0</td>\n",
       "      <td>3</td>\n",
       "      <td>train</td>\n",
       "      <td>foo</td>\n",
       "    </tr>\n",
       "  </tbody>\n",
       "</table>\n",
       "</div>"
      ],
      "text/plain": [
       "     A          B    C  D      E    F\n",
       "0  1.0 2013-01-02  1.0  3   test  foo\n",
       "1  1.0 2013-01-02  1.0  3  train  foo\n",
       "2  1.0 2013-01-02  1.0  3   test  foo\n",
       "3  1.0 2013-01-02  1.0  3  train  foo"
      ]
     },
     "execution_count": 103,
     "metadata": {},
     "output_type": "execute_result"
    }
   ],
   "source": [
    "df2"
   ]
  },
  {
   "cell_type": "code",
   "execution_count": 105,
   "id": "e70320ba-a256-4dec-ae7d-e966407b31be",
   "metadata": {},
   "outputs": [
    {
     "data": {
      "text/plain": [
       "A          float64\n",
       "B    datetime64[s]\n",
       "C          float32\n",
       "D            int32\n",
       "E         category\n",
       "F           object\n",
       "dtype: object"
      ]
     },
     "execution_count": 105,
     "metadata": {},
     "output_type": "execute_result"
    }
   ],
   "source": [
    "df2.dtypes"
   ]
  },
  {
   "cell_type": "markdown",
   "id": "524de78b-bca5-43b6-a387-65cbf8a43ea9",
   "metadata": {},
   "source": [
    "## 12. Viewing Data \n",
    "\n",
    "We can view data / display data in different ways:\n",
    "\n",
    "See the top & bottom rows of the frame \n",
    "\n",
    "Selecting a single column \n",
    "\n",
    "Selecting via [], which slices the rows \n",
    "\n",
    "For getting a cross section using a label \n",
    "\n",
    "Selecting on a multi-axis by labe \n",
    "\n",
    "Showing label slicing, both endpoints are included \n",
    "\n",
    "Reduction in the dimensions of the returned object \n",
    "\n",
    "For getting a scalar value \n",
    "\n",
    "For getting fast access to a scalar \n",
    "\n",
    "Select via the position of the passed integers \n",
    "\n",
    "By integer slices, acting similar to numpy/python \n",
    "\n",
    "By lists of integer position locations, similar to the numpy/python style\n",
    "\n",
    " For slicing rows explicitly \n",
    "\n",
    "For slicing columns explicitly \n",
    "\n",
    "For getting a value explicitly\n",
    "\n",
    "For getting fast access to a scalar \n",
    "\n",
    "Using a single column’s values to select data. \n",
    "\n",
    "Selecting values from a DataFrame where a boolean condition is met. \n",
    "\n",
    "Using the isin() method for filtering "
   ]
  },
  {
   "cell_type": "code",
   "execution_count": 106,
   "id": "459b89ef-fd38-4b9c-b20c-e052158f87e0",
   "metadata": {},
   "outputs": [
    {
     "data": {
      "text/html": [
       "<div>\n",
       "<style scoped>\n",
       "    .dataframe tbody tr th:only-of-type {\n",
       "        vertical-align: middle;\n",
       "    }\n",
       "\n",
       "    .dataframe tbody tr th {\n",
       "        vertical-align: top;\n",
       "    }\n",
       "\n",
       "    .dataframe thead th {\n",
       "        text-align: right;\n",
       "    }\n",
       "</style>\n",
       "<table border=\"1\" class=\"dataframe\">\n",
       "  <thead>\n",
       "    <tr style=\"text-align: right;\">\n",
       "      <th></th>\n",
       "      <th>A</th>\n",
       "      <th>B</th>\n",
       "      <th>C</th>\n",
       "      <th>D</th>\n",
       "    </tr>\n",
       "  </thead>\n",
       "  <tbody>\n",
       "    <tr>\n",
       "      <th>2013-01-01</th>\n",
       "      <td>2.000382</td>\n",
       "      <td>-1.026013</td>\n",
       "      <td>-1.628061</td>\n",
       "      <td>1.896950</td>\n",
       "    </tr>\n",
       "    <tr>\n",
       "      <th>2013-01-02</th>\n",
       "      <td>0.868973</td>\n",
       "      <td>-0.656521</td>\n",
       "      <td>-0.102029</td>\n",
       "      <td>0.293518</td>\n",
       "    </tr>\n",
       "    <tr>\n",
       "      <th>2013-01-03</th>\n",
       "      <td>0.927506</td>\n",
       "      <td>0.607261</td>\n",
       "      <td>-0.614790</td>\n",
       "      <td>0.411855</td>\n",
       "    </tr>\n",
       "    <tr>\n",
       "      <th>2013-01-04</th>\n",
       "      <td>-0.034830</td>\n",
       "      <td>0.375967</td>\n",
       "      <td>-0.003649</td>\n",
       "      <td>-0.974922</td>\n",
       "    </tr>\n",
       "    <tr>\n",
       "      <th>2013-01-05</th>\n",
       "      <td>0.684223</td>\n",
       "      <td>0.281003</td>\n",
       "      <td>2.216992</td>\n",
       "      <td>0.286556</td>\n",
       "    </tr>\n",
       "  </tbody>\n",
       "</table>\n",
       "</div>"
      ],
      "text/plain": [
       "                   A         B         C         D\n",
       "2013-01-01  2.000382 -1.026013 -1.628061  1.896950\n",
       "2013-01-02  0.868973 -0.656521 -0.102029  0.293518\n",
       "2013-01-03  0.927506  0.607261 -0.614790  0.411855\n",
       "2013-01-04 -0.034830  0.375967 -0.003649 -0.974922\n",
       "2013-01-05  0.684223  0.281003  2.216992  0.286556"
      ]
     },
     "execution_count": 106,
     "metadata": {},
     "output_type": "execute_result"
    }
   ],
   "source": [
    "df.head()"
   ]
  },
  {
   "cell_type": "code",
   "execution_count": 107,
   "id": "48c79b83-b625-4de7-948f-42164419a637",
   "metadata": {},
   "outputs": [
    {
     "data": {
      "text/html": [
       "<div>\n",
       "<style scoped>\n",
       "    .dataframe tbody tr th:only-of-type {\n",
       "        vertical-align: middle;\n",
       "    }\n",
       "\n",
       "    .dataframe tbody tr th {\n",
       "        vertical-align: top;\n",
       "    }\n",
       "\n",
       "    .dataframe thead th {\n",
       "        text-align: right;\n",
       "    }\n",
       "</style>\n",
       "<table border=\"1\" class=\"dataframe\">\n",
       "  <thead>\n",
       "    <tr style=\"text-align: right;\">\n",
       "      <th></th>\n",
       "      <th>A</th>\n",
       "      <th>B</th>\n",
       "      <th>C</th>\n",
       "      <th>D</th>\n",
       "    </tr>\n",
       "  </thead>\n",
       "  <tbody>\n",
       "    <tr>\n",
       "      <th>2013-01-04</th>\n",
       "      <td>-0.034830</td>\n",
       "      <td>0.375967</td>\n",
       "      <td>-0.003649</td>\n",
       "      <td>-0.974922</td>\n",
       "    </tr>\n",
       "    <tr>\n",
       "      <th>2013-01-05</th>\n",
       "      <td>0.684223</td>\n",
       "      <td>0.281003</td>\n",
       "      <td>2.216992</td>\n",
       "      <td>0.286556</td>\n",
       "    </tr>\n",
       "    <tr>\n",
       "      <th>2013-01-06</th>\n",
       "      <td>-1.120403</td>\n",
       "      <td>0.667907</td>\n",
       "      <td>-1.316956</td>\n",
       "      <td>-1.763527</td>\n",
       "    </tr>\n",
       "  </tbody>\n",
       "</table>\n",
       "</div>"
      ],
      "text/plain": [
       "                   A         B         C         D\n",
       "2013-01-04 -0.034830  0.375967 -0.003649 -0.974922\n",
       "2013-01-05  0.684223  0.281003  2.216992  0.286556\n",
       "2013-01-06 -1.120403  0.667907 -1.316956 -1.763527"
      ]
     },
     "execution_count": 107,
     "metadata": {},
     "output_type": "execute_result"
    }
   ],
   "source": [
    "df.tail(3)"
   ]
  },
  {
   "cell_type": "code",
   "execution_count": 108,
   "id": "200cf0ea-ea7d-419f-983c-84798fdfe93c",
   "metadata": {},
   "outputs": [
    {
     "data": {
      "text/plain": [
       "DatetimeIndex(['2013-01-01', '2013-01-02', '2013-01-03', '2013-01-04',\n",
       "               '2013-01-05', '2013-01-06'],\n",
       "              dtype='datetime64[ns]', freq='D')"
      ]
     },
     "execution_count": 108,
     "metadata": {},
     "output_type": "execute_result"
    }
   ],
   "source": [
    "df.index"
   ]
  },
  {
   "cell_type": "code",
   "execution_count": 109,
   "id": "1a5507e6-b6c2-4bb8-a415-c061247a07e2",
   "metadata": {},
   "outputs": [
    {
     "data": {
      "text/plain": [
       "Index(['A', 'B', 'C', 'D'], dtype='object')"
      ]
     },
     "execution_count": 109,
     "metadata": {},
     "output_type": "execute_result"
    }
   ],
   "source": [
    "df.columns # display columns"
   ]
  },
  {
   "cell_type": "code",
   "execution_count": 110,
   "id": "ccd8256f-48a1-4b49-beca-2dd48941e985",
   "metadata": {},
   "outputs": [
    {
     "data": {
      "text/plain": [
       "array([[ 2.00038217, -1.02601348, -1.62806053,  1.89695037],\n",
       "       [ 0.86897344, -0.65652095, -0.1020291 ,  0.29351813],\n",
       "       [ 0.92750575,  0.60726087, -0.61479029,  0.41185515],\n",
       "       [-0.03483005,  0.37596686, -0.00364877, -0.97492176],\n",
       "       [ 0.68422324,  0.28100268,  2.21699232,  0.28655573],\n",
       "       [-1.12040347,  0.66790676, -1.31695557, -1.76352701]])"
      ]
     },
     "execution_count": 110,
     "metadata": {},
     "output_type": "execute_result"
    }
   ],
   "source": [
    "df.values # display all values "
   ]
  },
  {
   "cell_type": "code",
   "execution_count": 111,
   "id": "4ebe90ec-e8b9-408b-aae2-067d2c313bb8",
   "metadata": {},
   "outputs": [
    {
     "data": {
      "text/html": [
       "<div>\n",
       "<style scoped>\n",
       "    .dataframe tbody tr th:only-of-type {\n",
       "        vertical-align: middle;\n",
       "    }\n",
       "\n",
       "    .dataframe tbody tr th {\n",
       "        vertical-align: top;\n",
       "    }\n",
       "\n",
       "    .dataframe thead th {\n",
       "        text-align: right;\n",
       "    }\n",
       "</style>\n",
       "<table border=\"1\" class=\"dataframe\">\n",
       "  <thead>\n",
       "    <tr style=\"text-align: right;\">\n",
       "      <th></th>\n",
       "      <th>2013-01-01</th>\n",
       "      <th>2013-01-02</th>\n",
       "      <th>2013-01-03</th>\n",
       "      <th>2013-01-04</th>\n",
       "      <th>2013-01-05</th>\n",
       "      <th>2013-01-06</th>\n",
       "    </tr>\n",
       "  </thead>\n",
       "  <tbody>\n",
       "    <tr>\n",
       "      <th>A</th>\n",
       "      <td>2.000382</td>\n",
       "      <td>0.868973</td>\n",
       "      <td>0.927506</td>\n",
       "      <td>-0.034830</td>\n",
       "      <td>0.684223</td>\n",
       "      <td>-1.120403</td>\n",
       "    </tr>\n",
       "    <tr>\n",
       "      <th>B</th>\n",
       "      <td>-1.026013</td>\n",
       "      <td>-0.656521</td>\n",
       "      <td>0.607261</td>\n",
       "      <td>0.375967</td>\n",
       "      <td>0.281003</td>\n",
       "      <td>0.667907</td>\n",
       "    </tr>\n",
       "    <tr>\n",
       "      <th>C</th>\n",
       "      <td>-1.628061</td>\n",
       "      <td>-0.102029</td>\n",
       "      <td>-0.614790</td>\n",
       "      <td>-0.003649</td>\n",
       "      <td>2.216992</td>\n",
       "      <td>-1.316956</td>\n",
       "    </tr>\n",
       "    <tr>\n",
       "      <th>D</th>\n",
       "      <td>1.896950</td>\n",
       "      <td>0.293518</td>\n",
       "      <td>0.411855</td>\n",
       "      <td>-0.974922</td>\n",
       "      <td>0.286556</td>\n",
       "      <td>-1.763527</td>\n",
       "    </tr>\n",
       "  </tbody>\n",
       "</table>\n",
       "</div>"
      ],
      "text/plain": [
       "   2013-01-01  2013-01-02  2013-01-03  2013-01-04  2013-01-05  2013-01-06\n",
       "A    2.000382    0.868973    0.927506   -0.034830    0.684223   -1.120403\n",
       "B   -1.026013   -0.656521    0.607261    0.375967    0.281003    0.667907\n",
       "C   -1.628061   -0.102029   -0.614790   -0.003649    2.216992   -1.316956\n",
       "D    1.896950    0.293518    0.411855   -0.974922    0.286556   -1.763527"
      ]
     },
     "execution_count": 111,
     "metadata": {},
     "output_type": "execute_result"
    }
   ],
   "source": [
    "df.T # transpose "
   ]
  },
  {
   "cell_type": "code",
   "execution_count": 112,
   "id": "f0efc9a0-fb8d-473f-9641-724248d75d50",
   "metadata": {},
   "outputs": [
    {
     "data": {
      "text/html": [
       "<div>\n",
       "<style scoped>\n",
       "    .dataframe tbody tr th:only-of-type {\n",
       "        vertical-align: middle;\n",
       "    }\n",
       "\n",
       "    .dataframe tbody tr th {\n",
       "        vertical-align: top;\n",
       "    }\n",
       "\n",
       "    .dataframe thead th {\n",
       "        text-align: right;\n",
       "    }\n",
       "</style>\n",
       "<table border=\"1\" class=\"dataframe\">\n",
       "  <thead>\n",
       "    <tr style=\"text-align: right;\">\n",
       "      <th></th>\n",
       "      <th>D</th>\n",
       "      <th>C</th>\n",
       "      <th>B</th>\n",
       "      <th>A</th>\n",
       "    </tr>\n",
       "  </thead>\n",
       "  <tbody>\n",
       "    <tr>\n",
       "      <th>2013-01-01</th>\n",
       "      <td>1.896950</td>\n",
       "      <td>-1.628061</td>\n",
       "      <td>-1.026013</td>\n",
       "      <td>2.000382</td>\n",
       "    </tr>\n",
       "    <tr>\n",
       "      <th>2013-01-02</th>\n",
       "      <td>0.293518</td>\n",
       "      <td>-0.102029</td>\n",
       "      <td>-0.656521</td>\n",
       "      <td>0.868973</td>\n",
       "    </tr>\n",
       "    <tr>\n",
       "      <th>2013-01-03</th>\n",
       "      <td>0.411855</td>\n",
       "      <td>-0.614790</td>\n",
       "      <td>0.607261</td>\n",
       "      <td>0.927506</td>\n",
       "    </tr>\n",
       "    <tr>\n",
       "      <th>2013-01-04</th>\n",
       "      <td>-0.974922</td>\n",
       "      <td>-0.003649</td>\n",
       "      <td>0.375967</td>\n",
       "      <td>-0.034830</td>\n",
       "    </tr>\n",
       "    <tr>\n",
       "      <th>2013-01-05</th>\n",
       "      <td>0.286556</td>\n",
       "      <td>2.216992</td>\n",
       "      <td>0.281003</td>\n",
       "      <td>0.684223</td>\n",
       "    </tr>\n",
       "    <tr>\n",
       "      <th>2013-01-06</th>\n",
       "      <td>-1.763527</td>\n",
       "      <td>-1.316956</td>\n",
       "      <td>0.667907</td>\n",
       "      <td>-1.120403</td>\n",
       "    </tr>\n",
       "  </tbody>\n",
       "</table>\n",
       "</div>"
      ],
      "text/plain": [
       "                   D         C         B         A\n",
       "2013-01-01  1.896950 -1.628061 -1.026013  2.000382\n",
       "2013-01-02  0.293518 -0.102029 -0.656521  0.868973\n",
       "2013-01-03  0.411855 -0.614790  0.607261  0.927506\n",
       "2013-01-04 -0.974922 -0.003649  0.375967 -0.034830\n",
       "2013-01-05  0.286556  2.216992  0.281003  0.684223\n",
       "2013-01-06 -1.763527 -1.316956  0.667907 -1.120403"
      ]
     },
     "execution_count": 112,
     "metadata": {},
     "output_type": "execute_result"
    }
   ],
   "source": [
    "#Sorting by an axis\n",
    "df.sort_index(axis=1, ascending=False) "
   ]
  },
  {
   "cell_type": "code",
   "execution_count": 113,
   "id": "9de178d3-3e08-4cdd-b27f-3da67374d40c",
   "metadata": {},
   "outputs": [
    {
     "data": {
      "text/html": [
       "<div>\n",
       "<style scoped>\n",
       "    .dataframe tbody tr th:only-of-type {\n",
       "        vertical-align: middle;\n",
       "    }\n",
       "\n",
       "    .dataframe tbody tr th {\n",
       "        vertical-align: top;\n",
       "    }\n",
       "\n",
       "    .dataframe thead th {\n",
       "        text-align: right;\n",
       "    }\n",
       "</style>\n",
       "<table border=\"1\" class=\"dataframe\">\n",
       "  <thead>\n",
       "    <tr style=\"text-align: right;\">\n",
       "      <th></th>\n",
       "      <th>A</th>\n",
       "      <th>B</th>\n",
       "      <th>C</th>\n",
       "      <th>D</th>\n",
       "    </tr>\n",
       "  </thead>\n",
       "  <tbody>\n",
       "    <tr>\n",
       "      <th>2013-01-01</th>\n",
       "      <td>2.000382</td>\n",
       "      <td>-1.026013</td>\n",
       "      <td>-1.628061</td>\n",
       "      <td>1.896950</td>\n",
       "    </tr>\n",
       "    <tr>\n",
       "      <th>2013-01-02</th>\n",
       "      <td>0.868973</td>\n",
       "      <td>-0.656521</td>\n",
       "      <td>-0.102029</td>\n",
       "      <td>0.293518</td>\n",
       "    </tr>\n",
       "    <tr>\n",
       "      <th>2013-01-05</th>\n",
       "      <td>0.684223</td>\n",
       "      <td>0.281003</td>\n",
       "      <td>2.216992</td>\n",
       "      <td>0.286556</td>\n",
       "    </tr>\n",
       "    <tr>\n",
       "      <th>2013-01-04</th>\n",
       "      <td>-0.034830</td>\n",
       "      <td>0.375967</td>\n",
       "      <td>-0.003649</td>\n",
       "      <td>-0.974922</td>\n",
       "    </tr>\n",
       "    <tr>\n",
       "      <th>2013-01-03</th>\n",
       "      <td>0.927506</td>\n",
       "      <td>0.607261</td>\n",
       "      <td>-0.614790</td>\n",
       "      <td>0.411855</td>\n",
       "    </tr>\n",
       "    <tr>\n",
       "      <th>2013-01-06</th>\n",
       "      <td>-1.120403</td>\n",
       "      <td>0.667907</td>\n",
       "      <td>-1.316956</td>\n",
       "      <td>-1.763527</td>\n",
       "    </tr>\n",
       "  </tbody>\n",
       "</table>\n",
       "</div>"
      ],
      "text/plain": [
       "                   A         B         C         D\n",
       "2013-01-01  2.000382 -1.026013 -1.628061  1.896950\n",
       "2013-01-02  0.868973 -0.656521 -0.102029  0.293518\n",
       "2013-01-05  0.684223  0.281003  2.216992  0.286556\n",
       "2013-01-04 -0.034830  0.375967 -0.003649 -0.974922\n",
       "2013-01-03  0.927506  0.607261 -0.614790  0.411855\n",
       "2013-01-06 -1.120403  0.667907 -1.316956 -1.763527"
      ]
     },
     "execution_count": 113,
     "metadata": {},
     "output_type": "execute_result"
    }
   ],
   "source": [
    "#Sorting by values\n",
    "df.sort_values(by='B') "
   ]
  },
  {
   "cell_type": "code",
   "execution_count": 114,
   "id": "2df9f442-c839-4274-9d2a-c88d661a757c",
   "metadata": {},
   "outputs": [
    {
     "data": {
      "text/html": [
       "<div>\n",
       "<style scoped>\n",
       "    .dataframe tbody tr th:only-of-type {\n",
       "        vertical-align: middle;\n",
       "    }\n",
       "\n",
       "    .dataframe tbody tr th {\n",
       "        vertical-align: top;\n",
       "    }\n",
       "\n",
       "    .dataframe thead th {\n",
       "        text-align: right;\n",
       "    }\n",
       "</style>\n",
       "<table border=\"1\" class=\"dataframe\">\n",
       "  <thead>\n",
       "    <tr style=\"text-align: right;\">\n",
       "      <th></th>\n",
       "      <th>A</th>\n",
       "      <th>B</th>\n",
       "      <th>C</th>\n",
       "      <th>D</th>\n",
       "    </tr>\n",
       "  </thead>\n",
       "  <tbody>\n",
       "    <tr>\n",
       "      <th>count</th>\n",
       "      <td>6.000000</td>\n",
       "      <td>6.000000</td>\n",
       "      <td>6.000000</td>\n",
       "      <td>6.000000</td>\n",
       "    </tr>\n",
       "    <tr>\n",
       "      <th>mean</th>\n",
       "      <td>0.554309</td>\n",
       "      <td>0.041600</td>\n",
       "      <td>-0.241415</td>\n",
       "      <td>0.025072</td>\n",
       "    </tr>\n",
       "    <tr>\n",
       "      <th>std</th>\n",
       "      <td>1.048622</td>\n",
       "      <td>0.708310</td>\n",
       "      <td>1.366654</td>\n",
       "      <td>1.264361</td>\n",
       "    </tr>\n",
       "    <tr>\n",
       "      <th>min</th>\n",
       "      <td>-1.120403</td>\n",
       "      <td>-1.026013</td>\n",
       "      <td>-1.628061</td>\n",
       "      <td>-1.763527</td>\n",
       "    </tr>\n",
       "    <tr>\n",
       "      <th>25%</th>\n",
       "      <td>0.144933</td>\n",
       "      <td>-0.422140</td>\n",
       "      <td>-1.141414</td>\n",
       "      <td>-0.659552</td>\n",
       "    </tr>\n",
       "    <tr>\n",
       "      <th>50%</th>\n",
       "      <td>0.776598</td>\n",
       "      <td>0.328485</td>\n",
       "      <td>-0.358410</td>\n",
       "      <td>0.290037</td>\n",
       "    </tr>\n",
       "    <tr>\n",
       "      <th>75%</th>\n",
       "      <td>0.912873</td>\n",
       "      <td>0.549437</td>\n",
       "      <td>-0.028244</td>\n",
       "      <td>0.382271</td>\n",
       "    </tr>\n",
       "    <tr>\n",
       "      <th>max</th>\n",
       "      <td>2.000382</td>\n",
       "      <td>0.667907</td>\n",
       "      <td>2.216992</td>\n",
       "      <td>1.896950</td>\n",
       "    </tr>\n",
       "  </tbody>\n",
       "</table>\n",
       "</div>"
      ],
      "text/plain": [
       "              A         B         C         D\n",
       "count  6.000000  6.000000  6.000000  6.000000\n",
       "mean   0.554309  0.041600 -0.241415  0.025072\n",
       "std    1.048622  0.708310  1.366654  1.264361\n",
       "min   -1.120403 -1.026013 -1.628061 -1.763527\n",
       "25%    0.144933 -0.422140 -1.141414 -0.659552\n",
       "50%    0.776598  0.328485 -0.358410  0.290037\n",
       "75%    0.912873  0.549437 -0.028244  0.382271\n",
       "max    2.000382  0.667907  2.216992  1.896950"
      ]
     },
     "execution_count": 114,
     "metadata": {},
     "output_type": "execute_result"
    }
   ],
   "source": [
    "#Describe shows a quick statistic summary of your data\n",
    "df.describe() "
   ]
  },
  {
   "cell_type": "code",
   "execution_count": 115,
   "id": "f974e92d-0297-45d5-814b-b1a60f677adb",
   "metadata": {},
   "outputs": [
    {
     "data": {
      "text/plain": [
       "2013-01-01    2.000382\n",
       "2013-01-02    0.868973\n",
       "2013-01-03    0.927506\n",
       "2013-01-04   -0.034830\n",
       "2013-01-05    0.684223\n",
       "2013-01-06   -1.120403\n",
       "Freq: D, Name: A, dtype: float64"
      ]
     },
     "execution_count": 115,
     "metadata": {},
     "output_type": "execute_result"
    }
   ],
   "source": [
    "#Selecting a single column, which yields a Series, equivalent to df.A \n",
    "df['A']"
   ]
  },
  {
   "cell_type": "code",
   "execution_count": 116,
   "id": "c553caed-926a-4973-89f8-6c82b4b74e18",
   "metadata": {},
   "outputs": [
    {
     "data": {
      "text/html": [
       "<div>\n",
       "<style scoped>\n",
       "    .dataframe tbody tr th:only-of-type {\n",
       "        vertical-align: middle;\n",
       "    }\n",
       "\n",
       "    .dataframe tbody tr th {\n",
       "        vertical-align: top;\n",
       "    }\n",
       "\n",
       "    .dataframe thead th {\n",
       "        text-align: right;\n",
       "    }\n",
       "</style>\n",
       "<table border=\"1\" class=\"dataframe\">\n",
       "  <thead>\n",
       "    <tr style=\"text-align: right;\">\n",
       "      <th></th>\n",
       "      <th>A</th>\n",
       "      <th>B</th>\n",
       "      <th>C</th>\n",
       "      <th>D</th>\n",
       "    </tr>\n",
       "  </thead>\n",
       "  <tbody>\n",
       "    <tr>\n",
       "      <th>2013-01-01</th>\n",
       "      <td>2.000382</td>\n",
       "      <td>-1.026013</td>\n",
       "      <td>-1.628061</td>\n",
       "      <td>1.896950</td>\n",
       "    </tr>\n",
       "    <tr>\n",
       "      <th>2013-01-02</th>\n",
       "      <td>0.868973</td>\n",
       "      <td>-0.656521</td>\n",
       "      <td>-0.102029</td>\n",
       "      <td>0.293518</td>\n",
       "    </tr>\n",
       "    <tr>\n",
       "      <th>2013-01-03</th>\n",
       "      <td>0.927506</td>\n",
       "      <td>0.607261</td>\n",
       "      <td>-0.614790</td>\n",
       "      <td>0.411855</td>\n",
       "    </tr>\n",
       "  </tbody>\n",
       "</table>\n",
       "</div>"
      ],
      "text/plain": [
       "                   A         B         C         D\n",
       "2013-01-01  2.000382 -1.026013 -1.628061  1.896950\n",
       "2013-01-02  0.868973 -0.656521 -0.102029  0.293518\n",
       "2013-01-03  0.927506  0.607261 -0.614790  0.411855"
      ]
     },
     "execution_count": 116,
     "metadata": {},
     "output_type": "execute_result"
    }
   ],
   "source": [
    "#Selecting via [], which slices the rows. \n",
    "df[0:3] "
   ]
  },
  {
   "cell_type": "code",
   "execution_count": 117,
   "id": "a0ccb25e-0f72-4bf3-b80f-98c956ba1883",
   "metadata": {},
   "outputs": [
    {
     "data": {
      "text/html": [
       "<div>\n",
       "<style scoped>\n",
       "    .dataframe tbody tr th:only-of-type {\n",
       "        vertical-align: middle;\n",
       "    }\n",
       "\n",
       "    .dataframe tbody tr th {\n",
       "        vertical-align: top;\n",
       "    }\n",
       "\n",
       "    .dataframe thead th {\n",
       "        text-align: right;\n",
       "    }\n",
       "</style>\n",
       "<table border=\"1\" class=\"dataframe\">\n",
       "  <thead>\n",
       "    <tr style=\"text-align: right;\">\n",
       "      <th></th>\n",
       "      <th>A</th>\n",
       "      <th>B</th>\n",
       "      <th>C</th>\n",
       "      <th>D</th>\n",
       "    </tr>\n",
       "  </thead>\n",
       "  <tbody>\n",
       "    <tr>\n",
       "      <th>2013-01-02</th>\n",
       "      <td>0.868973</td>\n",
       "      <td>-0.656521</td>\n",
       "      <td>-0.102029</td>\n",
       "      <td>0.293518</td>\n",
       "    </tr>\n",
       "    <tr>\n",
       "      <th>2013-01-03</th>\n",
       "      <td>0.927506</td>\n",
       "      <td>0.607261</td>\n",
       "      <td>-0.614790</td>\n",
       "      <td>0.411855</td>\n",
       "    </tr>\n",
       "    <tr>\n",
       "      <th>2013-01-04</th>\n",
       "      <td>-0.034830</td>\n",
       "      <td>0.375967</td>\n",
       "      <td>-0.003649</td>\n",
       "      <td>-0.974922</td>\n",
       "    </tr>\n",
       "  </tbody>\n",
       "</table>\n",
       "</div>"
      ],
      "text/plain": [
       "                   A         B         C         D\n",
       "2013-01-02  0.868973 -0.656521 -0.102029  0.293518\n",
       "2013-01-03  0.927506  0.607261 -0.614790  0.411855\n",
       "2013-01-04 -0.034830  0.375967 -0.003649 -0.974922"
      ]
     },
     "execution_count": 117,
     "metadata": {},
     "output_type": "execute_result"
    }
   ],
   "source": [
    " df['20130102':'20130104'] "
   ]
  },
  {
   "cell_type": "code",
   "execution_count": 119,
   "id": "646275b3-0875-44a5-9551-4ec09e5bed26",
   "metadata": {},
   "outputs": [
    {
     "data": {
      "text/html": [
       "<div>\n",
       "<style scoped>\n",
       "    .dataframe tbody tr th:only-of-type {\n",
       "        vertical-align: middle;\n",
       "    }\n",
       "\n",
       "    .dataframe tbody tr th {\n",
       "        vertical-align: top;\n",
       "    }\n",
       "\n",
       "    .dataframe thead th {\n",
       "        text-align: right;\n",
       "    }\n",
       "</style>\n",
       "<table border=\"1\" class=\"dataframe\">\n",
       "  <thead>\n",
       "    <tr style=\"text-align: right;\">\n",
       "      <th></th>\n",
       "      <th>A</th>\n",
       "      <th>B</th>\n",
       "    </tr>\n",
       "  </thead>\n",
       "  <tbody>\n",
       "    <tr>\n",
       "      <th>2013-01-01</th>\n",
       "      <td>2.000382</td>\n",
       "      <td>-1.026013</td>\n",
       "    </tr>\n",
       "    <tr>\n",
       "      <th>2013-01-02</th>\n",
       "      <td>0.868973</td>\n",
       "      <td>-0.656521</td>\n",
       "    </tr>\n",
       "    <tr>\n",
       "      <th>2013-01-03</th>\n",
       "      <td>0.927506</td>\n",
       "      <td>0.607261</td>\n",
       "    </tr>\n",
       "    <tr>\n",
       "      <th>2013-01-04</th>\n",
       "      <td>-0.034830</td>\n",
       "      <td>0.375967</td>\n",
       "    </tr>\n",
       "    <tr>\n",
       "      <th>2013-01-05</th>\n",
       "      <td>0.684223</td>\n",
       "      <td>0.281003</td>\n",
       "    </tr>\n",
       "    <tr>\n",
       "      <th>2013-01-06</th>\n",
       "      <td>-1.120403</td>\n",
       "      <td>0.667907</td>\n",
       "    </tr>\n",
       "  </tbody>\n",
       "</table>\n",
       "</div>"
      ],
      "text/plain": [
       "                   A         B\n",
       "2013-01-01  2.000382 -1.026013\n",
       "2013-01-02  0.868973 -0.656521\n",
       "2013-01-03  0.927506  0.607261\n",
       "2013-01-04 -0.034830  0.375967\n",
       "2013-01-05  0.684223  0.281003\n",
       "2013-01-06 -1.120403  0.667907"
      ]
     },
     "execution_count": 119,
     "metadata": {},
     "output_type": "execute_result"
    }
   ],
   "source": [
    "#Selecting on a multi-axis by label\n",
    "df.loc[:,['A','B']] "
   ]
  },
  {
   "cell_type": "code",
   "execution_count": 120,
   "id": "b8154c71-1e46-4c91-becb-ee422c84b4ec",
   "metadata": {},
   "outputs": [
    {
     "data": {
      "text/html": [
       "<div>\n",
       "<style scoped>\n",
       "    .dataframe tbody tr th:only-of-type {\n",
       "        vertical-align: middle;\n",
       "    }\n",
       "\n",
       "    .dataframe tbody tr th {\n",
       "        vertical-align: top;\n",
       "    }\n",
       "\n",
       "    .dataframe thead th {\n",
       "        text-align: right;\n",
       "    }\n",
       "</style>\n",
       "<table border=\"1\" class=\"dataframe\">\n",
       "  <thead>\n",
       "    <tr style=\"text-align: right;\">\n",
       "      <th></th>\n",
       "      <th>A</th>\n",
       "      <th>B</th>\n",
       "    </tr>\n",
       "  </thead>\n",
       "  <tbody>\n",
       "    <tr>\n",
       "      <th>2013-01-02</th>\n",
       "      <td>0.868973</td>\n",
       "      <td>-0.656521</td>\n",
       "    </tr>\n",
       "    <tr>\n",
       "      <th>2013-01-03</th>\n",
       "      <td>0.927506</td>\n",
       "      <td>0.607261</td>\n",
       "    </tr>\n",
       "    <tr>\n",
       "      <th>2013-01-04</th>\n",
       "      <td>-0.034830</td>\n",
       "      <td>0.375967</td>\n",
       "    </tr>\n",
       "  </tbody>\n",
       "</table>\n",
       "</div>"
      ],
      "text/plain": [
       "                   A         B\n",
       "2013-01-02  0.868973 -0.656521\n",
       "2013-01-03  0.927506  0.607261\n",
       "2013-01-04 -0.034830  0.375967"
      ]
     },
     "execution_count": 120,
     "metadata": {},
     "output_type": "execute_result"
    }
   ],
   "source": [
    "#Showing label slicing, both endpoints are included\n",
    "df.loc['20130102':'20130104',['A','B']] "
   ]
  },
  {
   "cell_type": "code",
   "execution_count": 121,
   "id": "9b5e75ce-ba39-4634-9d93-d7fa5013eefe",
   "metadata": {},
   "outputs": [
    {
     "data": {
      "text/plain": [
       "A    0.868973\n",
       "B   -0.656521\n",
       "Name: 2013-01-02 00:00:00, dtype: float64"
      ]
     },
     "execution_count": 121,
     "metadata": {},
     "output_type": "execute_result"
    }
   ],
   "source": [
    "# Reduction in the dimensions of the returned object \n",
    "df.loc['20130102',['A','B']] "
   ]
  },
  {
   "cell_type": "code",
   "execution_count": 122,
   "id": "7277fa09-d907-4c8e-8159-e613509a91f4",
   "metadata": {},
   "outputs": [
    {
     "data": {
      "text/plain": [
       "2.000382169090352"
      ]
     },
     "execution_count": 122,
     "metadata": {},
     "output_type": "execute_result"
    }
   ],
   "source": [
    "# For getting a scalar value \n",
    "df.loc[dates[0],'A'] "
   ]
  },
  {
   "cell_type": "code",
   "execution_count": 123,
   "id": "c2efd979-b3c2-4a0e-8318-0ad23bca2497",
   "metadata": {},
   "outputs": [
    {
     "data": {
      "text/plain": [
       "2.000382169090352"
      ]
     },
     "execution_count": 123,
     "metadata": {},
     "output_type": "execute_result"
    }
   ],
   "source": [
    "# For getting fast access to a scalar \n",
    "df.at[dates[0],'A'] "
   ]
  },
  {
   "cell_type": "code",
   "execution_count": 124,
   "id": "033ecc4c-e485-4655-8596-544c46fb5384",
   "metadata": {},
   "outputs": [
    {
     "data": {
      "text/plain": [
       "A   -0.034830\n",
       "B    0.375967\n",
       "C   -0.003649\n",
       "D   -0.974922\n",
       "Name: 2013-01-04 00:00:00, dtype: float64"
      ]
     },
     "execution_count": 124,
     "metadata": {},
     "output_type": "execute_result"
    }
   ],
   "source": [
    "# Select via the position of the passed integers \n",
    "df.iloc[3] "
   ]
  },
  {
   "cell_type": "code",
   "execution_count": 125,
   "id": "7458394e-c141-4607-bc36-d25bcaf39559",
   "metadata": {},
   "outputs": [
    {
     "data": {
      "text/html": [
       "<div>\n",
       "<style scoped>\n",
       "    .dataframe tbody tr th:only-of-type {\n",
       "        vertical-align: middle;\n",
       "    }\n",
       "\n",
       "    .dataframe tbody tr th {\n",
       "        vertical-align: top;\n",
       "    }\n",
       "\n",
       "    .dataframe thead th {\n",
       "        text-align: right;\n",
       "    }\n",
       "</style>\n",
       "<table border=\"1\" class=\"dataframe\">\n",
       "  <thead>\n",
       "    <tr style=\"text-align: right;\">\n",
       "      <th></th>\n",
       "      <th>A</th>\n",
       "      <th>B</th>\n",
       "    </tr>\n",
       "  </thead>\n",
       "  <tbody>\n",
       "    <tr>\n",
       "      <th>2013-01-04</th>\n",
       "      <td>-0.034830</td>\n",
       "      <td>0.375967</td>\n",
       "    </tr>\n",
       "    <tr>\n",
       "      <th>2013-01-05</th>\n",
       "      <td>0.684223</td>\n",
       "      <td>0.281003</td>\n",
       "    </tr>\n",
       "  </tbody>\n",
       "</table>\n",
       "</div>"
      ],
      "text/plain": [
       "                   A         B\n",
       "2013-01-04 -0.034830  0.375967\n",
       "2013-01-05  0.684223  0.281003"
      ]
     },
     "execution_count": 125,
     "metadata": {},
     "output_type": "execute_result"
    }
   ],
   "source": [
    "# By integer slices, acting similar to numpy/python \n",
    "df.iloc[3:5,0:2] "
   ]
  },
  {
   "cell_type": "code",
   "execution_count": 127,
   "id": "edc797da-aa68-4696-8bd3-1ae2ab9fb779",
   "metadata": {},
   "outputs": [
    {
     "data": {
      "text/html": [
       "<div>\n",
       "<style scoped>\n",
       "    .dataframe tbody tr th:only-of-type {\n",
       "        vertical-align: middle;\n",
       "    }\n",
       "\n",
       "    .dataframe tbody tr th {\n",
       "        vertical-align: top;\n",
       "    }\n",
       "\n",
       "    .dataframe thead th {\n",
       "        text-align: right;\n",
       "    }\n",
       "</style>\n",
       "<table border=\"1\" class=\"dataframe\">\n",
       "  <thead>\n",
       "    <tr style=\"text-align: right;\">\n",
       "      <th></th>\n",
       "      <th>A</th>\n",
       "      <th>C</th>\n",
       "    </tr>\n",
       "  </thead>\n",
       "  <tbody>\n",
       "    <tr>\n",
       "      <th>2013-01-02</th>\n",
       "      <td>0.868973</td>\n",
       "      <td>-0.102029</td>\n",
       "    </tr>\n",
       "    <tr>\n",
       "      <th>2013-01-03</th>\n",
       "      <td>0.927506</td>\n",
       "      <td>-0.614790</td>\n",
       "    </tr>\n",
       "    <tr>\n",
       "      <th>2013-01-05</th>\n",
       "      <td>0.684223</td>\n",
       "      <td>2.216992</td>\n",
       "    </tr>\n",
       "  </tbody>\n",
       "</table>\n",
       "</div>"
      ],
      "text/plain": [
       "                   A         C\n",
       "2013-01-02  0.868973 -0.102029\n",
       "2013-01-03  0.927506 -0.614790\n",
       "2013-01-05  0.684223  2.216992"
      ]
     },
     "execution_count": 127,
     "metadata": {},
     "output_type": "execute_result"
    }
   ],
   "source": [
    "#By lists of integer position locations, similar to the numpy/python style\n",
    "df.iloc[[1,2,4],[0,2]]"
   ]
  },
  {
   "cell_type": "code",
   "execution_count": 128,
   "id": "167abf9e-726d-40d7-84fa-2b62d19fe4cc",
   "metadata": {},
   "outputs": [
    {
     "data": {
      "text/html": [
       "<div>\n",
       "<style scoped>\n",
       "    .dataframe tbody tr th:only-of-type {\n",
       "        vertical-align: middle;\n",
       "    }\n",
       "\n",
       "    .dataframe tbody tr th {\n",
       "        vertical-align: top;\n",
       "    }\n",
       "\n",
       "    .dataframe thead th {\n",
       "        text-align: right;\n",
       "    }\n",
       "</style>\n",
       "<table border=\"1\" class=\"dataframe\">\n",
       "  <thead>\n",
       "    <tr style=\"text-align: right;\">\n",
       "      <th></th>\n",
       "      <th>B</th>\n",
       "      <th>C</th>\n",
       "    </tr>\n",
       "  </thead>\n",
       "  <tbody>\n",
       "    <tr>\n",
       "      <th>2013-01-01</th>\n",
       "      <td>-1.026013</td>\n",
       "      <td>-1.628061</td>\n",
       "    </tr>\n",
       "    <tr>\n",
       "      <th>2013-01-02</th>\n",
       "      <td>-0.656521</td>\n",
       "      <td>-0.102029</td>\n",
       "    </tr>\n",
       "    <tr>\n",
       "      <th>2013-01-03</th>\n",
       "      <td>0.607261</td>\n",
       "      <td>-0.614790</td>\n",
       "    </tr>\n",
       "    <tr>\n",
       "      <th>2013-01-04</th>\n",
       "      <td>0.375967</td>\n",
       "      <td>-0.003649</td>\n",
       "    </tr>\n",
       "    <tr>\n",
       "      <th>2013-01-05</th>\n",
       "      <td>0.281003</td>\n",
       "      <td>2.216992</td>\n",
       "    </tr>\n",
       "    <tr>\n",
       "      <th>2013-01-06</th>\n",
       "      <td>0.667907</td>\n",
       "      <td>-1.316956</td>\n",
       "    </tr>\n",
       "  </tbody>\n",
       "</table>\n",
       "</div>"
      ],
      "text/plain": [
       "                   B         C\n",
       "2013-01-01 -1.026013 -1.628061\n",
       "2013-01-02 -0.656521 -0.102029\n",
       "2013-01-03  0.607261 -0.614790\n",
       "2013-01-04  0.375967 -0.003649\n",
       "2013-01-05  0.281003  2.216992\n",
       "2013-01-06  0.667907 -1.316956"
      ]
     },
     "execution_count": 128,
     "metadata": {},
     "output_type": "execute_result"
    }
   ],
   "source": [
    "# For slicing rows explicitly\n",
    "df.iloc[:,1:3] "
   ]
  },
  {
   "cell_type": "code",
   "execution_count": 129,
   "id": "a4031d72-5882-4ef2-97e6-bde074e45aad",
   "metadata": {},
   "outputs": [
    {
     "data": {
      "text/plain": [
       "-0.6565209476802717"
      ]
     },
     "execution_count": 129,
     "metadata": {},
     "output_type": "execute_result"
    }
   ],
   "source": [
    "# For getting a value explicitly \n",
    "df.iloc[1,1] "
   ]
  },
  {
   "cell_type": "code",
   "execution_count": 130,
   "id": "53dbbe80-4277-42d3-a4fe-4f63439ce335",
   "metadata": {},
   "outputs": [
    {
     "data": {
      "text/html": [
       "<div>\n",
       "<style scoped>\n",
       "    .dataframe tbody tr th:only-of-type {\n",
       "        vertical-align: middle;\n",
       "    }\n",
       "\n",
       "    .dataframe tbody tr th {\n",
       "        vertical-align: top;\n",
       "    }\n",
       "\n",
       "    .dataframe thead th {\n",
       "        text-align: right;\n",
       "    }\n",
       "</style>\n",
       "<table border=\"1\" class=\"dataframe\">\n",
       "  <thead>\n",
       "    <tr style=\"text-align: right;\">\n",
       "      <th></th>\n",
       "      <th>A</th>\n",
       "      <th>B</th>\n",
       "      <th>C</th>\n",
       "      <th>D</th>\n",
       "    </tr>\n",
       "  </thead>\n",
       "  <tbody>\n",
       "    <tr>\n",
       "      <th>2013-01-01</th>\n",
       "      <td>2.000382</td>\n",
       "      <td>-1.026013</td>\n",
       "      <td>-1.628061</td>\n",
       "      <td>1.896950</td>\n",
       "    </tr>\n",
       "    <tr>\n",
       "      <th>2013-01-02</th>\n",
       "      <td>0.868973</td>\n",
       "      <td>-0.656521</td>\n",
       "      <td>-0.102029</td>\n",
       "      <td>0.293518</td>\n",
       "    </tr>\n",
       "    <tr>\n",
       "      <th>2013-01-03</th>\n",
       "      <td>0.927506</td>\n",
       "      <td>0.607261</td>\n",
       "      <td>-0.614790</td>\n",
       "      <td>0.411855</td>\n",
       "    </tr>\n",
       "    <tr>\n",
       "      <th>2013-01-05</th>\n",
       "      <td>0.684223</td>\n",
       "      <td>0.281003</td>\n",
       "      <td>2.216992</td>\n",
       "      <td>0.286556</td>\n",
       "    </tr>\n",
       "  </tbody>\n",
       "</table>\n",
       "</div>"
      ],
      "text/plain": [
       "                   A         B         C         D\n",
       "2013-01-01  2.000382 -1.026013 -1.628061  1.896950\n",
       "2013-01-02  0.868973 -0.656521 -0.102029  0.293518\n",
       "2013-01-03  0.927506  0.607261 -0.614790  0.411855\n",
       "2013-01-05  0.684223  0.281003  2.216992  0.286556"
      ]
     },
     "execution_count": 130,
     "metadata": {},
     "output_type": "execute_result"
    }
   ],
   "source": [
    "# Using a single column’s values to select data. \n",
    "df[df.A > 0] "
   ]
  },
  {
   "cell_type": "code",
   "execution_count": 131,
   "id": "b2cb4c7a-189e-4a7e-8bbf-10b0bd7142cf",
   "metadata": {},
   "outputs": [
    {
     "data": {
      "text/html": [
       "<div>\n",
       "<style scoped>\n",
       "    .dataframe tbody tr th:only-of-type {\n",
       "        vertical-align: middle;\n",
       "    }\n",
       "\n",
       "    .dataframe tbody tr th {\n",
       "        vertical-align: top;\n",
       "    }\n",
       "\n",
       "    .dataframe thead th {\n",
       "        text-align: right;\n",
       "    }\n",
       "</style>\n",
       "<table border=\"1\" class=\"dataframe\">\n",
       "  <thead>\n",
       "    <tr style=\"text-align: right;\">\n",
       "      <th></th>\n",
       "      <th>A</th>\n",
       "      <th>B</th>\n",
       "      <th>C</th>\n",
       "      <th>D</th>\n",
       "    </tr>\n",
       "  </thead>\n",
       "  <tbody>\n",
       "    <tr>\n",
       "      <th>2013-01-01</th>\n",
       "      <td>2.000382</td>\n",
       "      <td>NaN</td>\n",
       "      <td>NaN</td>\n",
       "      <td>1.896950</td>\n",
       "    </tr>\n",
       "    <tr>\n",
       "      <th>2013-01-02</th>\n",
       "      <td>0.868973</td>\n",
       "      <td>NaN</td>\n",
       "      <td>NaN</td>\n",
       "      <td>0.293518</td>\n",
       "    </tr>\n",
       "    <tr>\n",
       "      <th>2013-01-03</th>\n",
       "      <td>0.927506</td>\n",
       "      <td>0.607261</td>\n",
       "      <td>NaN</td>\n",
       "      <td>0.411855</td>\n",
       "    </tr>\n",
       "    <tr>\n",
       "      <th>2013-01-04</th>\n",
       "      <td>NaN</td>\n",
       "      <td>0.375967</td>\n",
       "      <td>NaN</td>\n",
       "      <td>NaN</td>\n",
       "    </tr>\n",
       "    <tr>\n",
       "      <th>2013-01-05</th>\n",
       "      <td>0.684223</td>\n",
       "      <td>0.281003</td>\n",
       "      <td>2.216992</td>\n",
       "      <td>0.286556</td>\n",
       "    </tr>\n",
       "    <tr>\n",
       "      <th>2013-01-06</th>\n",
       "      <td>NaN</td>\n",
       "      <td>0.667907</td>\n",
       "      <td>NaN</td>\n",
       "      <td>NaN</td>\n",
       "    </tr>\n",
       "  </tbody>\n",
       "</table>\n",
       "</div>"
      ],
      "text/plain": [
       "                   A         B         C         D\n",
       "2013-01-01  2.000382       NaN       NaN  1.896950\n",
       "2013-01-02  0.868973       NaN       NaN  0.293518\n",
       "2013-01-03  0.927506  0.607261       NaN  0.411855\n",
       "2013-01-04       NaN  0.375967       NaN       NaN\n",
       "2013-01-05  0.684223  0.281003  2.216992  0.286556\n",
       "2013-01-06       NaN  0.667907       NaN       NaN"
      ]
     },
     "execution_count": 131,
     "metadata": {},
     "output_type": "execute_result"
    }
   ],
   "source": [
    "# Selecting values from a DataFrame where a boolean condition is met.\n",
    "df[df > 0] "
   ]
  },
  {
   "cell_type": "code",
   "execution_count": 132,
   "id": "3962ae22-cf13-4aa8-b536-1c8320adc1b5",
   "metadata": {},
   "outputs": [],
   "source": [
    "# Using the isin() method for filtering:\n",
    "df2 = df.copy() "
   ]
  },
  {
   "cell_type": "code",
   "execution_count": 133,
   "id": "44932ab0-9eb7-414d-b3ec-d0977dc5aeb7",
   "metadata": {},
   "outputs": [],
   "source": [
    "df2['E'] = ['one', 'one','two','three','four','three']"
   ]
  },
  {
   "cell_type": "code",
   "execution_count": 134,
   "id": "ec0fa57e-6dd7-467b-ac60-33b4e2aaccf2",
   "metadata": {},
   "outputs": [
    {
     "data": {
      "text/html": [
       "<div>\n",
       "<style scoped>\n",
       "    .dataframe tbody tr th:only-of-type {\n",
       "        vertical-align: middle;\n",
       "    }\n",
       "\n",
       "    .dataframe tbody tr th {\n",
       "        vertical-align: top;\n",
       "    }\n",
       "\n",
       "    .dataframe thead th {\n",
       "        text-align: right;\n",
       "    }\n",
       "</style>\n",
       "<table border=\"1\" class=\"dataframe\">\n",
       "  <thead>\n",
       "    <tr style=\"text-align: right;\">\n",
       "      <th></th>\n",
       "      <th>A</th>\n",
       "      <th>B</th>\n",
       "      <th>C</th>\n",
       "      <th>D</th>\n",
       "      <th>E</th>\n",
       "    </tr>\n",
       "  </thead>\n",
       "  <tbody>\n",
       "    <tr>\n",
       "      <th>2013-01-01</th>\n",
       "      <td>2.000382</td>\n",
       "      <td>-1.026013</td>\n",
       "      <td>-1.628061</td>\n",
       "      <td>1.896950</td>\n",
       "      <td>one</td>\n",
       "    </tr>\n",
       "    <tr>\n",
       "      <th>2013-01-02</th>\n",
       "      <td>0.868973</td>\n",
       "      <td>-0.656521</td>\n",
       "      <td>-0.102029</td>\n",
       "      <td>0.293518</td>\n",
       "      <td>one</td>\n",
       "    </tr>\n",
       "    <tr>\n",
       "      <th>2013-01-03</th>\n",
       "      <td>0.927506</td>\n",
       "      <td>0.607261</td>\n",
       "      <td>-0.614790</td>\n",
       "      <td>0.411855</td>\n",
       "      <td>two</td>\n",
       "    </tr>\n",
       "    <tr>\n",
       "      <th>2013-01-04</th>\n",
       "      <td>-0.034830</td>\n",
       "      <td>0.375967</td>\n",
       "      <td>-0.003649</td>\n",
       "      <td>-0.974922</td>\n",
       "      <td>three</td>\n",
       "    </tr>\n",
       "    <tr>\n",
       "      <th>2013-01-05</th>\n",
       "      <td>0.684223</td>\n",
       "      <td>0.281003</td>\n",
       "      <td>2.216992</td>\n",
       "      <td>0.286556</td>\n",
       "      <td>four</td>\n",
       "    </tr>\n",
       "    <tr>\n",
       "      <th>2013-01-06</th>\n",
       "      <td>-1.120403</td>\n",
       "      <td>0.667907</td>\n",
       "      <td>-1.316956</td>\n",
       "      <td>-1.763527</td>\n",
       "      <td>three</td>\n",
       "    </tr>\n",
       "  </tbody>\n",
       "</table>\n",
       "</div>"
      ],
      "text/plain": [
       "                   A         B         C         D      E\n",
       "2013-01-01  2.000382 -1.026013 -1.628061  1.896950    one\n",
       "2013-01-02  0.868973 -0.656521 -0.102029  0.293518    one\n",
       "2013-01-03  0.927506  0.607261 -0.614790  0.411855    two\n",
       "2013-01-04 -0.034830  0.375967 -0.003649 -0.974922  three\n",
       "2013-01-05  0.684223  0.281003  2.216992  0.286556   four\n",
       "2013-01-06 -1.120403  0.667907 -1.316956 -1.763527  three"
      ]
     },
     "execution_count": 134,
     "metadata": {},
     "output_type": "execute_result"
    }
   ],
   "source": [
    "df2"
   ]
  },
  {
   "cell_type": "code",
   "execution_count": 135,
   "id": "7bfae653-4261-47c6-bd47-57acc8a42fb4",
   "metadata": {},
   "outputs": [
    {
     "data": {
      "text/html": [
       "<div>\n",
       "<style scoped>\n",
       "    .dataframe tbody tr th:only-of-type {\n",
       "        vertical-align: middle;\n",
       "    }\n",
       "\n",
       "    .dataframe tbody tr th {\n",
       "        vertical-align: top;\n",
       "    }\n",
       "\n",
       "    .dataframe thead th {\n",
       "        text-align: right;\n",
       "    }\n",
       "</style>\n",
       "<table border=\"1\" class=\"dataframe\">\n",
       "  <thead>\n",
       "    <tr style=\"text-align: right;\">\n",
       "      <th></th>\n",
       "      <th>A</th>\n",
       "      <th>B</th>\n",
       "      <th>C</th>\n",
       "      <th>D</th>\n",
       "      <th>E</th>\n",
       "    </tr>\n",
       "  </thead>\n",
       "  <tbody>\n",
       "    <tr>\n",
       "      <th>2013-01-03</th>\n",
       "      <td>0.927506</td>\n",
       "      <td>0.607261</td>\n",
       "      <td>-0.614790</td>\n",
       "      <td>0.411855</td>\n",
       "      <td>two</td>\n",
       "    </tr>\n",
       "    <tr>\n",
       "      <th>2013-01-05</th>\n",
       "      <td>0.684223</td>\n",
       "      <td>0.281003</td>\n",
       "      <td>2.216992</td>\n",
       "      <td>0.286556</td>\n",
       "      <td>four</td>\n",
       "    </tr>\n",
       "  </tbody>\n",
       "</table>\n",
       "</div>"
      ],
      "text/plain": [
       "                   A         B         C         D     E\n",
       "2013-01-03  0.927506  0.607261 -0.614790  0.411855   two\n",
       "2013-01-05  0.684223  0.281003  2.216992  0.286556  four"
      ]
     },
     "execution_count": 135,
     "metadata": {},
     "output_type": "execute_result"
    }
   ],
   "source": [
    "df2[df2['E'].isin(['two','four'])] "
   ]
  },
  {
   "cell_type": "code",
   "execution_count": null,
   "id": "15422119-5a8a-410b-9cc2-cea5d3258b07",
   "metadata": {},
   "outputs": [],
   "source": []
  }
 ],
 "metadata": {
  "kernelspec": {
   "display_name": "Python 3 (ipykernel)",
   "language": "python",
   "name": "python3"
  },
  "language_info": {
   "codemirror_mode": {
    "name": "ipython",
    "version": 3
   },
   "file_extension": ".py",
   "mimetype": "text/x-python",
   "name": "python",
   "nbconvert_exporter": "python",
   "pygments_lexer": "ipython3",
   "version": "3.12.7"
  }
 },
 "nbformat": 4,
 "nbformat_minor": 5
}
